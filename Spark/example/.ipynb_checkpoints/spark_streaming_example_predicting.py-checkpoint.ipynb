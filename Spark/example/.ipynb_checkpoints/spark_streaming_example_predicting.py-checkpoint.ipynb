{
 "cells": [
  {
   "cell_type": "code",
   "execution_count": 1,
   "metadata": {},
   "outputs": [
    {
     "data": {
      "text/html": [
       "<style>.container { width:95% !important; }</style>"
      ],
      "text/plain": [
       "<IPython.core.display.HTML object>"
      ]
     },
     "metadata": {},
     "output_type": "display_data"
    }
   ],
   "source": [
    "from IPython.core.display import display, HTML\n",
    "display(HTML(\"<style>.container { width:95% !important; }</style>\"))"
   ]
  },
  {
   "cell_type": "code",
   "execution_count": 2,
   "metadata": {},
   "outputs": [],
   "source": [
    "from threading import Thread\n",
    "\n",
    "class StreamingThread(Thread):\n",
    "    def __init__(self, ssc):\n",
    "        Thread.__init__(self)\n",
    "        self.ssc = ssc\n",
    "    def run(self):\n",
    "        ssc.start()\n",
    "        ssc.awaitTermination()\n",
    "    def stop(self):\n",
    "        print('----- Stopping... this may take a few seconds -----')\n",
    "        self.ssc.stop(stopSparkContext=False, stopGraceFully=True)"
   ]
  },
  {
   "cell_type": "code",
   "execution_count": 3,
   "metadata": {
    "scrolled": true
   },
   "outputs": [
    {
     "data": {
      "text/html": [
       "\n",
       "        <div>\n",
       "            <p><b>SparkContext</b></p>\n",
       "\n",
       "            <p><a href=\"http://DESKTOP-FLMENN6:4044\">Spark UI</a></p>\n",
       "\n",
       "            <dl>\n",
       "              <dt>Version</dt>\n",
       "                <dd><code>v2.4.5</code></dd>\n",
       "              <dt>Master</dt>\n",
       "                <dd><code>local[*]</code></dd>\n",
       "              <dt>AppName</dt>\n",
       "                <dd><code>PySparkShell</code></dd>\n",
       "            </dl>\n",
       "        </div>\n",
       "        "
      ],
      "text/plain": [
       "<SparkContext master=local[*] appName=PySparkShell>"
      ]
     },
     "execution_count": 3,
     "metadata": {},
     "output_type": "execute_result"
    }
   ],
   "source": [
    "sc"
   ]
  },
  {
   "cell_type": "code",
   "execution_count": 4,
   "metadata": {},
   "outputs": [
    {
     "data": {
      "text/html": [
       "\n",
       "            <div>\n",
       "                <p><b>SparkSession - hive</b></p>\n",
       "                \n",
       "        <div>\n",
       "            <p><b>SparkContext</b></p>\n",
       "\n",
       "            <p><a href=\"http://DESKTOP-FLMENN6:4044\">Spark UI</a></p>\n",
       "\n",
       "            <dl>\n",
       "              <dt>Version</dt>\n",
       "                <dd><code>v2.4.5</code></dd>\n",
       "              <dt>Master</dt>\n",
       "                <dd><code>local[*]</code></dd>\n",
       "              <dt>AppName</dt>\n",
       "                <dd><code>PySparkShell</code></dd>\n",
       "            </dl>\n",
       "        </div>\n",
       "        \n",
       "            </div>\n",
       "        "
      ],
      "text/plain": [
       "<pyspark.sql.session.SparkSession at 0x2076fd016c8>"
      ]
     },
     "execution_count": 4,
     "metadata": {},
     "output_type": "execute_result"
    }
   ],
   "source": [
    "spark"
   ]
  },
  {
   "cell_type": "code",
   "execution_count": 5,
   "metadata": {},
   "outputs": [],
   "source": [
    "from pyspark.streaming import StreamingContext\n",
    "from pyspark.sql import Row\n",
    "from pyspark.sql.functions import udf, struct, array, col, lit\n",
    "from pyspark.sql.types import StringType"
   ]
  },
  {
   "cell_type": "code",
   "execution_count": 6,
   "metadata": {},
   "outputs": [],
   "source": [
    "from difflib import unified_diff\n",
    "\n",
    "def make_diff(old, new):\n",
    "    return '\\n'.join([ l for l in unified_diff(old.split('\\n'), new.split('\\n')) if l.startswith('+') or l.startswith('-') ])"
   ]
  },
  {
   "cell_type": "code",
   "execution_count": 7,
   "metadata": {},
   "outputs": [],
   "source": [
    "globals()['models_loaded'] = False\n",
    "\n",
    "def predict(df):\n",
    "    if any([x in df.diff.lower() for x in ['bad', 'lol', 'joke']]):\n",
    "        return 'vandal'\n",
    "    else:\n",
    "        return 'safe'\n",
    "\n",
    "predict_udf = udf(predict, StringType())\n",
    "\n",
    "def process(time, rdd):\n",
    "    if rdd.isEmpty():\n",
    "        return\n",
    "    \n",
    "    print(\"========= %s =========\" % str(time))\n",
    "    \n",
    "    # Convert to data frame\n",
    "    df = spark.read.json(rdd)\n",
    "    df.show()\n",
    "    \n",
    "    # Tip: making a diff will probably help a lot as a feature in any model:\n",
    "    diff = make_diff(df.first().text_old, df.first().text_new)\n",
    "    df_withdiff = df.withColumn(\"diff\", lit(diff))\n",
    "    df_withdiff.select('diff').show()\n",
    "    \n",
    "    # Utilize our predict function\n",
    "    df_withpreds = df_withdiff.withColumn(\"pred\", predict_udf(\n",
    "        struct([df_withdiff[x] for x in df_withdiff.columns])\n",
    "    ))\n",
    "    df_withpreds.show()\n",
    "    \n",
    "    # Normally, you wouldn't use a UDF (User Defined Function) Python function to predict (you can)\n",
    "    # But an MLlib model you've built and saved with Spark\n",
    "    # In this case, you need to prevent loading your model in every call to \"process\" as follows:\n",
    "    \n",
    "    # Load in the model if not yet loaded:\n",
    "    if not globals()['models_loaded']:\n",
    "        # load in your models here\n",
    "        globals()['my_model'] = '***' # Replace '***' with:    [...].load('my_logistic_regression')\n",
    "        globals()['models_loaded'] = True\n",
    "        \n",
    "    # And then predict using the loaded model: \n",
    "    # df_result = globals()['my_model'].transform(df)\n",
    "    # df_result.show()"
   ]
  },
  {
   "cell_type": "code",
   "execution_count": 8,
   "metadata": {},
   "outputs": [],
   "source": [
    "ssc = StreamingContext(sc, 10)"
   ]
  },
  {
   "cell_type": "code",
   "execution_count": 9,
   "metadata": {
    "scrolled": true
   },
   "outputs": [],
   "source": [
    "lines = ssc.socketTextStream(\"seppe.net\", 7778)\n",
    "lines.foreachRDD(process)"
   ]
  },
  {
   "cell_type": "code",
   "execution_count": 10,
   "metadata": {
    "scrolled": false
   },
   "outputs": [
    {
     "name": "stdout",
     "output_type": "stream",
     "text": [
      "========= 2020-03-28 17:14:30 =========\n",
      "+--------------------+-----+------------+--------------------+--------------------+--------------------+--------------------+\n",
      "|             comment|label|   name_user|            text_new|            text_old|          title_page|            url_page|\n",
      "+--------------------+-----+------------+--------------------+--------------------+--------------------+--------------------+\n",
      "|Fixed a typo foun...| safe| Ira Leviton|{{Infobox company...|{{Infobox company...|  Ebony Fashion Fair|//en.wikipedia.or...|\n",
      "| maintainedMOS:ORDER| safe|Assem Khidhr|{{Infobox philoso...|{{Infobox philoso...|Mohammed Abed al-...|//en.wikipedia.or...|\n",
      "+--------------------+-----+------------+--------------------+--------------------+--------------------+--------------------+\n",
      "\n",
      "+--------------------+\n",
      "|                diff|\n",
      "+--------------------+\n",
      "|--- \n",
      "\n",
      "+++ \n",
      "\n",
      "-In 1...|\n",
      "|--- \n",
      "\n",
      "+++ \n",
      "\n",
      "-In 1...|\n",
      "+--------------------+\n",
      "\n",
      "+--------------------+-----+------------+--------------------+--------------------+--------------------+--------------------+--------------------+----+\n",
      "|             comment|label|   name_user|            text_new|            text_old|          title_page|            url_page|                diff|pred|\n",
      "+--------------------+-----+------------+--------------------+--------------------+--------------------+--------------------+--------------------+----+\n",
      "|Fixed a typo foun...| safe| Ira Leviton|{{Infobox company...|{{Infobox company...|  Ebony Fashion Fair|//en.wikipedia.or...|--- \n",
      "\n",
      "+++ \n",
      "\n",
      "-In 1...|safe|\n",
      "| maintainedMOS:ORDER| safe|Assem Khidhr|{{Infobox philoso...|{{Infobox philoso...|Mohammed Abed al-...|//en.wikipedia.or...|--- \n",
      "\n",
      "+++ \n",
      "\n",
      "-In 1...|safe|\n",
      "+--------------------+-----+------------+--------------------+--------------------+--------------------+--------------------+--------------------+----+\n",
      "\n",
      "========= 2020-03-28 17:14:40 =========\n"
     ]
    }
   ],
   "source": [
    "ssc_t = StreamingThread(ssc)\n",
    "ssc_t.start()"
   ]
  },
  {
   "cell_type": "code",
   "execution_count": 11,
   "metadata": {
    "scrolled": true
   },
   "outputs": [
    {
     "name": "stdout",
     "output_type": "stream",
     "text": [
      "----- Stopping... this may take a few seconds -----\n",
      "+--------------------+-----+--------------+--------------------+--------------------+--------------------+--------------------+\n",
      "|             comment|label|     name_user|            text_new|            text_old|          title_page|            url_page|\n",
      "+--------------------+-----+--------------+--------------------+--------------------+--------------------+--------------------+\n",
      "|                    | safe|AnotherWhisker|{{short descripti...|{{short descripti...|2019–20 coronavir...|//en.wikipedia.or...|\n",
      "|syntax, per Webst...| safe|    Nedhartley|{{BLP sources|dat...|{{BLP sources|dat...|           Jem Cohen|//en.wikipedia.or...|\n",
      "|→‎Discography:del...| safe|        Michig|{{Use American En...|{{Use American En...|      Ivan & Alyosha|//en.wikipedia.or...|\n",
      "+--------------------+-----+--------------+--------------------+--------------------+--------------------+--------------------+\n",
      "\n",
      "+--------------------+\n",
      "|                diff|\n",
      "+--------------------+\n",
      "|--- \n",
      "\n",
      "+++ \n",
      "\n",
      "-| co...|\n",
      "|--- \n",
      "\n",
      "+++ \n",
      "\n",
      "-| co...|\n",
      "|--- \n",
      "\n",
      "+++ \n",
      "\n",
      "-| co...|\n",
      "+--------------------+\n",
      "\n",
      "+--------------------+-----+--------------+--------------------+--------------------+--------------------+--------------------+--------------------+----+\n",
      "|             comment|label|     name_user|            text_new|            text_old|          title_page|            url_page|                diff|pred|\n",
      "+--------------------+-----+--------------+--------------------+--------------------+--------------------+--------------------+--------------------+----+\n",
      "|                    | safe|AnotherWhisker|{{short descripti...|{{short descripti...|2019–20 coronavir...|//en.wikipedia.or...|--- \n",
      "\n",
      "+++ \n",
      "\n",
      "-| co...|safe|\n",
      "|syntax, per Webst...| safe|    Nedhartley|{{BLP sources|dat...|{{BLP sources|dat...|           Jem Cohen|//en.wikipedia.or...|--- \n",
      "\n",
      "+++ \n",
      "\n",
      "-| co...|safe|\n",
      "|→‎Discography:del...| safe|        Michig|{{Use American En...|{{Use American En...|      Ivan & Alyosha|//en.wikipedia.or...|--- \n",
      "\n",
      "+++ \n",
      "\n",
      "-| co...|safe|\n",
      "+--------------------+-----+--------------+--------------------+--------------------+--------------------+--------------------+--------------------+----+\n",
      "\n",
      "========= 2020-03-28 17:14:50 =========\n",
      "+-------+-----+-------------+--------------------+--------------------+------------+--------------------+\n",
      "|comment|label|    name_user|            text_new|            text_old|  title_page|            url_page|\n",
      "+-------+-----+-------------+--------------------+--------------------+------------+--------------------+\n",
      "|       | safe|Ghettoblaster|{{About-distingui...|{{About-distingui...|Apache Samza|//en.wikipedia.or...|\n",
      "+-------+-----+-------------+--------------------+--------------------+------------+--------------------+\n",
      "\n",
      "+--------------------+\n",
      "|                diff|\n",
      "+--------------------+\n",
      "|--- \n",
      "\n",
      "+++ \n",
      "\n",
      "-{{mo...|\n",
      "+--------------------+\n",
      "\n",
      "+-------+-----+-------------+--------------------+--------------------+------------+--------------------+--------------------+----+\n",
      "|comment|label|    name_user|            text_new|            text_old|  title_page|            url_page|                diff|pred|\n",
      "+-------+-----+-------------+--------------------+--------------------+------------+--------------------+--------------------+----+\n",
      "|       | safe|Ghettoblaster|{{About-distingui...|{{About-distingui...|Apache Samza|//en.wikipedia.or...|--- \n",
      "\n",
      "+++ \n",
      "\n",
      "-{{mo...|safe|\n",
      "+-------+-----+-------------+--------------------+--------------------+------------+--------------------+--------------------+----+\n",
      "\n"
     ]
    }
   ],
   "source": [
    "ssc_t.stop()"
   ]
  },
  {
   "cell_type": "code",
   "execution_count": null,
   "metadata": {},
   "outputs": [],
   "source": []
  }
 ],
 "metadata": {
  "kernelspec": {
   "display_name": "Python 3",
   "language": "python",
   "name": "python3"
  },
  "language_info": {
   "codemirror_mode": {
    "name": "ipython",
    "version": 3
   },
   "file_extension": ".py",
   "mimetype": "text/x-python",
   "name": "python",
   "nbconvert_exporter": "python",
   "pygments_lexer": "ipython3",
   "version": "3.7.4"
  },
  "toc": {
   "base_numbering": 1,
   "nav_menu": {},
   "number_sections": true,
   "sideBar": true,
   "skip_h1_title": false,
   "title_cell": "Table of Contents",
   "title_sidebar": "Contents",
   "toc_cell": false,
   "toc_position": {},
   "toc_section_display": true,
   "toc_window_display": false
  }
 },
 "nbformat": 4,
 "nbformat_minor": 2
}
