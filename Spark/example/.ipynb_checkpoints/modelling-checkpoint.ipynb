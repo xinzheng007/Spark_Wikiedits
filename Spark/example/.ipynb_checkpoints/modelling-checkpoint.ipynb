{
 "cells": [
  {
   "cell_type": "markdown",
   "metadata": {},
   "source": [
    "# Modelling\n",
    "\n",
    "*TODO*: describe what the notebook is about"
   ]
  },
  {
   "cell_type": "markdown",
   "metadata": {},
   "source": [
    "# 0. Import libraries"
   ]
  },
  {
   "cell_type": "code",
   "execution_count": 2,
   "metadata": {
    "scrolled": false
   },
   "outputs": [
    {
     "data": {
      "text/html": [
       "<style>.container { width:95% !important; }</style>"
      ],
      "text/plain": [
       "<IPython.core.display.HTML object>"
      ]
     },
     "metadata": {},
     "output_type": "display_data"
    }
   ],
   "source": [
    "# Import libraries\n",
    "\n",
    "\n",
    "\n",
    "# data manipulation\n",
    "\n",
    "\n",
    "# visualize\n",
    "\n",
    "\n",
    "# pyspark\n",
    "\n",
    "\n",
    "# other\n",
    "from threading import Thread\n",
    "from IPython.core.display import display, HTML\n",
    "display(HTML(\"<style>.container { width:95% !important; }</style>\"))"
   ]
  },
  {
   "cell_type": "markdown",
   "metadata": {},
   "source": [
    "# 1. Load output from *preprocessing.ipynb*\n",
    "\n",
    "you can either \n",
    " - **option A**: run `preprocessing.ipynb` and `feature_engineering.ipynb` and perform the steps below to end up to the `tfidfDf`\n",
    " - **option B** just import the data via: `spark.read.parquet(\"../output/tfidfDf.parquet\")`"
   ]
  },
  {
   "cell_type": "markdown",
   "metadata": {},
   "source": [
    "## Option A"
   ]
  },
  {
   "cell_type": "markdown",
   "metadata": {},
   "source": [
    "### 1) *pre processing*: this more like data cleaning"
   ]
  },
  {
   "cell_type": "code",
   "execution_count": 2,
   "metadata": {},
   "outputs": [
    {
     "name": "stderr",
     "output_type": "stream",
     "text": [
      "\n",
      "Bad key \"text.kerning_factor\" on line 4 in\n",
      "C:\\Users\\Pieter-Jan\\Anaconda3\\lib\\site-packages\\matplotlib\\mpl-data\\stylelib\\_classic_test_patch.mplstyle.\n",
      "You probably need to get an updated matplotlibrc file from\n",
      "https://github.com/matplotlib/matplotlib/blob/v3.1.3/matplotlibrc.template\n",
      "or from the matplotlib source distribution\n"
     ]
    },
    {
     "data": {
      "text/html": [
       "<style>.container { width:95% !important; }</style>"
      ],
      "text/plain": [
       "<IPython.core.display.HTML object>"
      ]
     },
     "metadata": {},
     "output_type": "display_data"
    }
   ],
   "source": [
    "%run \"preprocessing.ipynb\""
   ]
  },
  {
   "cell_type": "code",
   "execution_count": 3,
   "metadata": {},
   "outputs": [],
   "source": [
    "# 1) preprocessing\n",
    "wiki_df = get_wiki_df(path=\"../data/subset/*\")\n",
    "clean_df = get_clean_df(wiki_df)\n",
    "# In order to get the actual difference column\n",
    "df_with_difference = get_difference_column(clean_df)\n",
    "final_df = split_difference_into_removed_added(df_with_difference)"
   ]
  },
  {
   "cell_type": "code",
   "execution_count": 4,
   "metadata": {},
   "outputs": [
    {
     "name": "stdout",
     "output_type": "stream",
     "text": [
      "+------+--------------------+--------------------+--------------------+--------------------+--------------------+--------------------+--------------------+\n",
      "| label|             comment|          title_page|           name_user|      clean_old_text|      clean_new_text|       removed_words|         added_words|\n",
      "+------+--------------------+--------------------+--------------------+--------------------+--------------------+--------------------+--------------------+\n",
      "|  safe|            map date|201920 coronaviru...|       raphal dunant|redirectcoronavir...|redirectcoronavir...|             [4, , ]|                [33]|\n",
      "|  safe|       typo viawpjwb|yemeni civil war ...|        alistair1978|other usesyemen w...|other usesyemen w...|[since, the, mid-...|[since, the, mid-...|\n",
      "|unsafe|               empty|                2019|         annettespry|pp-protectedsmall...|pp-protectedsmall...|[cameron, boyce, ...|             [empty]|\n",
      "|  safe|2327 marchbroke p...|2020 stock market...|commonknowledgecr...|pp-vandalismsmall...|pp-vandalismsmall...|[the, bank, of, j...|[, the, bank, of,...|\n",
      "|  safe|               empty|united states men...|              phikia|filetschroederjpg...|filetschroederjpg...|[goalkeepers, wit...|[goalkeepers, wit...|\n",
      "+------+--------------------+--------------------+--------------------+--------------------+--------------------+--------------------+--------------------+\n",
      "only showing top 5 rows\n",
      "\n"
     ]
    }
   ],
   "source": [
    "final_df.show(5)"
   ]
  },
  {
   "cell_type": "markdown",
   "metadata": {},
   "source": [
    "### 2) *feature engineering*:"
   ]
  },
  {
   "cell_type": "code",
   "execution_count": 7,
   "metadata": {},
   "outputs": [],
   "source": [
    "%run \"feature_engineering.ipynb\""
   ]
  },
  {
   "cell_type": "code",
   "execution_count": 8,
   "metadata": {},
   "outputs": [],
   "source": [
    "sampled_df = get_stratified_sample(df = final_df, fractions = {'safe': 0.15})\n",
    "\n",
    "tfidfDf = tfIdf(sampled_df, text_col_for_tf_idf = \"clean_new_text\", output_tf_idf_col = \"new_text_tf_idf_features\")\n",
    "tfidfDf = tfIdf(tfidfDf, text_col_for_tf_idf = \"clean_old_text\", output_tf_idf_col = \"old_text_tf_idf_features\")\n",
    "\n",
    "tfidfDf = extract_ngrams(tfidfDf, text_col_for_ngrams = \"removed_words\", output_col_for_ngrams = \"removed_words_ngrams_hash_features\")\n",
    "tfidfDf = extract_ngrams(tfidfDf, text_col_for_ngrams = \"added_words\", output_col_for_ngrams = \"added_words_ngrams_hash_features\")"
   ]
  },
  {
   "cell_type": "code",
   "execution_count": 9,
   "metadata": {
    "scrolled": true
   },
   "outputs": [
    {
     "name": "stdout",
     "output_type": "stream",
     "text": [
      "+------+--------------------+--------------+--------------------+--------------------+--------------------+--------------------+--------------------+------------------------+------------------------+----------------------------------+--------------------------------+\n",
      "| label|             comment|    title_page|           name_user|      clean_old_text|      clean_new_text|       removed_words|         added_words|new_text_tf_idf_features|old_text_tf_idf_features|removed_words_ngrams_hash_features|added_words_ngrams_hash_features|\n",
      "+------+--------------------+--------------+--------------------+--------------------+--------------------+--------------------+--------------------+------------------------+------------------------+----------------------------------+--------------------------------+\n",
      "|unsafe|               empty|          2019|         annettespry|pp-protectedsmall...|pp-protectedsmall...|[cameron, boyce, ...|             [empty]|    (20,[0,1,2,3,4,5,...|    (20,[0,1,2,3,4,5,...|              (20,[6,9,11,13,16...|                      (20,[],[])|\n",
      "|  safe|date formats perm...| boris johnson|             alarics|redirectbojoother...|redirectbojoother...|[use, dmy, datesd...|[use, dmy, datesd...|    (20,[0,1,2,3,4,5,...|    (20,[0,1,2,3,4,5,...|              (20,[0,1,3,4,5,6,...|            (20,[1,2,3,4,5,6,...|\n",
      "|unsafe|               empty|   axis powers|26046000151382358...|short description...|short description...|[mainfascist, ita...|[mainkingdom, of,...|    (20,[0,1,2,3,4,5,...|    (20,[0,1,2,3,4,5,...|              (20,[0,2,5,6,7,8,...|            (20,[0,6,7,8,10,1...|\n",
      "|unsafe|               empty|ottoman empire|          1062085273|pp-pc1short descr...|pp-pc1short descr...|[commonname, otto...|[commonname, otto...|    (20,[0,1,2,3,4,5,...|    (20,[0,1,2,3,4,5,...|              (20,[1,3,4,5,6,8,...|            (20,[3,8,10,11,12...|\n",
      "|  safe|gameographyrm ''t...|     pewdiepie|            soulbust|pp-blpsmallyessho...|pp-blpsmallyessho...|[websitegamer, ne...|[websitenintendol...|    (20,[0,1,2,3,4,5,...|    (20,[0,1,2,3,4,5,...|              (20,[7,12,13],[1....|            (20,[0,1,3,4,8,9,...|\n",
      "+------+--------------------+--------------+--------------------+--------------------+--------------------+--------------------+--------------------+------------------------+------------------------+----------------------------------+--------------------------------+\n",
      "only showing top 5 rows\n",
      "\n"
     ]
    }
   ],
   "source": [
    "tfidfDf.show(5)"
   ]
  },
  {
   "cell_type": "markdown",
   "metadata": {},
   "source": [
    "## Option B"
   ]
  },
  {
   "cell_type": "code",
   "execution_count": 10,
   "metadata": {},
   "outputs": [],
   "source": [
    "tfidfDf = spark.read.parquet(\"../output/output_tfidfDf.parquet\")"
   ]
  },
  {
   "cell_type": "code",
   "execution_count": 11,
   "metadata": {},
   "outputs": [
    {
     "name": "stdout",
     "output_type": "stream",
     "text": [
      "+------+--------------------+--------------+--------------------+--------------------+--------------------+--------------------+--------------------+------------------------+------------------------+----------------------------------+--------------------------------+\n",
      "| label|             comment|    title_page|           name_user|      clean_old_text|      clean_new_text|       removed_words|         added_words|new_text_tf_idf_features|old_text_tf_idf_features|removed_words_ngrams_hash_features|added_words_ngrams_hash_features|\n",
      "+------+--------------------+--------------+--------------------+--------------------+--------------------+--------------------+--------------------+------------------------+------------------------+----------------------------------+--------------------------------+\n",
      "|unsafe|               empty|          2019|         annettespry|pp-protectedsmall...|pp-protectedsmall...|[cameron, boyce, ...|             [empty]|    (20,[0,1,2,3,4,5,...|    (20,[0,1,2,3,4,5,...|              (20,[6,9,11,13,16...|                      (20,[],[])|\n",
      "|  safe|date formats perm...| boris johnson|             alarics|redirectbojoother...|redirectbojoother...|[use, dmy, datesd...|[use, dmy, datesd...|    (20,[0,1,2,3,4,5,...|    (20,[0,1,2,3,4,5,...|              (20,[0,1,3,4,5,6,...|            (20,[1,2,3,4,5,6,...|\n",
      "|unsafe|               empty|   axis powers|26046000151382358...|short description...|short description...|[mainfascist, ita...|[mainkingdom, of,...|    (20,[0,1,2,3,4,5,...|    (20,[0,1,2,3,4,5,...|              (20,[0,2,5,6,7,8,...|            (20,[0,6,7,8,10,1...|\n",
      "|unsafe|               empty|ottoman empire|          1062085273|pp-pc1short descr...|pp-pc1short descr...|[commonname, otto...|[commonname, otto...|    (20,[0,1,2,3,4,5,...|    (20,[0,1,2,3,4,5,...|              (20,[1,3,4,5,6,8,...|            (20,[3,8,10,11,12...|\n",
      "|  safe|gameographyrm ''t...|     pewdiepie|            soulbust|pp-blpsmallyessho...|pp-blpsmallyessho...|[websitegamer, ne...|[websitenintendol...|    (20,[0,1,2,3,4,5,...|    (20,[0,1,2,3,4,5,...|              (20,[7,12,13],[1....|            (20,[0,1,3,4,8,9,...|\n",
      "+------+--------------------+--------------+--------------------+--------------------+--------------------+--------------------+--------------------+------------------------+------------------------+----------------------------------+--------------------------------+\n",
      "only showing top 5 rows\n",
      "\n"
     ]
    }
   ],
   "source": [
    "tfidfDf.show(5)"
   ]
  }
 ],
 "metadata": {
  "kernelspec": {
   "display_name": "Python 3",
   "language": "python",
   "name": "python3"
  },
  "language_info": {
   "codemirror_mode": {
    "name": "ipython",
    "version": 3
   },
   "file_extension": ".py",
   "mimetype": "text/x-python",
   "name": "python",
   "nbconvert_exporter": "python",
   "pygments_lexer": "ipython3",
   "version": "3.7.3"
  }
 },
 "nbformat": 4,
 "nbformat_minor": 4
}
