{
 "cells": [
  {
   "cell_type": "markdown",
   "metadata": {},
   "source": [
    "<font size=\"6\">Main script to call functions from other scripts</font> "
   ]
  },
  {
   "cell_type": "markdown",
   "metadata": {},
   "source": [
    "#  Import libraries"
   ]
  },
  {
   "cell_type": "code",
   "execution_count": 1,
   "metadata": {
    "ExecuteTime": {
     "end_time": "2020-05-08T01:19:55.038284Z",
     "start_time": "2020-05-08T01:19:51.701071Z"
    }
   },
   "outputs": [
    {
     "name": "stderr",
     "output_type": "stream",
     "text": [
      "\n",
      "Bad key \"text.kerning_factor\" on line 4 in\n",
      "C:\\Users\\Pieter-Jan\\Anaconda3\\lib\\site-packages\\matplotlib\\mpl-data\\stylelib\\_classic_test_patch.mplstyle.\n",
      "You probably need to get an updated matplotlibrc file from\n",
      "https://github.com/matplotlib/matplotlib/blob/v3.1.3/matplotlibrc.template\n",
      "or from the matplotlib source distribution\n"
     ]
    }
   ],
   "source": [
    "# data manipulations\n",
    "import numpy as np\n",
    "import pandas as pd\n",
    "\n",
    "# pypark\n",
    "from pyspark.ml import PipelineModel  # to load the pipeline\n",
    "from threading import Thread\n",
    "from pyspark.streaming import StreamingContext\n",
    "\n",
    "# evaluation statistics\n",
    "from sklearn.metrics import confusion_matrix\n",
    "# performance evaluation\n",
    "from pyspark.ml.evaluation import MulticlassClassificationEvaluator\n",
    "from pyspark.mllib.evaluation import BinaryClassificationMetrics as metric\n",
    "from sklearn.metrics import confusion_matrix\n",
    "from sklearn.metrics import matthews_corrcoef\n",
    "from sklearn.metrics import cohen_kappa_score\n",
    "\n",
    "# visualize\n",
    "import matplotlib.pyplot as plt\n",
    "\n",
    "# own functions\n",
    "from functions.performance.metrics import plot_confusion_matrix "
   ]
  },
  {
   "cell_type": "code",
   "execution_count": 2,
   "metadata": {
    "ExecuteTime": {
     "end_time": "2020-05-08T01:19:57.891007Z",
     "start_time": "2020-05-08T01:19:57.535516Z"
    }
   },
   "outputs": [],
   "source": [
    "# when you change somehting in your own library (e.g. plot_confusion_matrix) it's automatically updated, you don't need to reimport\n",
    "%load_ext autoreload\n",
    "%autoreload 2"
   ]
  },
  {
   "cell_type": "markdown",
   "metadata": {},
   "source": [
    "# Global variables"
   ]
  },
  {
   "cell_type": "code",
   "execution_count": 3,
   "metadata": {
    "ExecuteTime": {
     "end_time": "2020-05-08T01:19:59.978971Z",
     "start_time": "2020-05-08T01:19:59.752223Z"
    }
   },
   "outputs": [
    {
     "name": "stdout",
     "output_type": "stream",
     "text": [
      "['bmh', 'classic', 'dark_background', 'fast', 'fivethirtyeight', 'ggplot', 'grayscale', 'seaborn-bright', 'seaborn-colorblind', 'seaborn-dark-palette', 'seaborn-dark', 'seaborn-darkgrid', 'seaborn-deep', 'seaborn-muted', 'seaborn-notebook', 'seaborn-paper', 'seaborn-pastel', 'seaborn-poster', 'seaborn-talk', 'seaborn-ticks', 'seaborn-white', 'seaborn-whitegrid', 'seaborn', 'Solarize_Light2', 'tableau-colorblind10', '_classic_test', '_classic_test_patch']\n"
     ]
    }
   ],
   "source": [
    "# avaialble plotting styles\n",
    "print(plt.style.available)\n",
    "plt.style.use('bmh')\n",
    "\n",
    "# global variables in CAPITAL letters\n",
    "PATH_LOAD_MODEL = \"../output/models/logistic_regression\"\n",
    "SAVE_PREDICTIONS = True # save predictions\n",
    "PATH_SAVE_PREDICTIONS = \"../../output/predictions/logistic_regression.parquet\" # where to save the predictions\n",
    "VERBOSE = True # print intermediate output"
   ]
  },
  {
   "cell_type": "markdown",
   "metadata": {},
   "source": [
    "# Get streaming instances"
   ]
  },
  {
   "cell_type": "code",
   "execution_count": 4,
   "metadata": {
    "ExecuteTime": {
     "end_time": "2020-05-04T19:20:17.583296Z",
     "start_time": "2020-05-04T19:20:17.338687Z"
    }
   },
   "outputs": [],
   "source": [
    "class StreamingThread(Thread):\n",
    "    def __init__(self, ssc):\n",
    "        Thread.__init__(self)\n",
    "        self.ssc = ssc\n",
    "    # Start stream\n",
    "    def run(self):\n",
    "        ssc.start()\n",
    "        ssc.awaitTermination()\n",
    "    # Stop stream\n",
    "    def stop(self):\n",
    "        print('----- Stopping... this may take a few seconds -----')\n",
    "        self.ssc.stop(stopSparkContext=False, stopGraceFully=True)"
   ]
  },
  {
   "cell_type": "markdown",
   "metadata": {},
   "source": [
    "#  Load Pipeline 1\n",
    "\n",
    "This pipeline cleans the data and get the data in the right format\n",
    "\n",
    "**TODO**\n",
    "\n",
    "```python\n",
    "instead of calling  %run \"pipeline1.ipynb\"  \n",
    "make a proper libary so we can call from functions.data_cleaning import pipeline1\n",
    "```\n",
    "for an example see \n",
    "\n",
    "```python \n",
    "from functions.performance.metrics import plot_confusion_matrix  \n",
    "```\n",
    "this is also a self defined library\n",
    "\n",
    "**Why?** now we have to uncomment code,  because we want to reuse the code in other notebooks,\n",
    "leaving it like this seems bit clumpsy"
   ]
  },
  {
   "cell_type": "code",
   "execution_count": 5,
   "metadata": {
    "ExecuteTime": {
     "end_time": "2020-05-04T19:20:23.839894Z",
     "start_time": "2020-05-04T19:20:21.045513Z"
    }
   },
   "outputs": [
    {
     "data": {
      "text/html": [
       "<style>.container { width:95% !important; }</style>"
      ],
      "text/plain": [
       "<IPython.core.display.HTML object>"
      ]
     },
     "metadata": {},
     "output_type": "display_data"
    }
   ],
   "source": [
    "# Initialize other notebooks\n",
    "%run \"pipeline1.ipynb\""
   ]
  },
  {
   "cell_type": "markdown",
   "metadata": {},
   "source": [
    "# Load Pipeline 2\n",
    "\n",
    "feature engineering steps and final prediction model"
   ]
  },
  {
   "cell_type": "code",
   "execution_count": 6,
   "metadata": {
    "ExecuteTime": {
     "end_time": "2020-05-04T19:20:53.224879Z",
     "start_time": "2020-05-04T19:20:26.148365Z"
    }
   },
   "outputs": [],
   "source": [
    "pipeline2 = PipelineModel.load(PATH_LOAD_MODEL)"
   ]
  },
  {
   "cell_type": "markdown",
   "metadata": {},
   "source": [
    "#  Full pipeline"
   ]
  },
  {
   "cell_type": "code",
   "execution_count": 7,
   "metadata": {
    "ExecuteTime": {
     "end_time": "2020-05-04T19:20:58.222400Z",
     "start_time": "2020-05-04T19:20:57.905025Z"
    }
   },
   "outputs": [],
   "source": [
    "def final_pipeline(time, rdd, save_predictions=SAVE_PREDICTIONS, path=PATH_SAVE_PREDICTIONS, verbose=VERBOSE):\n",
    "    \"\"\"\"\"\" \"\"\"\n",
    "    This function will serve as the construction pipeline.\n",
    "    Here all preprocessing functions need to be called and \n",
    "    need to be able to handle one wiki edit.\n",
    "    \"\"\" \"\"\"\"\"\"\n",
    "    if rdd.isEmpty():\n",
    "        return\n",
    "    if verbose:\n",
    "        print(\"========= %s =========\" % str(time))\n",
    "\n",
    "    # -------------------------------------------------------------------------\n",
    "    # 1) Pipeline 1: Mostly data cleaning and getting data in the right shape\n",
    "    # -------------------------------------------------------------------------\n",
    "    df = spark.read.json(rdd)\n",
    "    clean_df = get_clean_df(df)\n",
    "    df_with_difference = get_difference_column(clean_df)\n",
    "    final_df = split_difference_into_removed_added(df_with_difference)\n",
    "    \n",
    "    print(f\"Result after pipeline 1:\")\n",
    "    if verbose:\n",
    "        final_df.show(2)\n",
    "        \n",
    "    # ------------------------------------------------------------------------\n",
    "    # 2) Pipeline 2: Feature engineering, and Predicting\n",
    "    # ------------------------------------------------------------------------\n",
    "    predictions = pipeline2.transform(final_df)\n",
    "    print(\"Result after pipeline 2 (predictions):\")\n",
    "    if verbose:\n",
    "        predictions.select(['target', 'label', 'prediction','probability']).show(2)\n",
    "    # save predictions\n",
    "    if save_predictions: \n",
    "        print(f\"saving predictions of batch in: {path}\")\n",
    "        predictions.write.mode(\"append\").save(path)\n",
    "        "
   ]
  },
  {
   "cell_type": "markdown",
   "metadata": {},
   "source": [
    "# Begin online stream and make prediction per wiki edit"
   ]
  },
  {
   "cell_type": "code",
   "execution_count": 8,
   "metadata": {
    "ExecuteTime": {
     "end_time": "2020-05-04T19:21:01.489800Z",
     "start_time": "2020-05-04T19:21:01.089996Z"
    }
   },
   "outputs": [],
   "source": [
    "ssc = StreamingContext(sc, 10) # Get minibatches every 10 seconds"
   ]
  },
  {
   "cell_type": "code",
   "execution_count": 9,
   "metadata": {
    "ExecuteTime": {
     "end_time": "2020-05-04T19:21:03.170479Z",
     "start_time": "2020-05-04T19:21:02.871796Z"
    }
   },
   "outputs": [],
   "source": [
    "lines = ssc.socketTextStream(\"seppe.net\", 7778)\n",
    "lines.foreachRDD(final_pipeline)"
   ]
  },
  {
   "cell_type": "code",
   "execution_count": 10,
   "metadata": {
    "ExecuteTime": {
     "end_time": "2020-05-04T19:21:05.226070Z",
     "start_time": "2020-05-04T19:21:04.983868Z"
    }
   },
   "outputs": [],
   "source": [
    "ssc_t = StreamingThread(ssc)\n",
    "ssc_t.start()"
   ]
  },
  {
   "cell_type": "code",
   "execution_count": 11,
   "metadata": {
    "ExecuteTime": {
     "end_time": "2020-05-04T19:28:14.589146Z",
     "start_time": "2020-05-04T19:22:30.620833Z"
    }
   },
   "outputs": [
    {
     "name": "stdout",
     "output_type": "stream",
     "text": [
      "----- Stopping... this may take a few seconds -----\n",
      "========= 2020-05-04 21:21:30 =========\n",
      "Result after pipeline 1:\n",
      "+-----+--------------------+------------+------------+--------------------+--------------------+--------------------+--------------------+\n",
      "|label|             comment|  title_page|   name_user|      clean_old_text|      clean_new_text|       removed_words|         added_words|\n",
      "+-----+--------------------+------------+------------+--------------------+--------------------+--------------------+--------------------+\n",
      "| safe|  referencesclean up|bill hullett|giantsnowman|use dmy datesdate...|use dmy datesdate...|[cite, bookauthor...|[joyce, michael, ...|\n",
      "| safe|early historynot ...|  a cappella|     adavidb|other usesshort d...|other usesshort d...|   [c, l, , the, , ]|[l, be, seikilos,...|\n",
      "+-----+--------------------+------------+------------+--------------------+--------------------+--------------------+--------------------+\n",
      "only showing top 2 rows\n",
      "\n",
      "Result after pipeline 2 (predictions):\n",
      "+------+-----+----------+--------------------+\n",
      "|target|label|prediction|         probability|\n",
      "+------+-----+----------+--------------------+\n",
      "|   0.0| safe|       0.0|[0.68339464924787...|\n",
      "|   0.0| safe|       1.0|[0.25967153882649...|\n",
      "+------+-----+----------+--------------------+\n",
      "only showing top 2 rows\n",
      "\n",
      "saving predictions of batch in: ../../output/predictions/logistic_regression.parquet\n",
      "========= 2020-05-04 21:21:40 =========\n",
      "Result after pipeline 1:\n",
      "+-----+--------------------+--------------------+------------+--------------------+--------------------+--------------------+-----------+\n",
      "|label|             comment|          title_page|   name_user|      clean_old_text|      clean_new_text|       removed_words|added_words|\n",
      "+-----+--------------------+--------------------+------------+--------------------+--------------------+--------------------+-----------+\n",
      "| safe|added info about ...|         raf colerne|the beanster|use british engli...|use british engli...|[the, airfield, w...|    [empty]|\n",
      "| safe|correct timezone ...|hawaii five-0 201...|       3todd|distinguishhawaii...|distinguishhawaii...|             [empty]|    [empty]|\n",
      "+-----+--------------------+--------------------+------------+--------------------+--------------------+--------------------+-----------+\n",
      "\n",
      "Result after pipeline 2 (predictions):\n",
      "+------+-----+----------+--------------------+\n",
      "|target|label|prediction|         probability|\n",
      "+------+-----+----------+--------------------+\n",
      "|   0.0| safe|       1.0|[0.17838415434146...|\n",
      "|   0.0| safe|       0.0|[0.78229836124887...|\n",
      "+------+-----+----------+--------------------+\n",
      "\n",
      "saving predictions of batch in: ../../output/predictions/logistic_regression.parquet\n",
      "========= 2020-05-04 21:21:50 =========\n",
      "Result after pipeline 1:\n",
      "+-----+-------------+--------------------+-------------+--------------------+--------------------+--------------------+-----------+\n",
      "|label|      comment|          title_page|    name_user|      clean_old_text|      clean_new_text|       removed_words|added_words|\n",
      "+-----+-------------+--------------------+-------------+--------------------+--------------------+--------------------+-----------+\n",
      "| safe|        films|list of lgbt-rela...|    needyhaux|short description...|short description...|[josh, cox, direc...|[josh, cox]|\n",
      "| safe|fixed wording|            stoa usa|noahtheklimek|more citations ne...|more citations ne...|[, due, to, covid...|    [empty]|\n",
      "+-----+-------------+--------------------+-------------+--------------------+--------------------+--------------------+-----------+\n",
      "only showing top 2 rows\n",
      "\n",
      "Result after pipeline 2 (predictions):\n",
      "+------+-----+----------+--------------------+\n",
      "|target|label|prediction|         probability|\n",
      "+------+-----+----------+--------------------+\n",
      "|   0.0| safe|       0.0|[0.57796669766011...|\n",
      "|   0.0| safe|       0.0|[0.52782198531350...|\n",
      "+------+-----+----------+--------------------+\n",
      "only showing top 2 rows\n",
      "\n",
      "saving predictions of batch in: ../../output/predictions/logistic_regression.parquet\n",
      "========= 2020-05-04 21:22:00 =========\n",
      "Result after pipeline 1:\n",
      "+-----+--------------------+--------------------+------------+--------------------+--------------------+--------------------+--------------------+\n",
      "|label|             comment|          title_page|   name_user|      clean_old_text|      clean_new_text|       removed_words|         added_words|\n",
      "+-----+--------------------+--------------------+------------+--------------------+--------------------+--------------------+--------------------+\n",
      "| safe|               empty|             wikihow|     gehehhe|advertdatemarch 2...|advertdatemarch 2...|[the, website, ai...|[the, website, ai...|\n",
      "| safe|topclean up remov...|bill hopkins foot...|giantsnowman|orphandatedecembe...|orphandatedecembe...|        [height, , ]|[height, convert5...|\n",
      "+-----+--------------------+--------------------+------------+--------------------+--------------------+--------------------+--------------------+\n",
      "\n",
      "Result after pipeline 2 (predictions):\n",
      "+------+-----+----------+--------------------+\n",
      "|target|label|prediction|         probability|\n",
      "+------+-----+----------+--------------------+\n",
      "|   0.0| safe|       0.0|[0.74367715987768...|\n",
      "|   0.0| safe|       0.0|[0.64520453323631...|\n",
      "+------+-----+----------+--------------------+\n",
      "\n",
      "saving predictions of batch in: ../../output/predictions/logistic_regression.parquet\n",
      "========= 2020-05-04 21:22:10 =========\n",
      "Result after pipeline 1:\n",
      "+------+--------------------+--------------------+----------+--------------------+--------------------+---------------+-----------+\n",
      "| label|             comment|          title_page| name_user|      clean_old_text|      clean_new_text|  removed_words|added_words|\n",
      "+------+--------------------+--------------------+----------+--------------------+--------------------+---------------+-----------+\n",
      "|unsafe|               empty|monumento a los n...|8915251172|italicize titlein...|italicize titlein...|[n, mue, t, , ]|     [h, e]|\n",
      "|  safe|correct timezone ...|hollywood bouleva...|     3todd|'''hollywood boul...|'''hollywood boul...|        [empty]|    [empty]|\n",
      "+------+--------------------+--------------------+----------+--------------------+--------------------+---------------+-----------+\n",
      "only showing top 2 rows\n",
      "\n",
      "Result after pipeline 2 (predictions):\n",
      "+------+------+----------+--------------------+\n",
      "|target| label|prediction|         probability|\n",
      "+------+------+----------+--------------------+\n",
      "|   1.0|unsafe|       0.0|[0.67928812630362...|\n",
      "|   0.0|  safe|       0.0|[0.49990769274462...|\n",
      "+------+------+----------+--------------------+\n",
      "only showing top 2 rows\n",
      "\n",
      "saving predictions of batch in: ../../output/predictions/logistic_regression.parquet\n",
      "========= 2020-05-04 21:22:20 =========\n",
      "Result after pipeline 1:\n",
      "+------+--------------------+--------------------+--------------------+--------------------+--------------------+--------------------+-----------+\n",
      "| label|             comment|          title_page|           name_user|      clean_old_text|      clean_new_text|       removed_words|added_words|\n",
      "+------+--------------------+--------------------+--------------------+--------------------+--------------------+--------------------+-----------+\n",
      "|unsafe|mission sites sel...|spanish missions ...|2604600011158e394...|short description...|short description...|[, mom, is, great...|    [empty]|\n",
      "|  safe|            clean up|         bill julian|        giantsnowman|short description...|short description...|             [empty]|    [empty]|\n",
      "+------+--------------------+--------------------+--------------------+--------------------+--------------------+--------------------+-----------+\n",
      "only showing top 2 rows\n",
      "\n",
      "Result after pipeline 2 (predictions):\n",
      "+------+------+----------+--------------------+\n",
      "|target| label|prediction|         probability|\n",
      "+------+------+----------+--------------------+\n",
      "|   1.0|unsafe|       1.0|[0.00503791771501...|\n",
      "|   0.0|  safe|       0.0|[0.55388654837446...|\n",
      "+------+------+----------+--------------------+\n",
      "only showing top 2 rows\n",
      "\n",
      "saving predictions of batch in: ../../output/predictions/logistic_regression.parquet\n",
      "========= 2020-05-04 21:22:30 =========\n",
      "Result after pipeline 1:\n",
      "+-----+--------------------+--------------------+-------------+--------------------+--------------------+--------------------+-----------+\n",
      "|label|             comment|          title_page|    name_user|      clean_old_text|      clean_new_text|       removed_words|added_words|\n",
      "+-----+--------------------+--------------------+-------------+--------------------+--------------------+--------------------+-----------+\n",
      "| safe|added military ci...|     john nye gulick|pennyframstad|infobox military ...|infobox military ...|[cite, weblast, f...|    [empty]|\n",
      "| safe|            clean up|bill jennings foo...| giantsnowman|short description...|short description...|[ipswich, town, n...|    [empty]|\n",
      "+-----+--------------------+--------------------+-------------+--------------------+--------------------+--------------------+-----------+\n",
      "only showing top 2 rows\n",
      "\n"
     ]
    },
    {
     "name": "stdout",
     "output_type": "stream",
     "text": [
      "Result after pipeline 2 (predictions):\n",
      "+------+-----+----------+--------------------+\n",
      "|target|label|prediction|         probability|\n",
      "+------+-----+----------+--------------------+\n",
      "|   0.0| safe|       0.0|[0.64294395356324...|\n",
      "|   0.0| safe|       0.0|[0.55728509493284...|\n",
      "+------+-----+----------+--------------------+\n",
      "only showing top 2 rows\n",
      "\n",
      "saving predictions of batch in: ../../output/predictions/logistic_regression.parquet\n",
      "========= 2020-05-04 21:22:40 =========\n",
      "Result after pipeline 1:\n",
      "+-----+-------+--------------------+---------+--------------------+--------------------+--------------------+-----------+\n",
      "|label|comment|          title_page|name_user|      clean_old_text|      clean_new_text|       removed_words|added_words|\n",
      "+-----+-------+--------------------+---------+--------------------+--------------------+--------------------+-----------+\n",
      "| safe|  empty|list of films fea...|hunterw10|short description...|short description...|[, jurassic, park...|    [empty]|\n",
      "+-----+-------+--------------------+---------+--------------------+--------------------+--------------------+-----------+\n",
      "\n",
      "Result after pipeline 2 (predictions):\n",
      "+------+-----+----------+--------------------+\n",
      "|target|label|prediction|         probability|\n",
      "+------+-----+----------+--------------------+\n",
      "|   0.0| safe|       0.0|[0.92096458088990...|\n",
      "+------+-----+----------+--------------------+\n",
      "\n",
      "saving predictions of batch in: ../../output/predictions/logistic_regression.parquet\n"
     ]
    }
   ],
   "source": [
    "ssc_t.stop()"
   ]
  },
  {
   "cell_type": "markdown",
   "metadata": {},
   "source": [
    "# Check how we performed on the live data\n",
    "\n",
    "**useful resources:**\n",
    " - https://runawayhorse001.github.io/LearningApacheSpark/classification.html\n",
    "\n",
    "**TODO**\n",
    "- look at other scoring metrics for imbalanced data:\n",
    "    - e.g. Matthews correlation coefficient (MCC)  ==> I think this is one of the best metrics for imbalanced data\n",
    "    - Cohen's kappa statistic\n",
    "    - F1 score\n",
    "    - ..."
   ]
  },
  {
   "cell_type": "code",
   "execution_count": 4,
   "metadata": {
    "ExecuteTime": {
     "end_time": "2020-05-08T01:20:38.213447Z",
     "start_time": "2020-05-08T01:20:25.078662Z"
    }
   },
   "outputs": [
    {
     "name": "stdout",
     "output_type": "stream",
     "text": [
      "+------+------+----------+\n",
      "| label|target|prediction|\n",
      "+------+------+----------+\n",
      "|  safe|   0.0|       0.0|\n",
      "|  safe|   0.0|       0.0|\n",
      "|  safe|   1.0|       2.0|\n",
      "|unsafe|   1.0|       1.0|\n",
      "|  safe|   1.0|       0.0|\n",
      "+------+------+----------+\n",
      "only showing top 5 rows\n",
      "\n"
     ]
    }
   ],
   "source": [
    "# load predictions from live data\n",
    "predictions_live = spark.read.parquet(PATH_SAVE_PREDICTIONS)\n",
    "predictions_live.select(['label','target','prediction']).show(5)"
   ]
  },
  {
   "cell_type": "markdown",
   "metadata": {},
   "source": [
    "## This is used for decoding the numeric predictions values back to the original labels"
   ]
  },
  {
   "cell_type": "code",
   "execution_count": 5,
   "metadata": {
    "ExecuteTime": {
     "end_time": "2020-05-08T01:20:51.941690Z",
     "start_time": "2020-05-08T01:20:47.562360Z"
    }
   },
   "outputs": [
    {
     "name": "stdout",
     "output_type": "stream",
     "text": [
      "{0: 'safe', 1: 'unsafe', 2: 'vandal'}\n"
     ]
    }
   ],
   "source": [
    "label_str = list(predictions_live.select(\"label\").toPandas()['label'].unique())\n",
    "label_num = [0,1,2]\n",
    "map_num_2_str = dictionary = dict(zip(label_num, label_str))\n",
    "print(map_num_2_str)"
   ]
  },
  {
   "cell_type": "markdown",
   "metadata": {},
   "source": [
    "## A) Confusion Matrix"
   ]
  },
  {
   "cell_type": "code",
   "execution_count": 6,
   "metadata": {
    "ExecuteTime": {
     "end_time": "2020-05-08T01:21:01.788477Z",
     "start_time": "2020-05-08T01:20:56.353865Z"
    }
   },
   "outputs": [
    {
     "data": {
      "text/html": [
       "<div>\n",
       "<style scoped>\n",
       "    .dataframe tbody tr th:only-of-type {\n",
       "        vertical-align: middle;\n",
       "    }\n",
       "\n",
       "    .dataframe tbody tr th {\n",
       "        vertical-align: top;\n",
       "    }\n",
       "\n",
       "    .dataframe thead th {\n",
       "        text-align: right;\n",
       "    }\n",
       "</style>\n",
       "<table border=\"1\" class=\"dataframe\">\n",
       "  <thead>\n",
       "    <tr style=\"text-align: right;\">\n",
       "      <th></th>\n",
       "      <th>safe</th>\n",
       "      <th>unsafe</th>\n",
       "      <th>vandal</th>\n",
       "    </tr>\n",
       "  </thead>\n",
       "  <tbody>\n",
       "    <tr>\n",
       "      <th>safe</th>\n",
       "      <td>132</td>\n",
       "      <td>95</td>\n",
       "      <td>3</td>\n",
       "    </tr>\n",
       "    <tr>\n",
       "      <th>unsafe</th>\n",
       "      <td>10</td>\n",
       "      <td>11</td>\n",
       "      <td>0</td>\n",
       "    </tr>\n",
       "    <tr>\n",
       "      <th>vandal</th>\n",
       "      <td>4</td>\n",
       "      <td>0</td>\n",
       "      <td>0</td>\n",
       "    </tr>\n",
       "  </tbody>\n",
       "</table>\n",
       "</div>"
      ],
      "text/plain": [
       "        safe  unsafe  vandal\n",
       "safe     132      95       3\n",
       "unsafe    10      11       0\n",
       "vandal     4       0       0"
      ]
     },
     "execution_count": 6,
     "metadata": {},
     "output_type": "execute_result"
    }
   ],
   "source": [
    "class_names = label_str\n",
    "y_true = predictions_live.select(\"label\").toPandas()\n",
    "y_pred = predictions_live.select(\"prediction\").toPandas()\n",
    "y_pred = y_pred['prediction'].map(map_num_2_str, na_action='ignore')\n",
    "\n",
    "# make confusion matrix\n",
    "cnf_matrix = confusion_matrix(y_true=y_true, y_pred=y_pred, labels=class_names)\n",
    "pd.DataFrame(cnf_matrix, columns=class_names, index=class_names)"
   ]
  },
  {
   "cell_type": "code",
   "execution_count": 7,
   "metadata": {
    "ExecuteTime": {
     "end_time": "2020-05-08T01:21:07.176416Z",
     "start_time": "2020-05-08T01:21:06.291606Z"
    },
    "scrolled": true
   },
   "outputs": [
    {
     "name": "stdout",
     "output_type": "stream",
     "text": [
      "Confusion matrix, without normalization\n",
      "        safe  unsafe  vandal\n",
      "safe     132      95       3\n",
      "unsafe    10      11       0\n",
      "vandal     4       0       0\n"
     ]
    },
    {
     "data": {
      "image/png": "[encoded data removed]",
      "text/plain": [
       "<Figure size 432x288 with 2 Axes>"
      ]
     },
     "metadata": {
      "needs_background": "light"
     },
     "output_type": "display_data"
    }
   ],
   "source": [
    "# Plot non-normalized confusion matrix\n",
    "plt.figure()\n",
    "plot_confusion_matrix(cnf_matrix, classes=class_names, normalize=False,\n",
    "                      title='Confusion matrix, without normalization')\n",
    "\n",
    "# I need to fix this manually, we should fix this in the future (this look bit clumpsy)\n",
    "plt.yticks([2.5,2,1.5,1,0.5,0,-.5], labels=[\"\",label_str[2],\"\",label_str[1],\"\",label_str[0]]);"
   ]
  },
  {
   "cell_type": "markdown",
   "metadata": {},
   "source": [
    "## 8.2 Summary metrics\n",
    "\n",
    "**TODO**\n",
    "- look at other scoring metrics for imbalanced data:\n",
    "    - e.g. Matthews correlation coefficient (MCC)  ==> I think this is one of the best metrics for imbalanced data\n",
    "    - Cohen's kappa statistic\n",
    "    - F1 score\n",
    "    - ..."
   ]
  },
  {
   "cell_type": "code",
   "execution_count": 8,
   "metadata": {
    "ExecuteTime": {
     "end_time": "2020-05-08T01:21:20.750202Z",
     "start_time": "2020-05-08T01:21:11.541143Z"
    }
   },
   "outputs": [
    {
     "name": "stdout",
     "output_type": "stream",
     "text": [
      "F1 score: 0.5317\n"
     ]
    }
   ],
   "source": [
    "# F1 score\n",
    "evaluator = MulticlassClassificationEvaluator(\n",
    "    predictionCol=\"prediction\", labelCol='target', metricName=\"f1\")\n",
    "print(f\"F1 score: {round(evaluator.evaluate(predictions_live), 4)}\")"
   ]
  },
  {
   "cell_type": "code",
   "execution_count": 9,
   "metadata": {
    "ExecuteTime": {
     "end_time": "2020-05-08T01:21:22.920495Z",
     "start_time": "2020-05-08T01:21:22.684776Z"
    }
   },
   "outputs": [
    {
     "name": "stdout",
     "output_type": "stream",
     "text": [
      " MCC: 0.033243370938571194\n",
      " Kappa: 0.022152223781970126\n"
     ]
    }
   ],
   "source": [
    "# mcc and kappa\n",
    "mcc = matthews_corrcoef(y_true, y_pred)\n",
    "kappa = cohen_kappa_score(y_true, y_pred)\n",
    "\n",
    "print(f\" MCC: {mcc}\")\n",
    "print(f\" Kappa: {kappa}\")"
   ]
  },
  {
   "cell_type": "code",
   "execution_count": 10,
   "metadata": {
    "ExecuteTime": {
     "end_time": "2020-05-08T01:21:37.748353Z",
     "start_time": "2020-05-08T01:21:25.707114Z"
    }
   },
   "outputs": [
    {
     "name": "stdout",
     "output_type": "stream",
     "text": [
      "Area under ROC score is :  0.5722\n"
     ]
    }
   ],
   "source": [
    "# AUC\n",
    "results = predictions_live.select(['probability', 'target'])\n",
    "# prepare score-label set\n",
    "results_collect = results.collect()\n",
    "results_list = [(float(i[0][0]), 1.0-float(i[1])) for i in results_collect]\n",
    "scoreAndLabels = sc.parallelize(results_list)\n",
    "\n",
    "metrics = metric(scoreAndLabels)\n",
    "print(\"Area under ROC score is : \", round(metrics.areaUnderROC,4))"
   ]
  }
 ],
 "metadata": {
  "kernelspec": {
   "display_name": "Python 3",
   "language": "python",
   "name": "python3"
  },
  "language_info": {
   "codemirror_mode": {
    "name": "ipython",
    "version": 3
   },
   "file_extension": ".py",
   "mimetype": "text/x-python",
   "name": "python",
   "nbconvert_exporter": "python",
   "pygments_lexer": "ipython3",
   "version": "3.7.3"
  },
  "toc": {
   "base_numbering": 1,
   "nav_menu": {},
   "number_sections": true,
   "sideBar": true,
   "skip_h1_title": false,
   "title_cell": "Table of Contents",
   "title_sidebar": "Contents",
   "toc_cell": false,
   "toc_position": {},
   "toc_section_display": true,
   "toc_window_display": true
  },
  "varInspector": {
   "cols": {
    "lenName": 16,
    "lenType": 16,
    "lenVar": 40
   },
   "kernels_config": {
    "python": {
     "delete_cmd_postfix": "",
     "delete_cmd_prefix": "del ",
     "library": "var_list.py",
     "varRefreshCmd": "print(var_dic_list())"
    },
    "r": {
     "delete_cmd_postfix": ") ",
     "delete_cmd_prefix": "rm(",
     "library": "var_list.r",
     "varRefreshCmd": "cat(var_dic_list()) "
    }
   },
   "types_to_exclude": [
    "module",
    "function",
    "builtin_function_or_method",
    "instance",
    "_Feature"
   ],
   "window_display": false
  }
 },
 "nbformat": 4,
 "nbformat_minor": 4
}
