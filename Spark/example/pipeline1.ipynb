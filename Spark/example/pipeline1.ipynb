{
 "cells": [
  {
   "cell_type": "markdown",
   "metadata": {},
   "source": [
    "\n",
    "<font size=\"6\">This notebook has following goals</font> \n",
    "- Get difference between old and new wiki page\n",
    "- Cleaning (lower cases, removing stopwords)"
   ]
  },
  {
   "cell_type": "markdown",
   "metadata": {},
   "source": [
    "#  Import libraries"
   ]
  },
  {
   "cell_type": "code",
   "execution_count": 2,
   "metadata": {
    "ExecuteTime": {
     "end_time": "2020-05-03T14:47:31.237313Z",
     "start_time": "2020-05-03T14:47:29.620382Z"
    }
   },
   "outputs": [
    {
     "data": {
      "text/html": [
       "<style>.container { width:95% !important; }</style>"
      ],
      "text/plain": [
       "<IPython.core.display.HTML object>"
      ]
     },
     "metadata": {},
     "output_type": "display_data"
    }
   ],
   "source": [
    "# data manipulation\n",
    "\n",
    "from difflib import unified_diff\n",
    "import difflib\n",
    "import pandas as pd\n",
    "import re\n",
    "import string\n",
    "import nltk\n",
    "import itertools\n",
    "\n",
    "# visualize\n",
    "import matplotlib.pyplot as plt\n",
    "import seaborn as sns\n",
    "\n",
    "# pyspark\n",
    "from pyspark.sql import Row\n",
    "from pyspark.sql.functions import udf, struct, array, col, lit, regexp_replace, lower\n",
    "from pyspark.sql.types import StringType\n",
    "from pyspark.ml.feature import Tokenizer, StopWordsRemover\n",
    "from pyspark.sql.functions import col\n",
    "from pyspark.sql.functions import monotonically_increasing_id\n",
    "from pyspark.sql.types import IntegerType, StringType\n",
    "from pyspark.sql import types\n",
    "\n",
    "# other\n",
    "from IPython.core.display import display, HTML\n",
    "display(HTML(\"<style>.container { width:95% !important; }</style>\"))"
   ]
  },
  {
   "cell_type": "markdown",
   "metadata": {},
   "source": [
    "# Global variables"
   ]
  },
  {
   "cell_type": "code",
   "execution_count": 18,
   "metadata": {
    "ExecuteTime": {
     "end_time": "2020-05-03T14:47:31.260224Z",
     "start_time": "2020-05-03T14:47:31.255235Z"
    }
   },
   "outputs": [],
   "source": [
    "# global variables (use capital letter for variables)\n",
    "# plt.style.use('ggplot')\n",
    "# current_palette = sns.color_palette(\"colorblind\")\n",
    "# print(plt.style.available)\n",
    "plt.style.use('bmh')\n",
    "# sns.palplot(current_palette)\n",
    "sns.set_palette(\"colorblind\")\n",
    "DPI = 500  # determines quality when saving figures\n",
    "\n",
    "# A) ALL DATA\n",
    "\n",
    "LOAD_DATA_PATH = \"../../data/*\" \n",
    "OUTPUT_DATA_PATH = \"../../output/output_data_cleaning.parquet\"\n",
    "\n",
    "# B) SUBSET DATA\n",
    "\n",
    "# LOAD_DATA_PATH = \"../data/subset/*\" \n",
    "# OUTPUT_DATA_PATH = \"../output/output_data_cleaning.parquet\" "
   ]
  },
  {
   "cell_type": "markdown",
   "metadata": {},
   "source": [
    "# Helper functions\n",
    "\n",
    "**TODO**\n",
    "  - try to improve a bit on efficiency\n",
    "  - can some functions be written shorter? Like this while loops\n",
    "  - Refactor code in a seperate library so we can call:\n",
    "  \n",
    "```python\n",
    "instead of calling  %run \"pipeline1.ipynb\"  \n",
    "make a proper libary so we can call from functions.data_cleaning import pipeline1\n",
    "```"
   ]
  },
  {
   "cell_type": "code",
   "execution_count": 7,
   "metadata": {
    "ExecuteTime": {
     "end_time": "2020-05-03T14:47:37.110340Z",
     "start_time": "2020-05-03T14:47:37.104356Z"
    }
   },
   "outputs": [],
   "source": [
    "# Get Spark dataframe --> various sites state that a dataframe is better than a DDR for textual data\n",
    "\n",
    "\n",
    "def get_wiki_df(path=\"../../data/*\"):\n",
    "    \"\"\" reads in the data\n",
    "    Args\n",
    "        path (str): the path can be either a single text file or a directory storing text files. \n",
    "    Returns\n",
    "        (pyspark.sql.dataframe.DataFrame) textual data\n",
    "    \"\"\"\n",
    "\n",
    "    wiki_df = spark.read.json(path)\n",
    "\n",
    "    # Uncomment if you want its schema\n",
    "    # wiki_df.printSchema()\n",
    "    return wiki_df"
   ]
  },
  {
   "cell_type": "code",
   "execution_count": 8,
   "metadata": {
    "ExecuteTime": {
     "end_time": "2020-05-03T14:47:38.671446Z",
     "start_time": "2020-05-03T14:47:38.663441Z"
    }
   },
   "outputs": [],
   "source": [
    "def get_label_count(wiki_df):\n",
    "    \"\"\" For this function you should only pass the full \n",
    "    wiki_df in order to get the label count.\n",
    "    --------------------------------------\n",
    "    Last result (so you don't need to run it each time) \n",
    "    -> safe: 30333, unsafe: 4136, vandal: 270\n",
    "    \"\"\"\n",
    "    # Creates a temporary view using the wiki DataFrame\n",
    "    wiki_df.createOrReplaceTempView(\"wikidata\")\n",
    "\n",
    "    # Check the amount of safes/unsafes/vandals\n",
    "    label_df = spark.sql(\"SELECT label, count(*) FROM wikidata GROUP BY label\")\n",
    "    return label_df\n",
    "\n",
    "\n",
    "def show_X_rows(df, x):\n",
    "    \"\"\"  Shows first X number of spark dataframe rows\n",
    "    Input the dataframe followed by a \n",
    "    number in order to see the first x amount\n",
    "    of rows\n",
    "    \n",
    "    \"\"\"\n",
    "\n",
    "    # Convert list to RDD\n",
    "    rdd = spark.sparkContext.parallelize(df.take(x))\n",
    "\n",
    "    # Create data frame\n",
    "    df_temp = spark.createDataFrame(rdd)\n",
    "    return df_temp.show()\n",
    "\n",
    "\n",
    "def flatten(nested_list):\n",
    "    \"\"\" Function that flattens a nested list.\n",
    "    \n",
    "    \"\"\"\n",
    "\n",
    "    flat_list = []\n",
    "    for sublist in nested_list:\n",
    "        if type(sublist) == list:\n",
    "            for item in sublist:\n",
    "                flat_list.append(item)\n",
    "        else:\n",
    "            flat_list.append(sublist)\n",
    "\n",
    "    return flat_list"
   ]
  },
  {
   "cell_type": "markdown",
   "metadata": {},
   "source": [
    "## Function to get the difference between old and new text"
   ]
  },
  {
   "cell_type": "code",
   "execution_count": 9,
   "metadata": {
    "ExecuteTime": {
     "end_time": "2020-05-03T14:47:40.730434Z",
     "start_time": "2020-05-03T14:47:40.691539Z"
    }
   },
   "outputs": [],
   "source": [
    "# Get edited part of wiki page (credits to the professor)\n",
    "def get_diff_1(old, new):\n",
    "    \"\"\"\" Takes in old and new columns and \n",
    "    returns the difference between the two\n",
    "    \"\"\"\n",
    "\n",
    "    return '\\n'.join([\n",
    "        l for l in unified_diff(old.split('\\n'), new.split('\\n'))\n",
    "        if l.startswith('+') or l.startswith('-')\n",
    "    ])\n",
    "\n",
    "\n",
    "# The difference function that will take a very long time to compute for all instances\n",
    "def get_diff_2(old, new):\n",
    "    \"\"\" Takes in old and new columns and \n",
    "    returns the difference between the two\n",
    "    \n",
    "    \"\"\"\n",
    "\n",
    "    deleted_words = []\n",
    "    added_words = []\n",
    "    temp_i = -100\n",
    "    new_word = ''\n",
    "    status = 'none'\n",
    "    for i, s in enumerate(difflib.ndiff(old, new)):\n",
    "        if s[0] == ' ':\n",
    "            if status == 'adding':\n",
    "                added_words.append(new_word)\n",
    "                new_word = ''\n",
    "            elif status == 'deleting':\n",
    "                deleted_words.append(new_word)\n",
    "                new_word = ''\n",
    "            status = 'none'\n",
    "            continue\n",
    "        elif s[0] == '-':\n",
    "            if status != 'deleting':\n",
    "                added_words.append(new_word)\n",
    "                new_word = ''\n",
    "                status = 'deleting'\n",
    "            new_word += s[-1]\n",
    "        elif s[0] == '+':\n",
    "            if status != 'adding':\n",
    "                deleted_words.append(new_word)\n",
    "                new_word = ''\n",
    "                status = 'adding'\n",
    "            new_word += s[-1]\n",
    "    if new_word != '' and status == 'deleting':\n",
    "        deleted_words.append(new_word)\n",
    "    elif new_word != '' and status == 'adding':\n",
    "        added_words.append(new_word)\n",
    "    return {'added': added_words, 'deleted': deleted_words}\n",
    "\n",
    "\n",
    "def get_deletions(del_add):\n",
    "    \"\"\" returns the deleted\n",
    "    words out of a list of deleted and added\n",
    "    words\n",
    "    \"\"\"\n",
    "\n",
    "    return del_add['deleted']\n",
    "\n",
    "\n",
    "def get_additions(del_add):\n",
    "    \"\"\"\" returns the added\n",
    "    words out of a list of deleted and added\n",
    "    words\n",
    "    \n",
    "    \"\"\"\n",
    "\n",
    "    return del_add['added']\n",
    "\n",
    "\n",
    "def extract_differences(str_old, str_new):\n",
    "    \"\"\"\n",
    "    Function that splits old and new string\n",
    "    and extracts its differences\n",
    "    \n",
    "    \"\"\"\n",
    "\n",
    "    try:\n",
    "        # Clean old and new wiki pages from html characters\n",
    "        str_old, str_new = cleanhtml(str_old), cleanhtml(str_new)\n",
    "\n",
    "        # Get big chunks of altered fragments\n",
    "        diff1 = get_diff_1(str_old, str_new)\n",
    "\n",
    "        # Clean the differences from unwanted characters to get only words\n",
    "        diff2 = []\n",
    "        for txt in diff1.split('\\n'):\n",
    "            diff2.append(''.join([\n",
    "                x for x in txt if x in string.ascii_letters + '\\'-+ 1234567890'\n",
    "            ]).lower())\n",
    "\n",
    "        # Find chunks that are related ('+' vs '-') else append them to a seperate list that doesn't need to get processed in the next part\n",
    "        fully_added, fully_removed, partly_new, partly_old = find_similar_chunks(\n",
    "            diff2)\n",
    "\n",
    "        # Get the individual fragments that were added or deleted\n",
    "        for i in range(0, len(partly_new)):\n",
    "            difference = get_diff_2(partly_new[i], partly_old[i])\n",
    "            for el in difference['added']:\n",
    "                fully_added.append(el)\n",
    "            for el in difference['deleted']:\n",
    "                fully_removed.append(el)\n",
    "\n",
    "        fully_removed = flatten(fully_removed)\n",
    "        fully_added = flatten(fully_added)\n",
    "        while '' in fully_added:\n",
    "            fully_added.remove('')\n",
    "        while '+' in fully_added:\n",
    "            fully_added.remove('+')\n",
    "        while '-' in fully_added:\n",
    "            fully_added.remove('-')\n",
    "\n",
    "        while '' in fully_removed:\n",
    "            fully_removed.remove('')\n",
    "        while '+' in fully_removed:\n",
    "            fully_removed.remove('+')\n",
    "        while '-' in fully_removed:\n",
    "            fully_removed.remove('-')\n",
    "\n",
    "        # Original output_lib was a dictionary\n",
    "        #output_lib = {'added': fully_added, 'removed': fully_removed}\n",
    "\n",
    "        output_str = ''\n",
    "        # However, now we'd like to have the output in a list with seperator \"|SEPERATIONLINEADDEDREMOVED|\"\n",
    "        for word in fully_added:\n",
    "            output_str += '{} '.format(word)\n",
    "\n",
    "        output_str += ' |SEPERATIONLINEADDEDREMOVED|'\n",
    "\n",
    "        for word in fully_removed:\n",
    "            output_str += ' {}'.format(word)\n",
    "\n",
    "        full_difference = []\n",
    "\n",
    "        return output_str\n",
    "    except:\n",
    "        return 'error_would_occur'\n",
    "\n",
    "\n",
    "def find_similar_chunks(chunk_list):\n",
    "    \"\"\" takes in the differences between two blocks of\n",
    "    text and returns the exact deletion and added chunks\n",
    "    Not important to understand this function, it was a means \n",
    "    to process the output from get_diff_1 in order to process \n",
    "    further, it speeds up the process\n",
    "    \n",
    "    \"\"\"\n",
    "\n",
    "    fully_added, fully_removed, partly_removed, partly_added = [], [], [], []\n",
    "    # Remove '', ---, +++\n",
    "    while '' in chunk_list:\n",
    "        chunk_list.remove('')\n",
    "    while '+++ ' in chunk_list:\n",
    "        chunk_list.remove('+++ ')\n",
    "    while '--- ' in chunk_list:\n",
    "        chunk_list.remove('--- ')\n",
    "    for chunk in chunk_list:\n",
    "        try:\n",
    "            if chunk[3] not in string.ascii_letters + '\\'-+ 1234567890':\n",
    "                chunk_list.remove(chunk)\n",
    "            else:\n",
    "                continue\n",
    "        except:\n",
    "            chunk_list.remove(chunk)\n",
    "\n",
    "    for a, b in itertools.combinations(chunk_list, 2):\n",
    "        if a[1:30] == b[1:30]:\n",
    "            if a[0] == '+':\n",
    "                partly_added.append(a)\n",
    "                partly_removed.append(b)\n",
    "                chunk_list.remove(a)\n",
    "                chunk_list.remove(b)\n",
    "            else:\n",
    "                partly_added.append(b)\n",
    "                partly_removed.append(a)\n",
    "                chunk_list.remove(a)\n",
    "                chunk_list.remove(b)\n",
    "    for rest in chunk_list:\n",
    "        if rest[0] == '-':\n",
    "            fully_removed.append(rest[1:].split(' '))\n",
    "        elif rest[0] == '+':\n",
    "            fully_added.append(rest[1:].split(' '))\n",
    "    return fully_added, fully_removed, partly_removed, partly_added"
   ]
  },
  {
   "cell_type": "markdown",
   "metadata": {},
   "source": [
    "##  Clean columns: *comments, title, user, text_old, text_new*"
   ]
  },
  {
   "cell_type": "code",
   "execution_count": 10,
   "metadata": {
    "ExecuteTime": {
     "end_time": "2020-05-03T14:47:45.146365Z",
     "start_time": "2020-05-03T14:47:45.127415Z"
    }
   },
   "outputs": [],
   "source": [
    "def cleanhtml(raw_html):\n",
    "    \"\"\"\n",
    "    Clean a raw text part from html symbols and words\n",
    "    \"\"\"\n",
    "\n",
    "    cleanr = re.compile('<.*?>|&([a-z0-9]+|#[0-9]{1,6}|#x[0-9a-f]{1,6});')\n",
    "    cleantext = re.sub(cleanr, '', raw_html)\n",
    "\n",
    "    # Remove urls\n",
    "    cleantext_no_urls = re.sub(r\"http\\S+\", \"\", cleantext)\n",
    "    return cleantext_no_urls\n",
    "\n",
    "\n",
    "def cleantext(raw):\n",
    "    \"\"\"\n",
    "    Cleans a raw text part further from other unimportant characters and make it lower case\n",
    "    \"\"\"\n",
    "\n",
    "    # If there's nothing in raw, return 'EMPTY'\n",
    "    for item in 'azertyuiopmlkjhgfdsqnbvcxw,;:=ùµ$^)àç!è§(é&1234567890\\\"\\')|@#]}{[^-_':\n",
    "        if item in raw:\n",
    "\n",
    "            cleanr = re.compile(\n",
    "                '<.*?>|&([a-z0-9]+|#[0-9]{1,6}|#x[0-9a-f]{1,6});')\n",
    "            cleantext = re.sub(cleanr, '', raw)\n",
    "\n",
    "            # Remove urls\n",
    "            cleantext_no_urls = re.sub(r\"http\\S+\", \"\", cleantext)\n",
    "            return ''.join([\n",
    "                x for x in cleantext_no_urls\n",
    "                if x in string.ascii_letters + '\\'-+ 1234567890'\n",
    "            ]).lower()\n",
    "    return 'empty'\n",
    "\n",
    "\n",
    "def get_clean_df(df):\n",
    "    \"\"\" used to pass the dataframe and clean its columns \n",
    "    \"\"\"\n",
    "\n",
    "    # Remove url_page column\n",
    "    df_without_url = df.drop('url_page')\n",
    "\n",
    "    # Cleaning comment, title_page and name_user\n",
    "    clean_udf = udf(cleantext, StringType())\n",
    "    df_without_url = df_without_url.withColumn(\n",
    "        'clean_comment', clean_udf(df_without_url.comment)).drop('comment')\n",
    "    df_without_url = df_without_url.withColumn(\n",
    "        'clean_title_page',\n",
    "        clean_udf(df_without_url.title_page)).drop('title_page')\n",
    "    df_without_url = df_without_url.withColumn(\n",
    "        'clean_name_user',\n",
    "        clean_udf(df_without_url.name_user)).drop('name_user')\n",
    "\n",
    "    # Clean the old and new text columns\n",
    "    df_without_url = df_without_url.withColumn(\n",
    "        'clean_old_text', clean_udf(df_without_url.text_old))\n",
    "    df_without_url = df_without_url.withColumn(\n",
    "        'clean_new_text', clean_udf(df_without_url.text_new))\n",
    "\n",
    "    data = df_without_url.select(col(\"label\"),\n",
    "                                 col(\"clean_comment\").alias(\"comment\"),\n",
    "                                 col(\"clean_title_page\").alias(\"title_page\"),\n",
    "                                 col(\"clean_name_user\").alias(\"name_user\"),\n",
    "                                 col(\"text_old\"), col(\"text_new\"),\n",
    "                                 col(\"clean_old_text\"), col(\"clean_new_text\"))\n",
    "    return data\n",
    "\n",
    "\n",
    "def get_difference_column(df):\n",
    "    \"\"\" takes in the dataframe and returns a dataframe with an extra 'difference' column drops the text_old and text_new columns\n",
    "    \n",
    "    \"\"\"\n",
    "\n",
    "    difference_udf = udf(extract_differences, StringType())\n",
    "    intermediate_col = df.withColumn('difference',\n",
    "                                     difference_udf(df.text_old, df.text_new))\n",
    "    intermediate_col = intermediate_col.drop('text_old')\n",
    "    intermediate_col = intermediate_col.drop('text_new')\n",
    "    return intermediate_col\n",
    "\n",
    "\n",
    "def paste_words(list_of_words):\n",
    "    \"\"\" pastes together a list of words\n",
    "    \n",
    "    \"\"\"\n",
    "\n",
    "    return ' '.join([x for x in list_of_words])"
   ]
  },
  {
   "cell_type": "markdown",
   "metadata": {},
   "source": [
    "## Split *difference column* into added and removed column"
   ]
  },
  {
   "cell_type": "code",
   "execution_count": 11,
   "metadata": {
    "ExecuteTime": {
     "end_time": "2020-05-03T14:47:47.891295Z",
     "start_time": "2020-05-03T14:47:47.879327Z"
    }
   },
   "outputs": [],
   "source": [
    "def get_removed_col(col):\n",
    "    \"\"\" splits the 'difference' column and returns the removed words\n",
    "    \"\"\"\n",
    "\n",
    "    for item in 'azertyuiopmlkjhgfdsqnbvcxw,;:=ùµ$^)àç!è§(é&1234567890\\\"\\')|@#]}{[^-_':\n",
    "        if item in col[:col.find('|SEPERATIONLINEADDEDREMOVED|')]:\n",
    "            return col[:col.find('|SEPERATIONLINEADDEDREMOVED|')].split(' ')\n",
    "    return ['empty']\n",
    "\n",
    "\n",
    "def get_added_col(col):\n",
    "    \"\"\" splits the 'difference' column and returns the added words\n",
    "    \"\"\"\n",
    "\n",
    "    for item in 'azertyuiopmlkjhgfdsqnbvcxw,;:=ùµ$^)àç!è§(é&1234567890\\\"\\')|@#]}{[^-_':\n",
    "        if item in col[col.find('|SEPERATIONLINEADDEDREMOVED|') +\n",
    "                       len('|SEPERATIONLINEADDEDREMOVED|') + 1:]:\n",
    "            return col[col.find('|SEPERATIONLINEADDEDREMOVED|') +\n",
    "                       len('|SEPERATIONLINEADDEDREMOVED|') + 1:].split(' ')\n",
    "    return ['empty']\n",
    "\n",
    "\n",
    "def split_difference_into_removed_added(df):\n",
    "    \"\"\"splits the difference column and adds two new columns: added_words and removed_words\n",
    "    \n",
    "    \"\"\"\n",
    "\n",
    "    get_removed_udf = udf(get_removed_col,\n",
    "                          types.ArrayType(types.StringType()).simpleString())\n",
    "    df = df.withColumn('removed_words', get_removed_udf(df.difference))\n",
    "\n",
    "    get_added_udf = udf(get_added_col,\n",
    "                        types.ArrayType(types.StringType()).simpleString())\n",
    "    df = df.withColumn('added_words', get_added_udf(df.difference))\n",
    "\n",
    "    df = df.drop('difference')\n",
    "\n",
    "    return df"
   ]
  },
  {
   "cell_type": "markdown",
   "metadata": {},
   "source": [
    "#  Preprocessing"
   ]
  },
  {
   "cell_type": "markdown",
   "metadata": {},
   "source": [
    "## Import data and look at class distribution"
   ]
  },
  {
   "cell_type": "code",
   "execution_count": 12,
   "metadata": {
    "ExecuteTime": {
     "end_time": "2020-05-03T14:48:11.693210Z",
     "start_time": "2020-05-03T14:47:56.998705Z"
    }
   },
   "outputs": [],
   "source": [
    "# # Get the data as spark dataframe\n",
    "# wiki_df = get_wiki_df(path=LOAD_DATA_PATH)"
   ]
  },
  {
   "cell_type": "markdown",
   "metadata": {},
   "source": [
    "Label distribution when using all data: \n",
    "  - safe: 30333\n",
    "  - unsafe: 4136\n",
    "  - vandal: 270"
   ]
  },
  {
   "cell_type": "code",
   "execution_count": 13,
   "metadata": {
    "ExecuteTime": {
     "end_time": "2020-05-03T14:48:27.445331Z",
     "start_time": "2020-05-03T14:48:16.592896Z"
    }
   },
   "outputs": [
    {
     "data": {
      "text/plain": [
       "<Figure size 576x288 with 0 Axes>"
      ]
     },
     "metadata": {},
     "output_type": "display_data"
    },
    {
     "data": {
      "image/png": "[encoded data removed]",
      "text/plain": [
       "<Figure size 432x288 with 1 Axes>"
      ]
     },
     "metadata": {
      "needs_background": "light"
     },
     "output_type": "display_data"
    }
   ],
   "source": [
    "# class_dist = get_label_count(wiki_df)\n",
    "\n",
    "# plt.figure(figsize=(8,4))\n",
    "# ax = class_dist.select(\"*\").toPandas().plot.bar(x='label', y='count(1)', rot=0, legend=False)\n",
    "# ax.set_xlabel(\"Classes\")\n",
    "# ax.set_ylabel(\"Count\")\n",
    "\n",
    "# # save figure\n",
    "# plt.savefig('../output/figures/fig1.png', dpi=DPI)"
   ]
  },
  {
   "cell_type": "code",
   "execution_count": 14,
   "metadata": {
    "ExecuteTime": {
     "end_time": "2020-05-03T14:48:41.516732Z",
     "start_time": "2020-05-03T14:48:32.579660Z"
    },
    "scrolled": true
   },
   "outputs": [
    {
     "name": "stdout",
     "output_type": "stream",
     "text": [
      "+-----+--------------------+--------------------+------------------+--------------------+--------------------+--------------------+\n",
      "|label|             comment|          title_page|         name_user|      clean_old_text|      clean_new_text|          difference|\n",
      "+-----+--------------------+--------------------+------------------+--------------------+--------------------+--------------------+\n",
      "| safe|   fixed cite errors|timeline of the 2...|         john b123|short description...|short description...|last websitewww  ...|\n",
      "| safe|duplicate word re...|timeline of the 2...|           arjayay|short description...|short description...| |SEPERATIONLINEA...|\n",
      "| safe|         23 february|timeline of the 2...|    reddyhakky1998|see alsotimeline ...|see alsotimeline ...|february   |SEPER...|\n",
      "| safe|4 februaryadded w...|timeline of the 2...|sebastianrueckoldt|see alsotimeline ...|see alsotimeline ...|world health orga...|\n",
      "| safe|removing duplicat...|list of art deco ...|andreas philopater|short description...|short description...|boekentoren unive...|\n",
      "+-----+--------------------+--------------------+------------------+--------------------+--------------------+--------------------+\n",
      "only showing top 5 rows\n",
      "\n"
     ]
    }
   ],
   "source": [
    "# #Get clean dataframe (cleaning of comment, title_page, name_user):\n",
    "# clean_df = get_clean_df(wiki_df)\n",
    "\n",
    "# #In order to get the actual difference column\n",
    "# df_with_difference = get_difference_column(clean_df)\n",
    "\n",
    "# #Example of a difference column of the first of 20 instances:\n",
    "# # difference column is in the form REMOVED PART |SEPERATIONLINEADDEDREMOVED| ADDED PART\n",
    "# df_with_difference.show(5)"
   ]
  },
  {
   "cell_type": "code",
   "execution_count": 15,
   "metadata": {
    "ExecuteTime": {
     "end_time": "2020-05-03T14:48:58.007174Z",
     "start_time": "2020-05-03T14:48:43.024321Z"
    },
    "scrolled": true
   },
   "outputs": [
    {
     "name": "stdout",
     "output_type": "stream",
     "text": [
      "+-----+--------------------+--------------------+------------------+--------------------+--------------------+--------------------+--------------------+\n",
      "|label|             comment|          title_page|         name_user|      clean_old_text|      clean_new_text|       removed_words|         added_words|\n",
      "+-----+--------------------+--------------------+------------------+--------------------+--------------------+--------------------+--------------------+\n",
      "| safe|   fixed cite errors|timeline of the 2...|         john b123|short description...|short description...|[last, websitewww...|[cnbeta, lastcnn,...|\n",
      "| safe|duplicate word re...|timeline of the 2...|           arjayay|short description...|short description...|             [empty]|             [the, ]|\n",
      "| safe|         23 february|timeline of the 2...|    reddyhakky1998|see alsotimeline ...|see alsotimeline ...|    [february, , , ]|        [february, ]|\n",
      "| safe|4 februaryadded w...|timeline of the 2...|sebastianrueckoldt|see alsotimeline ...|see alsotimeline ...|[world, health, o...|             [empty]|\n",
      "| safe|removing duplicat...|list of art deco ...|andreas philopater|short description...|short description...|[boekentoren, uni...|[frglise, du, chr...|\n",
      "+-----+--------------------+--------------------+------------------+--------------------+--------------------+--------------------+--------------------+\n",
      "only showing top 5 rows\n",
      "\n"
     ]
    },
    {
     "data": {
      "text/plain": [
       "34739"
      ]
     },
     "execution_count": 15,
     "metadata": {},
     "output_type": "execute_result"
    }
   ],
   "source": [
    "# # 2 columns: removed and added with space in new function. + Clean text_old and text_new\n",
    "# # Split difference column into column 'removed' and column 'added'\n",
    "\n",
    "# final_df = split_difference_into_removed_added(df_with_difference)\n",
    "# final_df.show(5)\n",
    "# final_df.count()"
   ]
  },
  {
   "cell_type": "markdown",
   "metadata": {},
   "source": [
    "##   Save final dataframe"
   ]
  },
  {
   "cell_type": "code",
   "execution_count": 16,
   "metadata": {
    "ExecuteTime": {
     "end_time": "2020-05-03T13:59:01.704255Z",
     "start_time": "2020-05-03T13:59:01.699275Z"
    }
   },
   "outputs": [
    {
     "data": {
      "text/plain": [
       "34739"
      ]
     },
     "execution_count": 16,
     "metadata": {},
     "output_type": "execute_result"
    }
   ],
   "source": [
    "# # check if input and output is the same before and after saving\n",
    "# final_df.count()"
   ]
  },
  {
   "cell_type": "code",
   "execution_count": 19,
   "metadata": {
    "ExecuteTime": {
     "end_time": "2020-05-03T14:49:53.500099Z",
     "start_time": "2020-05-03T14:49:00.374920Z"
    }
   },
   "outputs": [],
   "source": [
    "# # save\n",
    "# final_df.write.mode(\"overwrite\").save(OUTPUT_DATA_PATH)"
   ]
  },
  {
   "cell_type": "code",
   "execution_count": 20,
   "metadata": {
    "ExecuteTime": {
     "end_time": "2020-05-03T13:59:01.721210Z",
     "start_time": "2020-05-03T13:59:01.716223Z"
    }
   },
   "outputs": [],
   "source": [
    "# # read in data\n",
    "# final_df = spark.read.parquet(OUTPUT_DATA_PATH)"
   ]
  },
  {
   "cell_type": "code",
   "execution_count": 21,
   "metadata": {
    "ExecuteTime": {
     "end_time": "2020-05-03T13:59:01.728223Z",
     "start_time": "2020-05-03T13:59:01.723206Z"
    }
   },
   "outputs": [
    {
     "data": {
      "text/plain": [
       "34739"
      ]
     },
     "execution_count": 21,
     "metadata": {},
     "output_type": "execute_result"
    }
   ],
   "source": [
    "# # check if input and output is the same before and after saving\n",
    "# final_df.count()"
   ]
  },
  {
   "cell_type": "markdown",
   "metadata": {},
   "source": [
    "# Needed for final pipeline\n",
    "\n",
    "Below you can find a summary of code needed for the data cleaning steps"
   ]
  },
  {
   "cell_type": "markdown",
   "metadata": {},
   "source": [
    "## Note this is a markdown cell\n",
    "```python\n",
    "\n",
    "# Get the data as spark dataframe\n",
    "path = \"../data/subset/*\" # define your directory\n",
    "wiki_df = get_wiki_df(path=path)\n",
    "\n",
    "#Get clean dataframe (cleaning of comment, title_page, name_user):\n",
    "clean_df = get_clean_df(wiki_df)\n",
    "\n",
    "#In order to get the actual difference column\n",
    "df_with_difference = get_difference_column(clean_df)\n",
    "\n",
    "# 2 columns: removed and added with space in new function. + Clean text_old and text_new\n",
    "# Split difference column into column 'removed' and column 'added'\n",
    "final_df = split_difference_into_removed_added(df_with_difference)\n",
    "\n",
    "```"
   ]
  }
 ],
 "metadata": {
  "kernelspec": {
   "display_name": "Python 3",
   "language": "python",
   "name": "python3"
  },
  "language_info": {
   "codemirror_mode": {
    "name": "ipython",
    "version": 3
   },
   "file_extension": ".py",
   "mimetype": "text/x-python",
   "name": "python",
   "nbconvert_exporter": "python",
   "pygments_lexer": "ipython3",
   "version": "3.7.6"
  },
  "toc": {
   "base_numbering": 1,
   "nav_menu": {},
   "number_sections": true,
   "sideBar": true,
   "skip_h1_title": false,
   "title_cell": "Table of Contents",
   "title_sidebar": "Contents",
   "toc_cell": false,
   "toc_position": {},
   "toc_section_display": true,
   "toc_window_display": true
  },
  "varInspector": {
   "cols": {
    "lenName": 16,
    "lenType": 16,
    "lenVar": 40
   },
   "kernels_config": {
    "python": {
     "delete_cmd_postfix": "",
     "delete_cmd_prefix": "del ",
     "library": "var_list.py",
     "varRefreshCmd": "print(var_dic_list())"
    },
    "r": {
     "delete_cmd_postfix": ") ",
     "delete_cmd_prefix": "rm(",
     "library": "var_list.r",
     "varRefreshCmd": "cat(var_dic_list()) "
    }
   },
   "types_to_exclude": [
    "module",
    "function",
    "builtin_function_or_method",
    "instance",
    "_Feature"
   ],
   "window_display": false
  }
 },
 "nbformat": 4,
 "nbformat_minor": 4
}
