{
 "cells": [
  {
   "cell_type": "markdown",
   "metadata": {},
   "source": [
    "## How we can connect with the datasource\n",
    "We can utilize this as well but it's fine to just use normal spark streaming, so no structured spark streaming"
   ]
  },
  {
   "cell_type": "code",
   "execution_count": 1,
   "metadata": {},
   "outputs": [
    {
     "data": {
      "text/html": [
       "<style>.container { width:95% !important; }</style>"
      ],
      "text/plain": [
       "<IPython.core.display.HTML object>"
      ]
     },
     "metadata": {},
     "output_type": "display_data"
    }
   ],
   "source": [
    "from IPython.core.display import display, HTML\n",
    "display(HTML(\"<style>.container { width:95% !important; }</style>\"))"
   ]
  },
  {
   "cell_type": "code",
   "execution_count": 2,
   "metadata": {},
   "outputs": [
    {
     "data": {
      "text/html": [
       "\n",
       "        <div>\n",
       "            <p><b>SparkContext</b></p>\n",
       "\n",
       "            <p><a href=\"http://DESKTOP-FLMENN6:4043\">Spark UI</a></p>\n",
       "\n",
       "            <dl>\n",
       "              <dt>Version</dt>\n",
       "                <dd><code>v2.4.5</code></dd>\n",
       "              <dt>Master</dt>\n",
       "                <dd><code>local[*]</code></dd>\n",
       "              <dt>AppName</dt>\n",
       "                <dd><code>PySparkShell</code></dd>\n",
       "            </dl>\n",
       "        </div>\n",
       "        "
      ],
      "text/plain": [
       "<SparkContext master=local[*] appName=PySparkShell>"
      ]
     },
     "execution_count": 2,
     "metadata": {},
     "output_type": "execute_result"
    }
   ],
   "source": [
    "sc"
   ]
  },
  {
   "cell_type": "code",
   "execution_count": 3,
   "metadata": {},
   "outputs": [
    {
     "data": {
      "text/html": [
       "\n",
       "            <div>\n",
       "                <p><b>SparkSession - hive</b></p>\n",
       "                \n",
       "        <div>\n",
       "            <p><b>SparkContext</b></p>\n",
       "\n",
       "            <p><a href=\"http://DESKTOP-FLMENN6:4043\">Spark UI</a></p>\n",
       "\n",
       "            <dl>\n",
       "              <dt>Version</dt>\n",
       "                <dd><code>v2.4.5</code></dd>\n",
       "              <dt>Master</dt>\n",
       "                <dd><code>local[*]</code></dd>\n",
       "              <dt>AppName</dt>\n",
       "                <dd><code>PySparkShell</code></dd>\n",
       "            </dl>\n",
       "        </div>\n",
       "        \n",
       "            </div>\n",
       "        "
      ],
      "text/plain": [
       "<pyspark.sql.session.SparkSession at 0x293af1716c8>"
      ]
     },
     "execution_count": 3,
     "metadata": {},
     "output_type": "execute_result"
    }
   ],
   "source": [
    "spark"
   ]
  },
  {
   "cell_type": "code",
   "execution_count": 4,
   "metadata": {},
   "outputs": [
    {
     "name": "stdout",
     "output_type": "stream",
     "text": [
      "root\n",
      " |-- value: string (nullable = true)\n",
      "\n"
     ]
    }
   ],
   "source": [
    "socketDF = spark.readStream.format(\"socket\").option(\"host\", \"seppe.net\").option(\"port\", 7778).load()\n",
    "\n",
    "socketDF.printSchema()"
   ]
  },
  {
   "cell_type": "code",
   "execution_count": 5,
   "metadata": {},
   "outputs": [],
   "source": [
    "from pyspark.sql.functions import from_json, schema_of_json"
   ]
  },
  {
   "cell_type": "code",
   "execution_count": 6,
   "metadata": {},
   "outputs": [],
   "source": [
    "def process_row(df, epoch_id):\n",
    "    print(epoch_id)\n",
    "    if df.count() == 0: return\n",
    "    schema = schema_of_json(df.first().value)\n",
    "    df_cols = df.selectExpr('CAST(value AS STRING)')\\\n",
    "        .select(from_json('value', schema)\\\n",
    "        .alias('temp'))\\\n",
    "        .select('temp.*')\n",
    "    df_cols.show()"
   ]
  },
  {
   "cell_type": "code",
   "execution_count": 7,
   "metadata": {},
   "outputs": [
    {
     "name": "stdout",
     "output_type": "stream",
     "text": [
      "0\n",
      "1\n",
      "+--------------------+-----+-----------------+--------------------+--------------------+--------------------+--------------------+\n",
      "|             comment|label|        name_user|            text_new|            text_old|          title_page|            url_page|\n",
      "+--------------------+-----+-----------------+--------------------+--------------------+--------------------+--------------------+\n",
      "|replaced: long di...| safe|Chris the speller|{{Infobox company...|{{Infobox company...|Frontier Communic...|//en.wikipedia.or...|\n",
      "+--------------------+-----+-----------------+--------------------+--------------------+--------------------+--------------------+\n",
      "\n",
      "2\n",
      "+--------------------+-----+-------------------+--------------------+--------------------+----------+--------------------+\n",
      "|             comment|label|          name_user|            text_new|            text_old|title_page|            url_page|\n",
      "+--------------------+-----+-------------------+--------------------+--------------------+----------+--------------------+\n",
      "|→‎Don Cossacks:ce...| safe|FiveFaintFootprints|{{Distinguish|Kaz...|{{Distinguish|Kaz...|  Cossacks|//en.wikipedia.or...|\n",
      "+--------------------+-----+-------------------+--------------------+--------------------+----------+--------------------+\n",
      "\n",
      "3\n",
      "+----------+-----+--------------+--------------------+--------------------+--------------------+--------------------+\n",
      "|   comment|label|     name_user|            text_new|            text_old|          title_page|            url_page|\n",
      "+----------+-----+--------------+--------------------+--------------------+--------------------+--------------------+\n",
      "|-redundant| safe|AnotherWhisker|{{short descripti...|{{short descripti...|2019–20 coronavir...|//en.wikipedia.or...|\n",
      "+----------+-----+--------------+--------------------+--------------------+--------------------+--------------------+\n",
      "\n"
     ]
    }
   ],
   "source": [
    "query = socketDF.writeStream.trigger(processingTime='2 seconds').foreachBatch(process_row).start()  "
   ]
  },
  {
   "cell_type": "code",
   "execution_count": 8,
   "metadata": {
    "scrolled": true
   },
   "outputs": [
    {
     "name": "stdout",
     "output_type": "stream",
     "text": [
      "4\n",
      "+------------+-----+----------+--------------------+--------------------+--------------------+--------------------+\n",
      "|     comment|label| name_user|            text_new|            text_old|          title_page|            url_page|\n",
      "+------------+-----+----------+--------------------+--------------------+--------------------+--------------------+\n",
      "|→‎Early life| safe|Nedrutland|{{Refimprove|date...|{{Refimprove|date...|William Stephen R...|//en.wikipedia.or...|\n",
      "+------------+-----+----------+--------------------+--------------------+--------------------+--------------------+\n",
      "\n"
     ]
    }
   ],
   "source": [
    "query.stop()"
   ]
  },
  {
   "cell_type": "code",
   "execution_count": null,
   "metadata": {},
   "outputs": [],
   "source": []
  }
 ],
 "metadata": {
  "kernelspec": {
   "display_name": "Python_thesis",
   "language": "python",
   "name": "python3"
  },
  "language_info": {
   "codemirror_mode": {
    "name": "ipython",
    "version": 3
   },
   "file_extension": ".py",
   "mimetype": "text/x-python",
   "name": "python",
   "nbconvert_exporter": "python",
   "pygments_lexer": "ipython3",
   "version": "3.7.4"
  },
  "toc": {
   "base_numbering": 1,
   "nav_menu": {},
   "number_sections": true,
   "sideBar": true,
   "skip_h1_title": false,
   "title_cell": "Table of Contents",
   "title_sidebar": "Contents",
   "toc_cell": false,
   "toc_position": {},
   "toc_section_display": true,
   "toc_window_display": false
  }
 },
 "nbformat": 4,
 "nbformat_minor": 2
}
