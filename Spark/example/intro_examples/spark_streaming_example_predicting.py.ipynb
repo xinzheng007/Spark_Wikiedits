{
 "cells": [
  {
   "cell_type": "code",
   "execution_count": 1,
   "metadata": {
    "ExecuteTime": {
     "end_time": "2020-05-03T17:02:00.087458Z",
     "start_time": "2020-05-03T17:02:00.080478Z"
    }
   },
   "outputs": [
    {
     "data": {
      "text/html": [
       "<style>.container { width:95% !important; }</style>"
      ],
      "text/plain": [
       "<IPython.core.display.HTML object>"
      ]
     },
     "metadata": {},
     "output_type": "display_data"
    }
   ],
   "source": [
    "from IPython.core.display import display, HTML\n",
    "display(HTML(\"<style>.container { width:95% !important; }</style>\"))"
   ]
  },
  {
   "cell_type": "code",
   "execution_count": 2,
   "metadata": {
    "ExecuteTime": {
     "end_time": "2020-05-03T17:02:01.394119Z",
     "start_time": "2020-05-03T17:02:01.388136Z"
    }
   },
   "outputs": [],
   "source": [
    "from threading import Thread\n",
    "\n",
    "class StreamingThread(Thread):\n",
    "    def __init__(self, ssc):\n",
    "        Thread.__init__(self)\n",
    "        self.ssc = ssc\n",
    "    def run(self):\n",
    "        ssc.start()\n",
    "        ssc.awaitTermination()\n",
    "    def stop(self):\n",
    "        print('----- Stopping... this may take a few seconds -----')\n",
    "        self.ssc.stop(stopSparkContext=False, stopGraceFully=True)"
   ]
  },
  {
   "cell_type": "code",
   "execution_count": 3,
   "metadata": {
    "ExecuteTime": {
     "end_time": "2020-05-03T17:02:02.291619Z",
     "start_time": "2020-05-03T17:02:02.285109Z"
    },
    "scrolled": true
   },
   "outputs": [
    {
     "data": {
      "text/html": [
       "\n",
       "        <div>\n",
       "            <p><b>SparkContext</b></p>\n",
       "\n",
       "            <p><a href=\"http://192.168.0.216:4040\">Spark UI</a></p>\n",
       "\n",
       "            <dl>\n",
       "              <dt>Version</dt>\n",
       "                <dd><code>v2.4.5</code></dd>\n",
       "              <dt>Master</dt>\n",
       "                <dd><code>local[*]</code></dd>\n",
       "              <dt>AppName</dt>\n",
       "                <dd><code>PySparkShell</code></dd>\n",
       "            </dl>\n",
       "        </div>\n",
       "        "
      ],
      "text/plain": [
       "<SparkContext master=local[*] appName=PySparkShell>"
      ]
     },
     "execution_count": 3,
     "metadata": {},
     "output_type": "execute_result"
    }
   ],
   "source": [
    "sc"
   ]
  },
  {
   "cell_type": "code",
   "execution_count": 4,
   "metadata": {
    "ExecuteTime": {
     "end_time": "2020-05-03T17:02:03.635243Z",
     "start_time": "2020-05-03T17:02:03.627266Z"
    }
   },
   "outputs": [
    {
     "data": {
      "text/html": [
       "\n",
       "            <div>\n",
       "                <p><b>SparkSession - hive</b></p>\n",
       "                \n",
       "        <div>\n",
       "            <p><b>SparkContext</b></p>\n",
       "\n",
       "            <p><a href=\"http://192.168.0.216:4040\">Spark UI</a></p>\n",
       "\n",
       "            <dl>\n",
       "              <dt>Version</dt>\n",
       "                <dd><code>v2.4.5</code></dd>\n",
       "              <dt>Master</dt>\n",
       "                <dd><code>local[*]</code></dd>\n",
       "              <dt>AppName</dt>\n",
       "                <dd><code>PySparkShell</code></dd>\n",
       "            </dl>\n",
       "        </div>\n",
       "        \n",
       "            </div>\n",
       "        "
      ],
      "text/plain": [
       "<pyspark.sql.session.SparkSession at 0x2571b98c8d0>"
      ]
     },
     "execution_count": 4,
     "metadata": {},
     "output_type": "execute_result"
    }
   ],
   "source": [
    "spark"
   ]
  },
  {
   "cell_type": "code",
   "execution_count": 5,
   "metadata": {
    "ExecuteTime": {
     "end_time": "2020-05-03T17:02:04.980743Z",
     "start_time": "2020-05-03T17:02:04.975753Z"
    }
   },
   "outputs": [],
   "source": [
    "from pyspark.streaming import StreamingContext\n",
    "from pyspark.sql import Row\n",
    "from pyspark.sql.functions import udf, struct, array, col, lit\n",
    "from pyspark.sql.types import StringType"
   ]
  },
  {
   "cell_type": "code",
   "execution_count": 6,
   "metadata": {
    "ExecuteTime": {
     "end_time": "2020-05-03T17:02:06.068916Z",
     "start_time": "2020-05-03T17:02:06.061931Z"
    }
   },
   "outputs": [],
   "source": [
    "from difflib import unified_diff\n",
    "\n",
    "def make_diff(old, new):\n",
    "    return '\\n'.join([ l for l in unified_diff(old.split('\\n'), new.split('\\n')) if l.startswith('+') or l.startswith('-') ])"
   ]
  },
  {
   "cell_type": "code",
   "execution_count": 7,
   "metadata": {
    "ExecuteTime": {
     "end_time": "2020-05-03T17:02:07.283009Z",
     "start_time": "2020-05-03T17:02:07.272039Z"
    }
   },
   "outputs": [],
   "source": [
    "globals()['models_loaded'] = False\n",
    "\n",
    "# ------------ Replace this with a trained ML model\n",
    "def predict(df):\n",
    "    if any([x in df.diff.lower() for x in ['bad', 'lol', 'joke']]):\n",
    "        return 'vandal'\n",
    "    else:\n",
    "        return 'safe'\n",
    "# ------------ Replace this with a trained ML model\n",
    "\n",
    "predict_udf = udf(predict, StringType())\n",
    "\n",
    "def process(time, rdd):\n",
    "    if rdd.isEmpty():\n",
    "        return\n",
    "    \n",
    "    print(\"========= %s =========\" % str(time))\n",
    "    \n",
    "    # Convert to data frame\n",
    "    df = spark.read.json(rdd)\n",
    "    df.show()\n",
    "    \n",
    "    # Tip: making a diff will probably help a lot as a feature in any model:\n",
    "    diff = make_diff(df.first().text_old, df.first().text_new)\n",
    "    df_withdiff = df.withColumn(\"diff\", lit(diff))\n",
    "    df_withdiff.select('diff').show()\n",
    "    \n",
    "    # Utilize our predict function\n",
    "    df_withpreds = df_withdiff.withColumn(\"pred\", predict_udf(\n",
    "        struct([df_withdiff[x] for x in df_withdiff.columns])\n",
    "    ))\n",
    "    df_withpreds.show()\n",
    "    \n",
    "    # Normally, you wouldn't use a UDF (User Defined Function) Python function to predict (you can)\n",
    "    # But an MLlib model you've built and saved with Spark\n",
    "    # In this case, you need to prevent loading your model in every call to \"process\" as follows:\n",
    "    \n",
    "    # Load in the model if not yet loaded:\n",
    "    if not globals()['models_loaded']:\n",
    "        # load in your models here\n",
    "        globals()['my_model'] = '***' # Replace '***' with:    [...].load('my_logistic_regression')\n",
    "        globals()['models_loaded'] = True\n",
    "        \n",
    "    # And then predict using the loaded model: \n",
    "    # df_result = globals()['my_model'].transform(df)\n",
    "    # df_result.show()"
   ]
  },
  {
   "cell_type": "code",
   "execution_count": 8,
   "metadata": {
    "ExecuteTime": {
     "end_time": "2020-05-03T17:02:08.959013Z",
     "start_time": "2020-05-03T17:02:08.883078Z"
    }
   },
   "outputs": [],
   "source": [
    "ssc = StreamingContext(sc, 10)"
   ]
  },
  {
   "cell_type": "code",
   "execution_count": 9,
   "metadata": {
    "ExecuteTime": {
     "end_time": "2020-05-03T17:02:10.373816Z",
     "start_time": "2020-05-03T17:02:10.100745Z"
    },
    "scrolled": true
   },
   "outputs": [],
   "source": [
    "lines = ssc.socketTextStream(\"seppe.net\", 7778)\n",
    "lines.foreachRDD(process)"
   ]
  },
  {
   "cell_type": "code",
   "execution_count": 10,
   "metadata": {
    "ExecuteTime": {
     "end_time": "2020-05-03T17:02:17.620461Z",
     "start_time": "2020-05-03T17:02:17.615474Z"
    },
    "scrolled": false
   },
   "outputs": [
    {
     "name": "stdout",
     "output_type": "stream",
     "text": [
      "========= 2020-05-03 19:05:20 =========\n",
      "+--------------------+-----+------------------+--------------------+--------------------+--------------------+--------------------+\n",
      "|             comment|label|         name_user|            text_new|            text_old|          title_page|            url_page|\n",
      "+--------------------+-----+------------------+--------------------+--------------------+--------------------+--------------------+\n",
      "|→‎Year-end charts...| safe| WereSpielChequers|{{About|the Justi...|{{About|the Justi...|          Suit & Tie|//en.wikipedia.or...|\n",
      "|(GR)File renamed:...| safe|       Samuele2002|{{Use Hong Kong E...|{{Use Hong Kong E...|Yau Ma Tei Fruit ...|//en.wikipedia.or...|\n",
      "|→‎Notable alumni ...| safe|Howardrandallsmith|'''''The Lost Col...|'''''The Lost Col...|The Lost Colony (...|//en.wikipedia.or...|\n",
      "|→‎Year-end charts...| safe| WereSpielChequers|{{Infobox song\n",
      "| ...|{{Infobox song\n",
      "| ...|Started from the ...|//en.wikipedia.or...|\n",
      "|                    | safe|           Tohaomg|{{Advert}}\n",
      "{{Info...|{{Infobox UNESCO ...|North Vidzeme Bio...|//en.wikipedia.or...|\n",
      "+--------------------+-----+------------------+--------------------+--------------------+--------------------+--------------------+\n",
      "\n",
      "+--------------------+\n",
      "|                diff|\n",
      "+--------------------+\n",
      "|--- \n",
      "\n",
      "+++ \n",
      "\n",
      "-!sco...|\n",
      "|--- \n",
      "\n",
      "+++ \n",
      "\n",
      "-!sco...|\n",
      "|--- \n",
      "\n",
      "+++ \n",
      "\n",
      "-!sco...|\n",
      "|--- \n",
      "\n",
      "+++ \n",
      "\n",
      "-!sco...|\n",
      "|--- \n",
      "\n",
      "+++ \n",
      "\n",
      "-!sco...|\n",
      "+--------------------+\n",
      "\n",
      "+--------------------+-----+------------------+--------------------+--------------------+--------------------+--------------------+--------------------+----+\n",
      "|             comment|label|         name_user|            text_new|            text_old|          title_page|            url_page|                diff|pred|\n",
      "+--------------------+-----+------------------+--------------------+--------------------+--------------------+--------------------+--------------------+----+\n",
      "|→‎Year-end charts...| safe| WereSpielChequers|{{About|the Justi...|{{About|the Justi...|          Suit & Tie|//en.wikipedia.or...|--- \n",
      "\n",
      "+++ \n",
      "\n",
      "-!sco...|safe|\n",
      "|(GR)File renamed:...| safe|       Samuele2002|{{Use Hong Kong E...|{{Use Hong Kong E...|Yau Ma Tei Fruit ...|//en.wikipedia.or...|--- \n",
      "\n",
      "+++ \n",
      "\n",
      "-!sco...|safe|\n",
      "|→‎Notable alumni ...| safe|Howardrandallsmith|'''''The Lost Col...|'''''The Lost Col...|The Lost Colony (...|//en.wikipedia.or...|--- \n",
      "\n",
      "+++ \n",
      "\n",
      "-!sco...|safe|\n",
      "|→‎Year-end charts...| safe| WereSpielChequers|{{Infobox song\n",
      "| ...|{{Infobox song\n",
      "| ...|Started from the ...|//en.wikipedia.or...|--- \n",
      "\n",
      "+++ \n",
      "\n",
      "-!sco...|safe|\n",
      "|                    | safe|           Tohaomg|{{Advert}}\n",
      "{{Info...|{{Infobox UNESCO ...|North Vidzeme Bio...|//en.wikipedia.or...|--- \n",
      "\n",
      "+++ \n",
      "\n",
      "-!sco...|safe|\n",
      "+--------------------+-----+------------------+--------------------+--------------------+--------------------+--------------------+--------------------+----+\n",
      "\n"
     ]
    }
   ],
   "source": [
    "# First thing you see is the conversion from the json text to a dataframe --> Can be used for featurization\n",
    "# Then diff will be computed\n",
    "# Then we make the prediction\n",
    "ssc_t = StreamingThread(ssc)\n",
    "ssc_t.start()"
   ]
  },
  {
   "cell_type": "code",
   "execution_count": 11,
   "metadata": {
    "ExecuteTime": {
     "end_time": "2020-05-03T17:03:40.128610Z",
     "start_time": "2020-05-03T17:03:21.563323Z"
    },
    "scrolled": true
   },
   "outputs": [
    {
     "name": "stdout",
     "output_type": "stream",
     "text": [
      "----- Stopping... this may take a few seconds -----\n",
      "========= 2020-05-03 19:05:30 =========\n",
      "+--------------------+-----+-----------------+--------------------+--------------------+--------------------+--------------------+\n",
      "|             comment|label|        name_user|            text_new|            text_old|          title_page|            url_page|\n",
      "+--------------------+-----+-----------------+--------------------+--------------------+--------------------+--------------------+\n",
      "|Attribution: text...| safe|          Diannaa|{{Use dmy dates|d...|{{Use dmy dates|d...|Danko Jones (musi...|//en.wikipedia.or...|\n",
      "|spelling (Wikiped...| safe|            Cyfal|{{Hatnote|For the...|{{Hatnote|For the...|Excommunication (...|//en.wikipedia.or...|\n",
      "|replaced: Masters...| safe|Chris the speller|'''Cynthia A. Bre...|'''Cynthia A. Bre...|      Cynthia Brewer|//en.wikipedia.or...|\n",
      "+--------------------+-----+-----------------+--------------------+--------------------+--------------------+--------------------+\n",
      "\n",
      "+--------------------+\n",
      "|                diff|\n",
      "+--------------------+\n",
      "|--- \n",
      "\n",
      "+++ \n",
      "\n",
      "-'''R...|\n",
      "|--- \n",
      "\n",
      "+++ \n",
      "\n",
      "-'''R...|\n",
      "|--- \n",
      "\n",
      "+++ \n",
      "\n",
      "-'''R...|\n",
      "+--------------------+\n",
      "\n",
      "+--------------------+-----+-----------------+--------------------+--------------------+--------------------+--------------------+--------------------+----+\n",
      "|             comment|label|        name_user|            text_new|            text_old|          title_page|            url_page|                diff|pred|\n",
      "+--------------------+-----+-----------------+--------------------+--------------------+--------------------+--------------------+--------------------+----+\n",
      "|Attribution: text...| safe|          Diannaa|{{Use dmy dates|d...|{{Use dmy dates|d...|Danko Jones (musi...|//en.wikipedia.or...|--- \n",
      "\n",
      "+++ \n",
      "\n",
      "-'''R...|safe|\n",
      "|spelling (Wikiped...| safe|            Cyfal|{{Hatnote|For the...|{{Hatnote|For the...|Excommunication (...|//en.wikipedia.or...|--- \n",
      "\n",
      "+++ \n",
      "\n",
      "-'''R...|safe|\n",
      "|replaced: Masters...| safe|Chris the speller|'''Cynthia A. Bre...|'''Cynthia A. Bre...|      Cynthia Brewer|//en.wikipedia.or...|--- \n",
      "\n",
      "+++ \n",
      "\n",
      "-'''R...|safe|\n",
      "+--------------------+-----+-----------------+--------------------+--------------------+--------------------+--------------------+--------------------+----+\n",
      "\n",
      "========= 2020-05-03 19:05:40 =========\n",
      "+--------------------+-----+---------------+--------------------+--------------------+----------+--------------------+\n",
      "|             comment|label|      name_user|            text_new|            text_old|title_page|            url_page|\n",
      "+--------------------+-----+---------------+--------------------+--------------------+----------+--------------------+\n",
      "|Corrected the inf...| safe|    Edugames150|{{Other uses|Week...|{{Other uses|Week...|The Weeknd|//en.wikipedia.or...|\n",
      "|→‎top:Typo fixing...| safe|John of Reading|{{about|the aerob...|{{about|the aerob...|  Halcones|//en.wikipedia.or...|\n",
      "+--------------------+-----+---------------+--------------------+--------------------+----------+--------------------+\n",
      "\n",
      "+--------------------+\n",
      "|                diff|\n",
      "+--------------------+\n",
      "|--- \n",
      "\n",
      "+++ \n",
      "\n",
      "-In 2...|\n",
      "|--- \n",
      "\n",
      "+++ \n",
      "\n",
      "-In 2...|\n",
      "+--------------------+\n",
      "\n",
      "+--------------------+-----+---------------+--------------------+--------------------+----------+--------------------+--------------------+----+\n",
      "|             comment|label|      name_user|            text_new|            text_old|title_page|            url_page|                diff|pred|\n",
      "+--------------------+-----+---------------+--------------------+--------------------+----------+--------------------+--------------------+----+\n",
      "|Corrected the inf...| safe|    Edugames150|{{Other uses|Week...|{{Other uses|Week...|The Weeknd|//en.wikipedia.or...|--- \n",
      "\n",
      "+++ \n",
      "\n",
      "-In 2...|safe|\n",
      "|→‎top:Typo fixing...| safe|John of Reading|{{about|the aerob...|{{about|the aerob...|  Halcones|//en.wikipedia.or...|--- \n",
      "\n",
      "+++ \n",
      "\n",
      "-In 2...|safe|\n",
      "+--------------------+-----+---------------+--------------------+--------------------+----------+--------------------+--------------------+----+\n",
      "\n",
      "========= 2020-05-03 19:05:50 =========\n",
      "+--------------------+-----+---------+--------------------+--------------------+--------------+--------------------+\n",
      "|             comment|label|name_user|            text_new|            text_old|    title_page|            url_page|\n",
      "+--------------------+-----+---------+--------------------+--------------------+--------------+--------------------+\n",
      "|→‎Origin and chan...| safe|Toedi3614|{{short descripti...|{{short descripti...|Macroevolution|//en.wikipedia.or...|\n",
      "+--------------------+-----+---------+--------------------+--------------------+--------------+--------------------+\n",
      "\n",
      "+--------------------+\n",
      "|                diff|\n",
      "+--------------------+\n",
      "|--- \n",
      "\n",
      "+++ \n",
      "\n",
      "-\n",
      "-<b...|\n",
      "+--------------------+\n",
      "\n",
      "+--------------------+-----+---------+--------------------+--------------------+--------------+--------------------+--------------------+----+\n",
      "|             comment|label|name_user|            text_new|            text_old|    title_page|            url_page|                diff|pred|\n",
      "+--------------------+-----+---------+--------------------+--------------------+--------------+--------------------+--------------------+----+\n",
      "|→‎Origin and chan...| safe|Toedi3614|{{short descripti...|{{short descripti...|Macroevolution|//en.wikipedia.or...|--- \n",
      "\n",
      "+++ \n",
      "\n",
      "-\n",
      "-<b...|safe|\n",
      "+--------------------+-----+---------+--------------------+--------------------+--------------+--------------------+--------------------+----+\n",
      "\n"
     ]
    }
   ],
   "source": [
    "ssc_t.stop()"
   ]
  },
  {
   "cell_type": "code",
   "execution_count": null,
   "metadata": {},
   "outputs": [],
   "source": []
  }
 ],
 "metadata": {
  "kernelspec": {
   "display_name": "Python 3",
   "language": "python",
   "name": "python3"
  },
  "language_info": {
   "codemirror_mode": {
    "name": "ipython",
    "version": 3
   },
   "file_extension": ".py",
   "mimetype": "text/x-python",
   "name": "python",
   "nbconvert_exporter": "python",
   "pygments_lexer": "ipython3",
   "version": "3.7.6"
  },
  "toc": {
   "base_numbering": 1,
   "nav_menu": {},
   "number_sections": true,
   "sideBar": true,
   "skip_h1_title": false,
   "title_cell": "Table of Contents",
   "title_sidebar": "Contents",
   "toc_cell": false,
   "toc_position": {},
   "toc_section_display": true,
   "toc_window_display": false
  },
  "varInspector": {
   "cols": {
    "lenName": 16,
    "lenType": 16,
    "lenVar": 40
   },
   "kernels_config": {
    "python": {
     "delete_cmd_postfix": "",
     "delete_cmd_prefix": "del ",
     "library": "var_list.py",
     "varRefreshCmd": "print(var_dic_list())"
    },
    "r": {
     "delete_cmd_postfix": ") ",
     "delete_cmd_prefix": "rm(",
     "library": "var_list.r",
     "varRefreshCmd": "cat(var_dic_list()) "
    }
   },
   "types_to_exclude": [
    "module",
    "function",
    "builtin_function_or_method",
    "instance",
    "_Feature"
   ],
   "window_display": false
  }
 },
 "nbformat": 4,
 "nbformat_minor": 2
}
