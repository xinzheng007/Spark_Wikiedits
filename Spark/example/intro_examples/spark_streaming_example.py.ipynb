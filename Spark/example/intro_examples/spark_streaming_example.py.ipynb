{
 "cells": [
  {
   "cell_type": "code",
   "execution_count": 1,
   "metadata": {
    "ExecuteTime": {
     "end_time": "2020-05-03T16:44:42.023186Z",
     "start_time": "2020-05-03T16:44:42.017200Z"
    }
   },
   "outputs": [],
   "source": [
    "# Helper thread in order to have a stream running in the background in Jupyter\n",
    "\n",
    "from threading import Thread\n",
    "\n",
    "class StreamingThread(Thread):\n",
    "    def __init__(self, ssc):\n",
    "        Thread.__init__(self)\n",
    "        self.ssc = ssc\n",
    "    def run(self):\n",
    "        ssc.start()\n",
    "        ssc.awaitTermination()\n",
    "    def stop(self):\n",
    "        print('----- Stopping... this may take a few seconds -----')\n",
    "        self.ssc.stop(stopSparkContext=False, stopGraceFully=True)"
   ]
  },
  {
   "cell_type": "code",
   "execution_count": 2,
   "metadata": {
    "ExecuteTime": {
     "end_time": "2020-05-03T15:57:44.192807Z",
     "start_time": "2020-05-03T15:57:44.177844Z"
    }
   },
   "outputs": [
    {
     "data": {
      "text/html": [
       "\n",
       "        <div>\n",
       "            <p><b>SparkContext</b></p>\n",
       "\n",
       "            <p><a href=\"http://192.168.0.216:4040\">Spark UI</a></p>\n",
       "\n",
       "            <dl>\n",
       "              <dt>Version</dt>\n",
       "                <dd><code>v2.4.5</code></dd>\n",
       "              <dt>Master</dt>\n",
       "                <dd><code>local[*]</code></dd>\n",
       "              <dt>AppName</dt>\n",
       "                <dd><code>PySparkShell</code></dd>\n",
       "            </dl>\n",
       "        </div>\n",
       "        "
      ],
      "text/plain": [
       "<SparkContext master=local[*] appName=PySparkShell>"
      ]
     },
     "execution_count": 2,
     "metadata": {},
     "output_type": "execute_result"
    }
   ],
   "source": [
    "sc"
   ]
  },
  {
   "cell_type": "code",
   "execution_count": 2,
   "metadata": {
    "ExecuteTime": {
     "end_time": "2020-05-03T16:44:44.217802Z",
     "start_time": "2020-05-03T16:44:44.209429Z"
    }
   },
   "outputs": [],
   "source": [
    "from pyspark.streaming import StreamingContext"
   ]
  },
  {
   "cell_type": "code",
   "execution_count": 3,
   "metadata": {
    "ExecuteTime": {
     "end_time": "2020-05-03T16:44:47.125959Z",
     "start_time": "2020-05-03T16:44:47.045633Z"
    }
   },
   "outputs": [],
   "source": [
    "ssc = StreamingContext(sc, 10) # Every 10 seconds, construct a mini-batch of RDDs"
   ]
  },
  {
   "cell_type": "code",
   "execution_count": 4,
   "metadata": {
    "ExecuteTime": {
     "end_time": "2020-05-03T16:44:49.432698Z",
     "start_time": "2020-05-03T16:44:49.160938Z"
    },
    "scrolled": true
   },
   "outputs": [],
   "source": [
    "lines = ssc.socketTextStream(\"seppe.net\", 7778)\n",
    "lines.pprint()"
   ]
  },
  {
   "cell_type": "code",
   "execution_count": 5,
   "metadata": {
    "ExecuteTime": {
     "end_time": "2020-05-03T16:44:52.211453Z",
     "start_time": "2020-05-03T16:44:52.206466Z"
    },
    "scrolled": true
   },
   "outputs": [],
   "source": [
    "ssc_t = StreamingThread(ssc)\n",
    "ssc_t.start()"
   ]
  },
  {
   "cell_type": "code",
   "execution_count": 7,
   "metadata": {},
   "outputs": [
    {
     "name": "stdout",
     "output_type": "stream",
     "text": [
      "----- Stopping... this may take a few seconds -----\n",
      "-------------------------------------------\n",
      "Time: 2020-03-28 16:37:40\n",
      "-------------------------------------------\n",
      "{\"title_page\": \"John O'Donnell (boxer)\", \"text_new\": \"{{short description|Irish boxer}}\\n{{Use dmy dates|date=June 2015}}\\n{{Use British English|date=June 2015}}\\n{{Infobox boxer\\n|name        = John O'Donnell\\n|image       = \\n|imagesize   = \\n|realname    = John O'Donnell\\n|nickname    = \\n|weight      = [[Welterweight]]\\n|height      = \\n|reach       = \\n|nationality = [[Republic of Ireland|Irish]]\\n|birth_date  = {{birth date and age|df=yes|1985|11|13}}\\n|birth_place = [[Galway]], [[Republic of Ireland|Ireland]]\\n|style       = [[Southpaw stance|Southpaw]]\\n|total       = 34\\n|wins        = 32\\n|losses      = 2\\n|draws       = 0\\n|no contests = \\n|KO          = 11\\n}}\\n\\n'''John O'Donnell''' (born 13 November 1985) is a [[London]]-based [[Irish people|Irish]] [[professional boxing|professional boxer]] who is a former holder of the Commonwealth welterweight championship.\\n\\n==Professional boxing career==\\n\\n===Early professional career===\\nO'Donnell, had his first professional in April 2004 with a win over journeyman Jason Nesbitt at the Penningtons Nightclub in [[Bradford]].  Over the next three years he would fight 13 more times without defeat against a series of journeymen opponents before earning the right to fight for the English title in May 2007. His opponent for the vacant English belt was fellow unbeaten prospect [[Stuart Elwell]].  The fight ended with a 10 round points victory for O'Donnell.<ref name=\\\"Boxrec\\\">{{cite web | author=Boxrec | title=John O'Donnell | work=Boxrec Fighter Page | url=http://www.boxrec.com/list_bouts.php?human_id=249023&cat=boxer | accessdate=13 April 2008 | archive-url=https://web.archive.org/web/20121008174917/http://boxrec.com/list_bouts.php?human_id=249023&cat=boxer | archive-date=8 October 2012 | url-status=live | df=dmy-all }}</ref><ref name=\\\"Craig Watson v John O\\u2019Donnell\\\"/>  Following his win over Elwell, O'Donnell next travelled to [[Las Vegas Valley|Las Vegas]] in May 2007 to fight Mexican Christian Solano on the undercard of [[Floyd Mayweather]]'s fight with [[Oscar De La Hoya]].<ref>[http://www.livefight.com/news/o'donnell-_-murray---on-oscar-mayweather-undercard_46.html Livefight | O'Donnell & Murray on Oscar undercard]{{dead link|date=April 2017 |bot=InternetArchiveBot |fix-attempted=yes }}</ref>  The bout ended with disappointment for the 15-0 prospect after the fight was stopped in the 2nd round giving victory to the [[Mexican people|Mexican]].<ref>{{Cite web |url=http://www.sportinglife.com/boxing/news/story_get.cgi?STORY_NAME=boxing%2F07%2F05%2F12%2Fmanual_184126.html |title=Sporting Life &#124; O'Donnell will hit back |access-date=10 March 2019 |archive-url=https://web.archive.org/web/20110629215445/http://www.sportinglife.com/boxing/news/story_get.cgi?STORY_NAME=boxing%2F07%2F05%2F12%2Fmanual_184126.html |archive-date=29 June 2011 |url-status=dead |df=dmy-all }}</ref>  Such was the devastating nature of the defeat, O'Donnell took a year off from boxing and only returned in May 2008 with a win over [[Journeyman (boxing)|journeyman]] Billy Smith. Four more victories followed in 2008 before being given the chance to fight for the Commonwealth title in 2009.<ref name=\\\"Craig Watson v John O\\u2019Donnell\\\">{{cite web | author=Thomas Myler | title=Craig Watson defeats John O\\u2019Donnell | work=Doghouse Boxing | url=http://www.doghouseboxing.com/DHB/Cann_041209.htm | accessdate=13 April 2008 | archive-url=https://web.archive.org/web/20100106111913/http://doghouseboxing.com/DHB/Cann_041209.htm | archive-date=6 January 2010 | url-status=live | df=dmy-all }}</ref>\\n\\n===Commonwealth champion===\\nO'Donnell's shot at a first major title came on 11 April 2009.  In the opposite corner, the champion [[Craig Watson (boxer)|Craig Watson]], had himself claimed the title with a win over Namibian [[Ali Nuumbembe]] and made one defence against [[Matthew Hatton]], the brother of Ricky. It was a step up in class for O'Donnell and he signaled his entry into the top tier of domestic boxing with victory over Watson via a [[split decision]] in what was described as a close and scintillating contest.<ref name=\\\"Craig Watson v John O\\u2019Donnell\\\"/><ref>{{Cite web |url=http://news.bbc.co.uk/sport1/hi/boxing/7995482.stm |title=BBC Sport &#124; O'Donnell stuns Watson in a classic |access-date=12 April 2009 |archive-url=https://web.archive.org/web/20090412012350/http://news.bbc.co.uk/sport1/hi/boxing/7995482.stm |archive-date=12 April 2009 |url-status=live |df=dmy-all }}</ref>  O'Donnell had been due to make the first defence of his newly won title on 5 September 2009 but due to problems making the weight had to settle for a non-title contest over 12 rounds against Tom Glover.  The fight, shown live on [[ITV4]], was too much of a step-up for Glover who was stopped in the 6th round with O'Donnell having taken full control.<ref>[http://www.boxingscene.com/?m=show&id=22026 Boxing Scene | O'Donnell stops and overmatched Glover]</ref>  O'Donnell gave up the belt after coming under pressure from the Commonwealth council after a [[mandatory challenger|mandatory defence]] scheduled for 5 March 2010 against the Ghanaian boxer Philip Kotey fell through.<ref>[http://www.boxingnewsonline.net/BN08/detail.asp?id=1639 Boxing News | Mark Thompson and Thomas McDonagh handed title chances] {{webarchive|url=https://web.archive.org/web/20100616230637/http://www.boxingnewsonline.net/BN08/detail.asp?id=1639 |date=16 June 2010 }}</ref> On 7 May 2010 he stepped back into the ring to defeat Hungarian boxer Laszlo Balogh in the 5th round of an 8 round contest stating after the fight that he would like to meet [[Paul McCloskey]] in an all Irish contest for the European title.<ref>[http://www.boxingscene.com/?m=show&id=27595 Boxing Scene | O'Donnell stops Balogh]</ref>  On 10 September 2010 O'Donnell fought the American former Olympic bronze medal winner [[Terrance Cauthen]] in an international contest at the [[York Hall]].  Winning the fight over 12 rounds O'Donnell claimed that Cauthen was the best boxer he had ever faced and that the reason why he gave up his Commonwealth belt was ''\\\"because my team did not want that belt to hold me back, so I could go onto the next level\\\".''<ref>{{Cite web |url=http://www.hackneygazette.co.uk/sport/boxing/hackney_fighter_john_o_donnell_too_good_for_terrance_cauthen_1_648033 |title=Hackney Gazette &#124; Hackney fighter O'Donnell too good for Cauthen |access-date=24 September 2010 |archive-url=https://web.archive.org/web/20110716143933/http://www.hackneygazette.co.uk/sport/boxing/hackney_fighter_john_o_donnell_too_good_for_terrance_cauthen_1_648033 |archive-date=16 July 2011 |url-status=live |df=dmy-all }}</ref>\\n\\n===British title challenge===\\nOn 19 February 2011 O'Donnell met former victim [[Craig Watson (boxer)|Craig Watson]] at the Wembley Arena to challenge for the vacant British title only for Watson to gain revenge by winning over 12 rounds.<ref>[http://www.sportinglife.com/boxing/news/story_get.cgi?STORY_NAME=boxing/11/02/19/BOXING_Wembley.html&BID=543 Sporting Life | Watson gains revenge on O'Donnell] {{webarchive|url=https://web.archive.org/web/20110629173539/http://www.sportinglife.com/boxing/news/story_get.cgi?STORY_NAME=boxing%2F11%2F02%2F19%2FBOXING_Wembley.html&BID=543 |date=29 June 2011 }}</ref>\\n\\n==Professional record==\\n\\n{{s-start}}\\n|- style=\\\"margin:0.5em auto; font-size:95%;\\\"\\n|align=\\\"center\\\" colspan=8|'''32 Wins''' (11 knockouts, 21 decisions), '''2 Losses''' (1 knockout, 1 decision)'''\\n|- style=\\\"margin:0.5em auto; font-size:95%;\\\"\\n|align=center style=\\\"border-style: none none solid solid; background: #e3e3e3\\\"|'''Res.'''\\n|align=center style=\\\"border-style: none none solid solid; background: #e3e3e3\\\"|'''Record'''\\n|align=center style=\\\"border-style: none none solid solid; background: #e3e3e3\\\"|'''Opponent'''\\n|align=center style=\\\"border-style: none none solid solid; background: #e3e3e3\\\"|'''Type'''\\n|align=center style=\\\"border-style: none none solid solid; background: #e3e3e3\\\"|'''Rd., Time'''\\n|align=center style=\\\"border-style: none none solid solid; background: #e3e3e3\\\"|'''Date'''\\n|align=center style=\\\"border-style: none none solid solid; background: #e3e3e3\\\"|'''Location'''\\n|align=center style=\\\"border-style: none none solid solid; background: #e3e3e3\\\"|'''Notes'''\\n|-align=center\\n|-align=center\\n|{{yes2}}Win|| 32-2 ||align=left|{{flagicon|ENG}} [[Erick Ochieng]]\\n|{{small|SD}}|| {{small|10}} || {{small|2017-03-18}}  || align=left|{{flagicon|ENG}} {{small|[[York Hall]], [[Bethnal Green]], England}} \\n|align=left|{{small|Won vacant [[List of Commonwealth Boxing Council champions|Commonwealth]] English [[Welterweight]] title.}}\\n|-align=center\\n|-align=center\\n|{{yes2}}Win|| 31-2 ||align=left|{{flagicon|ENG}} Tommy Tear\\n|{{small|PTS}}|| {{small|10}} || {{small|2016-10-01}}  || align=left|{{flagicon|ENG}} {{small|[[York Hall]], [[Bethnal Green]], England}} \\n|align=left|{{small|Won vacant [[List of Commonwealth Boxing Council champions|Commonwealth]] Southern Area [[Welterweight]] title.}}\\n|-align=center\\n|{{yes2}}Win|| 30-2 ||align=left|{{flagicon|CZE}} Jan Balog\\n|{{small|PTS}}|| {{small|6}} || {{small|2015-12-05}}  || align=left|{{flagicon|ENG}} {{small|[[York Hall]], [[Bethnal Green]], England}} \\n|align=left|\\n|-align=center\\n|{{yes2}}Win|| 29-2 ||align=left|{{flagicon|Hungary}} Laszlo Fazekas\\n|{{small|PTS}}|| {{small|8}} || {{small|2015-05-02}}  || align=left|{{flagicon|Northern Ireland}} {{small|Lavey Centre, [[Derry]], Northern Ireland}} \\n|align=left|\\n|-align=center\\n|{{yes2}}Win|| 28-2 ||align=left|{{flagicon|ENG}} Jay Morris\\n|{{small|PTS}}|| {{small|4}} || {{small|2013-07-06}}  || align=left|{{flagicon|ENG}} {{small|[[York Hall]], [[Bethnal Green]], England}} \\n|align=left|\\n|-align=center\\n|{{yes2}}Win|| 27-2 ||align=left|{{flagicon|Northern Ireland}} [[Stephen Haughian]]\\n|{{small|PTS}}|| {{small|8}} || {{small|2012-12-01}}  || align=left|{{flagicon|Northern Ireland}} {{small|[[Odyssey Arena]], [[Belfast]], Northern Ireland}} \\n|align=left|\\n|-align=center\\n|{{yes2}}Win|| 26-2 ||align=left|{{flagicon|Dominican Republic}} Thomas Mendez\\n|{{small|UD}}|| {{small|8}} || {{small|2012-10-12}}  || align=left|{{flagicon|CAN}} {{small|[[Bell Centre]], [[Montreal, Quebec]], Canada}} \\n|align=left|\\n|-align=center\\n|{{yes2}}Win|| 25-2 ||align=left|{{flagicon|ENG}} Martin Welsh\\n|{{small|PTS}}|| {{small|8}} || {{small|2012-04-14}}  || align=left|{{flagicon|Northern Ireland}} {{small|[[Odyssey Arena]], [[Belfast]], Northern Ireland}} \\n|align=left|\\n|-align=center\\n|{{no2}}Loss|| 24-2 ||align=left|{{flagicon|ENG}} [[Craig Watson (boxer)|Craig Watson]]\\n|{{small|UD}}|| {{small|12}} || {{small|2011-02-19}}  || align=left|{{flagicon|ENG}} {{small|[[Wembley Arena]], [[Wembley]], England}} \\n|align=left|{{small|For vacant [[List of Commonwealth Boxing Council champions|Commonwealth]] British [[Welterweight]] title.}}\\n|-align=center\\n|{{yes2}}Win|| 24-1 ||align=left|{{flagicon|USA}} [[Terrance Cauthen]]\\n|{{small|PTS}}|| {{small|12}} || {{small|2010-09-10}}  || align=left|{{flagicon|ENG}} {{small|[[York Hall]], [[Bethnal Green]], England}} \\n|align=left|\\n|-align=center\\n|{{yes2}}Win|| 23-1 ||align=left|{{flagicon|Hungary}} Laszlo Robert Balogh\\n|{{small|TKO}}|| {{small|5 (8), 2:56}} || {{small|2010-05-07}}  || align=left|{{flagicon|ENG}} {{small|Kingsway Leisure Centre, [[Widnes]], England}} \\n|align=left|\\n|-align=center\\n|{{yes2}}Win|| 22-1 ||align=left|{{flagicon|ENG}} Tom Glover\\n|{{small|TKO}}|| {{small|6 (12), 2:43}} || {{small|2009-09-05}}  || align=left|{{flagicon|ENG}} {{small|Colosseum, [[Watford]], England}} \\n|align=left|\\n|-align=center\\n|{{yes2}}Win|| 21-1 ||align=left|{{flagicon|ENG}} [[Craig Watson (boxer)|Craig Watson]]\\n|{{small|SD}}|| {{small|12}} || {{small|2009-04-11}}  || align=left|{{flagicon|ENG}} {{small|[[York Hall]], [[Bethnal Green]], England}} \\n|align=left|{{small|Won [[List of Commonwealth Boxing Council champions|Commonwealth]] (British Empire) [[Welterweight]] title.}}\\n|-align=center\\n|{{yes2}}Win|| 20-1 ||align=left|{{flagicon|GER}} Suleyman Dag\\n|{{small|TKO}}|| {{small|3 (6), 1:03}} || {{small|2008-11-15}}  || align=left|{{flagicon|IRE}} {{small|Breaffy House Resort, [[Castlebar]], Ireland}} \\n|align=left|\\n|-align=center\\n|{{yes2}}Win|| 19-1 ||align=left|{{flagicon|Latvia}} Sergejs Sayrinovics\\n|{{small|RTD}}|| {{small|3 (8), 3:00}} || {{small|2008-10-04}}  || align=left|{{flagicon|ENG}} {{small|Norwich Showground, [[Norwich]], England}} \\n|align=left|\\n|-align=center\\n|{{yes2}}Win|| 18-1 ||align=left|{{flagicon|Latvia}} Sergejs Volodins\\n|{{small|TKO}}|| {{small|5 (6)}} || {{small|2008-07-19}}  || align=left|{{flagicon|IRE}} {{small|[[University of Limerick|University Arena]], [[Limerick]], Ireland}} \\n|align=left|\\n|-align=center\\n|{{yes2}}Win|| 17-1 ||align=left|{{flagicon|ENG}} Jay Morris\\n|{{small|TKO}}|| {{small|6 (6), 2:44}} || {{small|2008-06-27}}  || align=left|{{flagicon|ENG}} {{small|[[York Hall]], [[Bethnal Green]], England}} \\n|align=left|\\n|-align=center\\n|{{yes2}}Win|| 16-1 ||align=left|{{flagicon|ENG}} Billy Smith\\n|{{small|PTS}}|| {{small|4}} || {{small|2008-05-10}}  || align=left|{{flagicon|ENG}} {{small|[[Nottingham Arena]], [[Nottingham]], England}} \\n|align=left|\\n|-align=center\\n|{{no2}}Loss|| 15-1 ||align=left|{{flagicon|MEX}} Christian Solano\\n|{{small|TKO}}|| {{small|2 (8), 1:50}} || {{small|2007-05-05}}  || align=left|{{flagicon|USA}} {{small|[[MGM Grand Garden Arena]], [[Las Vegas, Nevada]], United States}} \\n|align=left|\\n|-align=center\\n|{{yes2}}Win|| 15-0 ||align=left|{{flagicon|ENG}} [[Stuart Elwell]]\\n|{{small|PTS}}|| {{small|10}} || {{small|2007-03-23}}  || align=left|{{flagicon|ENG}} {{small|[[Nottingham Arena]], [[Nottingham]], England}} \\n|align=left|{{small|Won vacant [[British Boxing Board of Control|BBBofC]] English [[Welterweight]] title.}}\\n|-align=center\\n|{{yes2}}Win|| 14-0 ||align=left|{{flagicon|ENG}} Ernie Smith\\n|{{small|KO}}|| {{small|2 (8), 2:20}} || {{small|2006-12-08}}  || align=left|{{flagicon|ENG}} {{small|Goresbrook Leisure Centre, [[Dagenham]], England}} \\n|align=left|\\n|-align=center\\n|{{yes2}}Win|| 13-0 ||align=left|{{flagicon|NIG}} Silence Saheed\\n|{{small|PTS}}|| {{small|6}} || {{small|2006-09-15}}  || align=left|{{flagicon|ENG}} {{small|[[Alexandra Palace]], [[Wood Green]], England}} \\n|align=left|\\n|-align=center\\n|{{yes2}}Win|| 12-0 ||align=left|{{flagicon|ENG}} Darren Gethin\\n|{{small|PTS}}|| {{small|8}} || {{small|2006-07-12}}  || align=left|{{flagicon|ENG}} {{small|[[York Hall]], [[Bethnal Green]], England}} \\n|align=left|\\n|-align=center\\n|{{yes2}}Win|| 11-0 ||align=left|{{flagicon|ENG}} Duncan Cottier\\n|{{small|RTD}}|| {{small|3 (8)}} || {{small|2006-05-12}}  || align=left|{{flagicon|ENG}} {{small|[[York Hall]], [[Bethnal Green]], England}} \\n|align=left|\\n|-align=center\\n|{{yes2}}Win|| 10-0 ||align=left|{{flagicon|ENG}} Karl Taylor\\n|{{small|PTS}}|| {{small|4}} || {{small|2006-02-17}}  || align=left|{{flagicon|ENG}} {{small|[[York Hall]], [[Bethnal Green]], England}} \\n|align=left|\\n|-align=center\\n|{{yes2}}Win|| 9-0 ||align=left|{{flagicon|BEL}} Zaid Bediouri \\n|{{small|PTS}}|| {{small|6}} || {{small|2006-01-28}}  || align=left|{{flagicon|IRE}} {{small|[[National Stadium (Ireland)|National Boxing Stadium]], [[Dublin]], Ireland}} \\n|align=left|\\n|-align=center\\n|{{yes2}}Win|| 8-0 ||align=left|{{flagicon|ENG}} Matt Scriven \\n|{{small|TKO}}|| {{small|4 (6), 0:51}} || {{small|2006-01-20}}  || align=left|{{flagicon|ENG}} {{small|[[York Hall]], [[Bethnal Green]], England}} \\n|align=left|\\n|-align=center\\n|{{yes2}}Win|| 7-0 ||align=left|{{flagicon|ENG}} Ben Hudson\\n|{{small|PTS}}|| {{small|4}} || {{small|2005-10-21}}  || align=left|{{flagicon|ENG}} {{small|[[York Hall]], [[Bethnal Green]], England}} \\n|align=left|\\n|-align=center\\n|{{yes2}}Win|| 6-0 ||align=left|{{flagicon|ENG}} Ben Hudson\\n|{{small|TKO}}|| {{small|3 (6)}} || {{small|2005-07-09}}  || align=left|{{flagicon|ENG}} {{small|[[Nottingham Arena]], [[Nottingham]], England}} \\n|align=left|\\n|-align=center\\n|{{yes2}}Win|| 5-0 ||align=left|{{flagicon|ENG}} Duncan Cottier\\n|{{small|PTS}}|| {{small|4}} || {{small|2005-04-10}}  || align=left|{{flagicon|ENG}} {{small|Brentwood Centre, [[Brentwood, Essex]], England}} \\n|align=left|\\n|-align=center\\n|{{yes2}}Win|| 4-0 ||align=left|{{flagicon|ENG}} Ernie Smith\\n|{{small|PTS}}|| {{small|6}} || {{small|2004-11-12}}  || align=left|{{flagicon|ENG}} {{small|Conference Centre, [[Wembley]], England}} \\n|align=left|\\n|-align=center\\n|{{yes2}}Win|| 3-0 ||align=left|{{flagicon|ENG}} Chris Long\\n|{{small|TKO}}|| {{small|4 (6), 0:44}} || {{small|2004-09-24}}  || align=left|{{flagicon|ENG}} {{small|[[Nottingham Arena]], [[Nottingham]], England}} \\n|align=left|\\n|-align=center\\n|{{yes2}}Win|| 2-0 ||align=left|{{flagicon|ENG}} Dave Hinds\\n|{{small|PTS}}|| {{small|4}} || {{small|2004-06-12}}  || align=left|{{flagicon|ENG}} {{small|[[Nottingham Arena]], [[Nottingham]], England}} \\n|align=left|\\n|-align=center\\n|{{yes2}}Win|| 1-0 ||align=left|{{flagicon|ENG}} Jason Nesbitt\\n|{{small|PTS}}|| {{small|4}} || {{small|2004-04-16}}  || align=left|{{flagicon|ENG}} {{small|[[O2 Academy Leeds|Town and Country Club]], [[Leeds]], England}} \\n|align=left|\\n{{s-end}}\\n\\n==References==\\n{{reflist|35em}}\\n\\n==External links==\\n*{{Boxrec|id=249023}}\\n\\n{{s-start}} \\n{{succession box| \\n before=[[Craig Watson (boxer)|Craig Watson]]|\\n title=[[List of Commonwealth Boxing Council Champions#Welterweight|Commonwealth Welterweight Champion]]|\\n years= 11 April 2009 \\u2013 16 April 2010| \\n after= [[Denton Vassell]]| \\n }} \\n{{s-end}}\\n\\n{{DEFAULTSORT:Odonnell, John}}\\n[[Category:1985 births]]\\n[[Category:20th-century Irish people]]\\n[[Category:21st-century Irish people]]\\n[[Category:Living people]]\\n[[Category:People from County Galway]]\\n[[Category:English male boxers]]\\n[[Category:Sportspeople from County Galway]]\\n[[Category:Irish male boxers]]\\n\", \"text_old\": \"{{short description|Irish boxer}}\\n{{Use dmy dates|date=June 2015}}\\n{{Use British English|date=June 2015}}\\n{{Infobox boxer\\n|name        = John O'Donnell\\n|image       = \\n|imagesize   = \\n|realname    = John O'Donnell\\n|nickname    = \\n|weight      = [[Welterweight]]\\n|height      = \\n|reach       = \\n|nationality = [[Republic of Ireland|Irish]]\\n|birth_date  = {{birth date and age|df=yes|1985|11|13}}\\n|birth_place = [[Galway]], [[Republic of Ireland|Ireland]]\\n|style       = [[Southpaw stance|Southpaw]]\\n|total       = 34\\n|wins        = 32\\n|losses      = 2\\n|draws       = 0\\n|no contests = \\n|KO          = 11\\n}}\\n\\n'''John O'Donnell''' (born 13 November 1985) is a [[London]]-based [[Irish people|Irish]] [[professional boxing|professional boxer]] who is a former holder of the Commonwealth welterweight championship.\\n\\n==Professional boxing career==\\n\\n===Early professional career===\\nO'Donnell, had his first professional in April 2004 with a win over journeyman Jason Nesbitt at the Penningtons Nightclub in [[Bradford]].  Over the next three years he would fight 13 more times without defeat against a series of journeymen opponents before earning the right to fight for the English title in May 2007. His opponent for the vacant English belt was fellow unbeaten prospect [[Stuart Elwell]].  The fight ended with a 10 round points victory for O'Donnell.<ref name=\\\"Boxrec\\\">{{cite web | author=Boxrec | title=John O'Donnell | work=Boxrec Fighter Page | url=http://www.boxrec.com/list_bouts.php?human_id=249023&cat=boxer | accessdate=13 April 2008 | archive-url=https://web.archive.org/web/20121008174917/http://boxrec.com/list_bouts.php?human_id=249023&cat=boxer | archive-date=8 October 2012 | url-status=live | df=dmy-all }}</ref><ref name=\\\"Craig Watson v John O\\u2019Donnell\\\"/>  Following his win over Elwell, O'Donnell next travelled to [[Las Vegas Valley|Las Vegas]] in May 2007 to fight Mexican Christian Solano on the undercard of [[Floyd Mayweather]]'s fight with [[Oscar De La Hoya]].<ref>[http://www.livefight.com/news/o'donnell-_-murray---on-oscar-mayweather-undercard_46.html Livefight | O'Donnell & Murray on Oscar undercard]{{dead link|date=April 2017 |bot=InternetArchiveBot |fix-attempted=yes }}</ref>  The bout ended with disappointment for the 15-0 prospect after the fight was stopped in the 2nd round giving victory to the [[Mexican people|Mexican]].<ref>{{Cite web |url=http://www.sportinglife.com/boxing/news/story_get.cgi?STORY_NAME=boxing%2F07%2F05%2F12%2Fmanual_184126.html |title=Sporting Life &#124; O'Donnell will hit back |access-date=10 March 2019 |archive-url=https://web.archive.org/web/20110629215445/http://www.sportinglife.com/boxing/news/story_get.cgi?STORY_NAME=boxing%2F07%2F05%2F12%2Fmanual_184126.html |archive-date=29 June 2011 |url-status=dead |df=dmy-all }}</ref>  Such was the devastating nature of the defeat, O'Donnell took a year off from boxing and only returned in May 2008 with a win over [[Journeyman (boxing)|journeyman]] Billy Smith. Four more victories followed in 2008 before being given the chance to fight for the Commonwealth title in 2009.<ref name=\\\"Craig Watson v John O\\u2019Donnell\\\">{{cite web | author=Thomas Myler | title=Craig Watson defeats John O\\u2019Donnell | work=Doghouse Boxing | url=http://www.doghouseboxing.com/DHB/Cann_041209.htm | accessdate=13 April 2008 | archive-url=https://web.archive.org/web/20100106111913/http://doghouseboxing.com/DHB/Cann_041209.htm | archive-date=6 January 2010 | url-status=live | df=dmy-all }}</ref>\\n\\n===Commonwealth champion===\\nO'Donnell's shot at a first major title came on 11 April 2009.  In the opposite corner, the champion [[Craig Watson (boxer)|Craig Watson]], had himself claimed the title with a win over Namibian [[Ali Nuumbembe]] and made one defence against [[Matthew Hatton]], the brother of Ricky. It was a step up in class for O'Donnell and he signaled his entry into the top tier of domestic boxing with victory over Watson via a [[split decision]] in what was described as a close and scintillating contest.<ref name=\\\"Craig Watson v John O\\u2019Donnell\\\"/><ref>{{Cite web |url=http://news.bbc.co.uk/sport1/hi/boxing/7995482.stm |title=BBC Sport &#124; O'Donnell stuns Watson in a classic |access-date=12 April 2009 |archive-url=https://web.archive.org/web/20090412012350/http://news.bbc.co.uk/sport1/hi/boxing/7995482.stm |archive-date=12 April 2009 |url-status=live |df=dmy-all }}</ref>  O'Donnell had been due to make the first defence of his newly won title on 5 September 2009 but due to problems making the weight had to settle for a non-title contest over 12 rounds against Tom Glover.  The fight, shown live on [[ITV4]], was too much of a step-up for Glover who was stopped in the 6th round with O'Donnell having taken full control.<ref>[http://www.boxingscene.com/?m=show&id=22026 Boxing Scene | O'Donnell stops and overmatched Glover]</ref>  O'Donnell gave up the belt after coming under pressure from the Commonwealth council after a mandatory defence scheduled for 5 March 2010 against the Ghanaian boxer Philip Kotey fell through.<ref>[http://www.boxingnewsonline.net/BN08/detail.asp?id=1639 Boxing News | Mark Thompson and Thomas McDonagh handed title chances] {{webarchive|url=https://web.archive.org/web/20100616230637/http://www.boxingnewsonline.net/BN08/detail.asp?id=1639 |date=16 June 2010 }}</ref> On 7 May 2010 he stepped back into the ring to defeat Hungarian boxer Laszlo Balogh in the 5th round of an 8 round contest stating after the fight that he would like to meet [[Paul McCloskey]] in an all Irish contest for the European title.<ref>[http://www.boxingscene.com/?m=show&id=27595 Boxing Scene | O'Donnell stops Balogh]</ref>  On 10 September 2010 O'Donnell fought the American former Olympic bronze medal winner [[Terrance Cauthen]] in an international contest at the [[York Hall]].  Winning the fight over 12 rounds O'Donnell claimed that Cauthen was the best boxer he had ever faced and that the reason why he gave up his Commonwealth belt was ''\\\"because my team did not want that belt to hold me back, so I could go onto the next level\\\".''<ref>{{Cite web |url=http://www.hackneygazette.co.uk/sport/boxing/hackney_fighter_john_o_donnell_too_good_for_terrance_cauthen_1_648033 |title=Hackney Gazette &#124; Hackney fighter O'Donnell too good for Cauthen |access-date=24 September 2010 |archive-url=https://web.archive.org/web/20110716143933/http://www.hackneygazette.co.uk/sport/boxing/hackney_fighter_john_o_donnell_too_good_for_terrance_cauthen_1_648033 |archive-date=16 July 2011 |url-status=live |df=dmy-all }}</ref>\\n\\n===British title challenge===\\nOn 19 February 2011 O'Donnell met former victim [[Craig Watson (boxer)|Craig Watson]] at the Wembley Arena to challenge for the vacant British title only for Watson to gain revenge by winning over 12 rounds.<ref>[http://www.sportinglife.com/boxing/news/story_get.cgi?STORY_NAME=boxing/11/02/19/BOXING_Wembley.html&BID=543 Sporting Life | Watson gains revenge on O'Donnell] {{webarchive|url=https://web.archive.org/web/20110629173539/http://www.sportinglife.com/boxing/news/story_get.cgi?STORY_NAME=boxing%2F11%2F02%2F19%2FBOXING_Wembley.html&BID=543 |date=29 June 2011 }}</ref>\\n\\n==Professional record==\\n\\n{{s-start}}\\n|- style=\\\"margin:0.5em auto; font-size:95%;\\\"\\n|align=\\\"center\\\" colspan=8|'''32 Wins''' (11 knockouts, 21 decisions), '''2 Losses''' (1 knockout, 1 decision)'''\\n|- style=\\\"margin:0.5em auto; font-size:95%;\\\"\\n|align=center style=\\\"border-style: none none solid solid; background: #e3e3e3\\\"|'''Res.'''\\n|align=center style=\\\"border-style: none none solid solid; background: #e3e3e3\\\"|'''Record'''\\n|align=center style=\\\"border-style: none none solid solid; background: #e3e3e3\\\"|'''Opponent'''\\n|align=center style=\\\"border-style: none none solid solid; background: #e3e3e3\\\"|'''Type'''\\n|align=center style=\\\"border-style: none none solid solid; background: #e3e3e3\\\"|'''Rd., Time'''\\n|align=center style=\\\"border-style: none none solid solid; background: #e3e3e3\\\"|'''Date'''\\n|align=center style=\\\"border-style: none none solid solid; background: #e3e3e3\\\"|'''Location'''\\n|align=center style=\\\"border-style: none none solid solid; background: #e3e3e3\\\"|'''Notes'''\\n|-align=center\\n|-align=center\\n|{{yes2}}Win|| 32-2 ||align=left|{{flagicon|ENG}} [[Erick Ochieng]]\\n|{{small|SD}}|| {{small|10}} || {{small|2017-03-18}}  || align=left|{{flagicon|ENG}} {{small|[[York Hall]], [[Bethnal Green]], England}} \\n|align=left|{{small|Won vacant [[List of Commonwealth Boxing Council champions|Commonwealth]] English [[Welterweight]] title.}}\\n|-align=center\\n|-align=center\\n|{{yes2}}Win|| 31-2 ||align=left|{{flagicon|ENG}} Tommy Tear\\n|{{small|PTS}}|| {{small|10}} || {{small|2016-10-01}}  || align=left|{{flagicon|ENG}} {{small|[[York Hall]], [[Bethnal Green]], England}} \\n|align=left|{{small|Won vacant [[List of Commonwealth Boxing Council champions|Commonwealth]] Southern Area [[Welterweight]] title.}}\\n|-align=center\\n|{{yes2}}Win|| 30-2 ||align=left|{{flagicon|CZE}} Jan Balog\\n|{{small|PTS}}|| {{small|6}} || {{small|2015-12-05}}  || align=left|{{flagicon|ENG}} {{small|[[York Hall]], [[Bethnal Green]], England}} \\n|align=left|\\n|-align=center\\n|{{yes2}}Win|| 29-2 ||align=left|{{flagicon|Hungary}} Laszlo Fazekas\\n|{{small|PTS}}|| {{small|8}} || {{small|2015-05-02}}  || align=left|{{flagicon|Northern Ireland}} {{small|Lavey Centre, [[Derry]], Northern Ireland}} \\n|align=left|\\n|-align=center\\n|{{yes2}}Win|| 28-2 ||align=left|{{flagicon|ENG}} Jay Morris\\n|{{small|PTS}}|| {{small|4}} || {{small|2013-07-06}}  || align=left|{{flagicon|ENG}} {{small|[[York Hall]], [[Bethnal Green]], England}} \\n|align=left|\\n|-align=center\\n|{{yes2}}Win|| 27-2 ||align=left|{{flagicon|Northern Ireland}} [[Stephen Haughian]]\\n|{{small|PTS}}|| {{small|8}} || {{small|2012-12-01}}  || align=left|{{flagicon|Northern Ireland}} {{small|[[Odyssey Arena]], [[Belfast]], Northern Ireland}} \\n|align=left|\\n|-align=center\\n|{{yes2}}Win|| 26-2 ||align=left|{{flagicon|Dominican Republic}} Thomas Mendez\\n|{{small|UD}}|| {{small|8}} || {{small|2012-10-12}}  || align=left|{{flagicon|CAN}} {{small|[[Bell Centre]], [[Montreal, Quebec]], Canada}} \\n|align=left|\\n|-align=center\\n|{{yes2}}Win|| 25-2 ||align=left|{{flagicon|ENG}} Martin Welsh\\n|{{small|PTS}}|| {{small|8}} || {{small|2012-04-14}}  || align=left|{{flagicon|Northern Ireland}} {{small|[[Odyssey Arena]], [[Belfast]], Northern Ireland}} \\n|align=left|\\n|-align=center\\n|{{no2}}Loss|| 24-2 ||align=left|{{flagicon|ENG}} [[Craig Watson (boxer)|Craig Watson]]\\n|{{small|UD}}|| {{small|12}} || {{small|2011-02-19}}  || align=left|{{flagicon|ENG}} {{small|[[Wembley Arena]], [[Wembley]], England}} \\n|align=left|{{small|For vacant [[List of Commonwealth Boxing Council champions|Commonwealth]] British [[Welterweight]] title.}}\\n|-align=center\\n|{{yes2}}Win|| 24-1 ||align=left|{{flagicon|USA}} [[Terrance Cauthen]]\\n|{{small|PTS}}|| {{small|12}} || {{small|2010-09-10}}  || align=left|{{flagicon|ENG}} {{small|[[York Hall]], [[Bethnal Green]], England}} \\n|align=left|\\n|-align=center\\n|{{yes2}}Win|| 23-1 ||align=left|{{flagicon|Hungary}} Laszlo Robert Balogh\\n|{{small|TKO}}|| {{small|5 (8), 2:56}} || {{small|2010-05-07}}  || align=left|{{flagicon|ENG}} {{small|Kingsway Leisure Centre, [[Widnes]], England}} \\n|align=left|\\n|-align=center\\n|{{yes2}}Win|| 22-1 ||align=left|{{flagicon|ENG}} Tom Glover\\n|{{small|TKO}}|| {{small|6 (12), 2:43}} || {{small|2009-09-05}}  || align=left|{{flagicon|ENG}} {{small|Colosseum, [[Watford]], England}} \\n|align=left|\\n|-align=center\\n|{{yes2}}Win|| 21-1 ||align=left|{{flagicon|ENG}} [[Craig Watson (boxer)|Craig Watson]]\\n|{{small|SD}}|| {{small|12}} || {{small|2009-04-11}}  || align=left|{{flagicon|ENG}} {{small|[[York Hall]], [[Bethnal Green]], England}} \\n|align=left|{{small|Won [[List of Commonwealth Boxing Council champions|Commonwealth]] (British Empire) [[Welterweight]] title.}}\\n|-align=center\\n|{{yes2}}Win|| 20-1 ||align=left|{{flagicon|GER}} Suleyman Dag\\n|{{small|TKO}}|| {{small|3 (6), 1:03}} || {{small|2008-11-15}}  || align=left|{{flagicon|IRE}} {{small|Breaffy House Resort, [[Castlebar]], Ireland}} \\n|align=left|\\n|-align=center\\n|{{yes2}}Win|| 19-1 ||align=left|{{flagicon|Latvia}} Sergejs Sayrinovics\\n|{{small|RTD}}|| {{small|3 (8), 3:00}} || {{small|2008-10-04}}  || align=left|{{flagicon|ENG}} {{small|Norwich Showground, [[Norwich]], England}} \\n|align=left|\\n|-align=center\\n|{{yes2}}Win|| 18-1 ||align=left|{{flagicon|Latvia}} Sergejs Volodins\\n|{{small|TKO}}|| {{small|5 (6)}} || {{small|2008-07-19}}  || align=left|{{flagicon|IRE}} {{small|[[University of Limerick|University Arena]], [[Limerick]], Ireland}} \\n|align=left|\\n|-align=center\\n|{{yes2}}Win|| 17-1 ||align=left|{{flagicon|ENG}} Jay Morris\\n|{{small|TKO}}|| {{small|6 (6), 2:44}} || {{small|2008-06-27}}  || align=left|{{flagicon|ENG}} {{small|[[York Hall]], [[Bethnal Green]], England}} \\n|align=left|\\n|-align=center\\n|{{yes2}}Win|| 16-1 ||align=left|{{flagicon|ENG}} Billy Smith\\n|{{small|PTS}}|| {{small|4}} || {{small|2008-05-10}}  || align=left|{{flagicon|ENG}} {{small|[[Nottingham Arena]], [[Nottingham]], England}} \\n|align=left|\\n|-align=center\\n|{{no2}}Loss|| 15-1 ||align=left|{{flagicon|MEX}} Christian Solano\\n|{{small|TKO}}|| {{small|2 (8), 1:50}} || {{small|2007-05-05}}  || align=left|{{flagicon|USA}} {{small|[[MGM Grand Garden Arena]], [[Las Vegas, Nevada]], United States}} \\n|align=left|\\n|-align=center\\n|{{yes2}}Win|| 15-0 ||align=left|{{flagicon|ENG}} [[Stuart Elwell]]\\n|{{small|PTS}}|| {{small|10}} || {{small|2007-03-23}}  || align=left|{{flagicon|ENG}} {{small|[[Nottingham Arena]], [[Nottingham]], England}} \\n|align=left|{{small|Won vacant [[British Boxing Board of Control|BBBofC]] English [[Welterweight]] title.}}\\n|-align=center\\n|{{yes2}}Win|| 14-0 ||align=left|{{flagicon|ENG}} Ernie Smith\\n|{{small|KO}}|| {{small|2 (8), 2:20}} || {{small|2006-12-08}}  || align=left|{{flagicon|ENG}} {{small|Goresbrook Leisure Centre, [[Dagenham]], England}} \\n|align=left|\\n|-align=center\\n|{{yes2}}Win|| 13-0 ||align=left|{{flagicon|NIG}} Silence Saheed\\n|{{small|PTS}}|| {{small|6}} || {{small|2006-09-15}}  || align=left|{{flagicon|ENG}} {{small|[[Alexandra Palace]], [[Wood Green]], England}} \\n|align=left|\\n|-align=center\\n|{{yes2}}Win|| 12-0 ||align=left|{{flagicon|ENG}} Darren Gethin\\n|{{small|PTS}}|| {{small|8}} || {{small|2006-07-12}}  || align=left|{{flagicon|ENG}} {{small|[[York Hall]], [[Bethnal Green]], England}} \\n|align=left|\\n|-align=center\\n|{{yes2}}Win|| 11-0 ||align=left|{{flagicon|ENG}} Duncan Cottier\\n|{{small|RTD}}|| {{small|3 (8)}} || {{small|2006-05-12}}  || align=left|{{flagicon|ENG}} {{small|[[York Hall]], [[Bethnal Green]], England}} \\n|align=left|\\n|-align=center\\n|{{yes2}}Win|| 10-0 ||align=left|{{flagicon|ENG}} Karl Taylor\\n|{{small|PTS}}|| {{small|4}} || {{small|2006-02-17}}  || align=left|{{flagicon|ENG}} {{small|[[York Hall]], [[Bethnal Green]], England}} \\n|align=left|\\n|-align=center\\n|{{yes2}}Win|| 9-0 ||align=left|{{flagicon|BEL}} Zaid Bediouri \\n|{{small|PTS}}|| {{small|6}} || {{small|2006-01-28}}  || align=left|{{flagicon|IRE}} {{small|[[National Stadium (Ireland)|National Boxing Stadium]], [[Dublin]], Ireland}} \\n|align=left|\\n|-align=center\\n|{{yes2}}Win|| 8-0 ||align=left|{{flagicon|ENG}} Matt Scriven \\n|{{small|TKO}}|| {{small|4 (6), 0:51}} || {{small|2006-01-20}}  || align=left|{{flagicon|ENG}} {{small|[[York Hall]], [[Bethnal Green]], England}} \\n|align=left|\\n|-align=center\\n|{{yes2}}Win|| 7-0 ||align=left|{{flagicon|ENG}} Ben Hudson\\n|{{small|PTS}}|| {{small|4}} || {{small|2005-10-21}}  || align=left|{{flagicon|ENG}} {{small|[[York Hall]], [[Bethnal Green]], England}} \\n|align=left|\\n|-align=center\\n|{{yes2}}Win|| 6-0 ||align=left|{{flagicon|ENG}} Ben Hudson\\n|{{small|TKO}}|| {{small|3 (6)}} || {{small|2005-07-09}}  || align=left|{{flagicon|ENG}} {{small|[[Nottingham Arena]], [[Nottingham]], England}} \\n|align=left|\\n|-align=center\\n|{{yes2}}Win|| 5-0 ||align=left|{{flagicon|ENG}} Duncan Cottier\\n|{{small|PTS}}|| {{small|4}} || {{small|2005-04-10}}  || align=left|{{flagicon|ENG}} {{small|Brentwood Centre, [[Brentwood, Essex]], England}} \\n|align=left|\\n|-align=center\\n|{{yes2}}Win|| 4-0 ||align=left|{{flagicon|ENG}} Ernie Smith\\n|{{small|PTS}}|| {{small|6}} || {{small|2004-11-12}}  || align=left|{{flagicon|ENG}} {{small|Conference Centre, [[Wembley]], England}} \\n|align=left|\\n|-align=center\\n|{{yes2}}Win|| 3-0 ||align=left|{{flagicon|ENG}} Chris Long\\n|{{small|TKO}}|| {{small|4 (6), 0:44}} || {{small|2004-09-24}}  || align=left|{{flagicon|ENG}} {{small|[[Nottingham Arena]], [[Nottingham]], England}} \\n|align=left|\\n|-align=center\\n|{{yes2}}Win|| 2-0 ||align=left|{{flagicon|ENG}} Dave Hinds\\n|{{small|PTS}}|| {{small|4}} || {{small|2004-06-12}}  || align=left|{{flagicon|ENG}} {{small|[[Nottingham Arena]], [[Nottingham]], England}} \\n|align=left|\\n|-align=center\\n|{{yes2}}Win|| 1-0 ||align=left|{{flagicon|ENG}} Jason Nesbitt\\n|{{small|PTS}}|| {{small|4}} || {{small|2004-04-16}}  || align=left|{{flagicon|ENG}} {{small|[[O2 Academy Leeds|Town and Country Club]], [[Leeds]], England}} \\n|align=left|\\n{{s-end}}\\n\\n==References==\\n{{reflist|35em}}\\n\\n==External links==\\n*{{Boxrec|id=249023}}\\n\\n{{s-start}} \\n{{succession box| \\n before=[[Craig Watson (boxer)|Craig Watson]]|\\n title=[[List of Commonwealth Boxing Council Champions#Welterweight|Commonwealth Welterweight Champion]]|\\n years= 11 April 2009 \\u2013 16 April 2010| \\n after= [[Denton Vassell]]| \\n }} \\n{{s-end}}\\n\\n{{DEFAULTSORT:Odonnell, John}}\\n[[Category:1985 births]]\\n[[Category:20th-century Irish people]]\\n[[Category:21st-century Irish people]]\\n[[Category:Living people]]\\n[[Category:People from County Galway]]\\n[[Category:English male boxers]]\\n[[Category:Sportspeople from County Galway]]\\n[[Category:Irish male boxers]]\\n\", \"name_user\": \"NICHOLAS NEEDLEHAM\", \"label\": \"safe\", \"comment\": \"linkmandatory defenceusingFind link\", \"url_page\": \"//en.wikipedia.org/wiki/John_O%27Donnell_(boxer)\"}\n",
      "\n"
     ]
    },
    {
     "name": "stdout",
     "output_type": "stream",
     "text": [
      "-------------------------------------------\n",
      "Time: 2020-03-28 16:37:50\n",
      "-------------------------------------------\n",
      "\n",
      "-------------------------------------------\n",
      "Time: 2020-03-28 16:38:00\n",
      "-------------------------------------------\n",
      "\n"
     ]
    }
   ],
   "source": [
    "ssc_t.stop()"
   ]
  },
  {
   "cell_type": "code",
   "execution_count": null,
   "metadata": {},
   "outputs": [],
   "source": []
  }
 ],
 "metadata": {
  "kernelspec": {
   "display_name": "Python 3",
   "language": "python",
   "name": "python3"
  },
  "language_info": {
   "codemirror_mode": {
    "name": "ipython",
    "version": 3
   },
   "file_extension": ".py",
   "mimetype": "text/x-python",
   "name": "python",
   "nbconvert_exporter": "python",
   "pygments_lexer": "ipython3",
   "version": "3.7.3"
  },
  "toc": {
   "base_numbering": 1,
   "nav_menu": {},
   "number_sections": true,
   "sideBar": true,
   "skip_h1_title": false,
   "title_cell": "Table of Contents",
   "title_sidebar": "Contents",
   "toc_cell": false,
   "toc_position": {},
   "toc_section_display": true,
   "toc_window_display": false
  },
  "varInspector": {
   "cols": {
    "lenName": 16,
    "lenType": 16,
    "lenVar": 40
   },
   "kernels_config": {
    "python": {
     "delete_cmd_postfix": "",
     "delete_cmd_prefix": "del ",
     "library": "var_list.py",
     "varRefreshCmd": "print(var_dic_list())"
    },
    "r": {
     "delete_cmd_postfix": ") ",
     "delete_cmd_prefix": "rm(",
     "library": "var_list.r",
     "varRefreshCmd": "cat(var_dic_list()) "
    }
   },
   "types_to_exclude": [
    "module",
    "function",
    "builtin_function_or_method",
    "instance",
    "_Feature"
   ],
   "window_display": false
  }
 },
 "nbformat": 4,
 "nbformat_minor": 2
}
