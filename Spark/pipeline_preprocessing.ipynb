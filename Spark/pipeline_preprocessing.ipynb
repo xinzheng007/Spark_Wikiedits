{
 "cells": [
  {
   "cell_type": "code",
   "execution_count": 1,
   "metadata": {
    "ExecuteTime": {
     "end_time": "2020-05-03T14:47:31.237313Z",
     "start_time": "2020-05-03T14:47:29.620382Z"
    }
   },
   "outputs": [],
   "source": [
    "# data manipulation\n",
    "from difflib import unified_diff\n",
    "import difflib\n",
    "\n",
    "# visualize\n",
    "import matplotlib.pyplot as plt\n",
    "\n",
    "# pyspark\n",
    "from pyspark.sql import Row\n",
    "from pyspark.sql.functions import udf, struct, array, col, lit, regexp_replace, lower\n",
    "from pyspark.sql.types import StringType\n",
    "from pyspark.ml.feature import Tokenizer, StopWordsRemover\n",
    "from pyspark.sql.functions import col\n",
    "from pyspark.sql.functions import monotonically_increasing_id\n",
    "from pyspark.sql.types import IntegerType, StringType\n",
    "from pyspark.sql import types"
   ]
  },
  {
   "cell_type": "code",
   "execution_count": 2,
   "metadata": {
    "ExecuteTime": {
     "end_time": "2020-05-03T14:47:37.110340Z",
     "start_time": "2020-05-03T14:47:37.104356Z"
    }
   },
   "outputs": [],
   "source": [
    "def get_df(path):\n",
    "    df = spark.read.json(path)\n",
    "    return df"
   ]
  },
  {
   "cell_type": "code",
   "execution_count": 3,
   "metadata": {},
   "outputs": [],
   "source": [
    "def get_count(df):\n",
    "    # frequency table\n",
    "    df.groupBy('label').count().orderBy(col('count').desc()).show()\n",
    "    df.createOrReplaceTempView(\"wikiedits\")\n",
    "    label_df = spark.sql(\"SELECT label, count(*) FROM wikiedits GROUP BY label\")\n",
    "    return label_df"
   ]
  },
  {
   "cell_type": "code",
   "execution_count": 4,
   "metadata": {
    "ExecuteTime": {
     "end_time": "2020-05-03T14:47:40.730434Z",
     "start_time": "2020-05-03T14:47:40.691539Z"
    }
   },
   "outputs": [],
   "source": [
    "def make_diff(old, new):\n",
    "    return '\\n'.join([\n",
    "        l for l in unified_diff(old.split('\\n'), new.split('\\n'))\n",
    "        if l.startswith('+') or l.startswith('-')\n",
    "    ])"
   ]
  },
  {
   "cell_type": "code",
   "execution_count": 5,
   "metadata": {},
   "outputs": [],
   "source": [
    "def get_final_df(df):\n",
    "    # making a diff between text_old and text_new\n",
    "    diff = make_diff(df.first().text_old, df.first().text_new)\n",
    "    df = df.withColumn(\"diff\", lit(diff))\n",
    "    # drop useless features\n",
    "    drop_list = ['comment', 'name_user', 'title_page', 'url_page',\"text_old\", \"text_new\"]\n",
    "    df = df.select([column for column in df.columns if column not in drop_list])\n",
    "    #replace empty string  with 'null' \n",
    "    from pyspark.sql.functions import col, when\n",
    "    df = df.withColumn(\"diff\", when(col('diff') != ' ', col('diff')).otherwise(None))\n",
    "    # remove missing values\n",
    "    df = df.na.drop(subset = 'diff')\n",
    "    return df"
   ]
  },
  {
   "cell_type": "code",
   "execution_count": 7,
   "metadata": {
    "ExecuteTime": {
     "end_time": "2020-05-03T14:48:11.693210Z",
     "start_time": "2020-05-03T14:47:56.998705Z"
    }
   },
   "outputs": [],
   "source": [
    "# Get the data as spark dataframe\n",
    "df = get_df(path='/Users/zhengxin/Desktop/spark/final/data/*')"
   ]
  },
  {
   "cell_type": "code",
   "execution_count": 8,
   "metadata": {
    "ExecuteTime": {
     "end_time": "2020-05-03T14:48:27.445331Z",
     "start_time": "2020-05-03T14:48:16.592896Z"
    }
   },
   "outputs": [
    {
     "name": "stdout",
     "output_type": "stream",
     "text": [
      "+------+-----+\n",
      "| label|count|\n",
      "+------+-----+\n",
      "|  safe| 6708|\n",
      "|unsafe| 1435|\n",
      "|vandal|  111|\n",
      "+------+-----+\n",
      "\n"
     ]
    },
    {
     "data": {
      "text/plain": [
       "<Figure size 576x288 with 0 Axes>"
      ]
     },
     "metadata": {},
     "output_type": "display_data"
    },
    {
     "data": {
      "image/png": "[encoded data removed]",
      "text/plain": [
       "<Figure size 432x288 with 1 Axes>"
      ]
     },
     "metadata": {
      "needs_background": "light"
     },
     "output_type": "display_data"
    }
   ],
   "source": [
    "class_dist = get_count(df)\n",
    "\n",
    "plt.figure(figsize=(8,4))\n",
    "ax = class_dist.select(\"*\").toPandas().plot.bar(x='label', y='count(1)', rot=0, legend=False)\n",
    "ax.set_xlabel(\"Classes\")\n",
    "ax.set_ylabel(\"Count\")\n",
    "\n",
    "# save figure\n",
    "plt.savefig('/Users/zhengxin/Desktop/spark/final/fig1.png', dpi=500)"
   ]
  },
  {
   "cell_type": "code",
   "execution_count": 9,
   "metadata": {
    "ExecuteTime": {
     "end_time": "2020-05-03T14:48:41.516732Z",
     "start_time": "2020-05-03T14:48:32.579660Z"
    },
    "scrolled": true
   },
   "outputs": [],
   "source": [
    "# Get final dataframe\n",
    "df = get_final_df(df)\n",
    "# df.show()"
   ]
  },
  {
   "cell_type": "code",
   "execution_count": 27,
   "metadata": {
    "ExecuteTime": {
     "end_time": "2020-05-03T13:59:01.704255Z",
     "start_time": "2020-05-03T13:59:01.699275Z"
    }
   },
   "outputs": [
    {
     "data": {
      "text/plain": [
       "901"
      ]
     },
     "execution_count": 27,
     "metadata": {},
     "output_type": "execute_result"
    }
   ],
   "source": [
    "# check if input and output is the same before and after saving\n",
    "# df.count()"
   ]
  },
  {
   "cell_type": "code",
   "execution_count": 28,
   "metadata": {
    "ExecuteTime": {
     "end_time": "2020-05-03T14:49:53.500099Z",
     "start_time": "2020-05-03T14:49:00.374920Z"
    }
   },
   "outputs": [],
   "source": [
    "# save\n",
    "# df.write.mode(\"overwrite\").save('/Users/zhengxin/Desktop/spark/final/output/data')"
   ]
  },
  {
   "cell_type": "code",
   "execution_count": 29,
   "metadata": {
    "ExecuteTime": {
     "end_time": "2020-05-03T13:59:01.721210Z",
     "start_time": "2020-05-03T13:59:01.716223Z"
    }
   },
   "outputs": [],
   "source": [
    "# read in data\n",
    "# read_df = spark.read.parquet('/Users/zhengxin/Desktop/spark/final/output/data')"
   ]
  },
  {
   "cell_type": "code",
   "execution_count": 30,
   "metadata": {
    "ExecuteTime": {
     "end_time": "2020-05-03T13:59:01.728223Z",
     "start_time": "2020-05-03T13:59:01.723206Z"
    }
   },
   "outputs": [
    {
     "data": {
      "text/plain": [
       "901"
      ]
     },
     "execution_count": 30,
     "metadata": {},
     "output_type": "execute_result"
    }
   ],
   "source": [
    "# check if input and output is the same before and after saving\n",
    "# read_df.count()"
   ]
  }
 ],
 "metadata": {
  "kernelspec": {
   "display_name": "Python 3",
   "language": "python",
   "name": "python3"
  },
  "language_info": {
   "codemirror_mode": {
    "name": "ipython",
    "version": 3
   },
   "file_extension": ".py",
   "mimetype": "text/x-python",
   "name": "python",
   "nbconvert_exporter": "python",
   "pygments_lexer": "ipython3",
   "version": "3.7.6"
  },
  "toc": {
   "base_numbering": 1,
   "nav_menu": {},
   "number_sections": true,
   "sideBar": true,
   "skip_h1_title": false,
   "title_cell": "Table of Contents",
   "title_sidebar": "Contents",
   "toc_cell": false,
   "toc_position": {},
   "toc_section_display": true,
   "toc_window_display": true
  },
  "varInspector": {
   "cols": {
    "lenName": 16,
    "lenType": 16,
    "lenVar": 40
   },
   "kernels_config": {
    "python": {
     "delete_cmd_postfix": "",
     "delete_cmd_prefix": "del ",
     "library": "var_list.py",
     "varRefreshCmd": "print(var_dic_list())"
    },
    "r": {
     "delete_cmd_postfix": ") ",
     "delete_cmd_prefix": "rm(",
     "library": "var_list.r",
     "varRefreshCmd": "cat(var_dic_list()) "
    }
   },
   "types_to_exclude": [
    "module",
    "function",
    "builtin_function_or_method",
    "instance",
    "_Feature"
   ],
   "window_display": false
  }
 },
 "nbformat": 4,
 "nbformat_minor": 4
}
