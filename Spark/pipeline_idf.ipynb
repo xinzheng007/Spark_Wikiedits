{
 "cells": [
  {
   "cell_type": "markdown",
   "metadata": {
    "ExecuteTime": {
     "end_time": "2020-05-09T14:21:17.947576Z",
     "start_time": "2020-05-09T14:21:16.470734Z"
    }
   },
   "source": [
    "# TF—IDF features"
   ]
  },
  {
   "cell_type": "code",
   "execution_count": 3,
   "metadata": {},
   "outputs": [],
   "source": [
    "import matplotlib.pyplot as plt\n",
    "import pandas as pd\n",
    "import numpy as np\n",
    "import itertools\n",
    "import matplotlib.pyplot as plt\n",
    "\n",
    "from pyspark.ml.feature import RegexTokenizer, StopWordsRemover, CountVectorizer\n",
    "from pyspark.ml.classification import LogisticRegression\n",
    "from pyspark.ml.feature import IndexToString\n",
    "from pyspark.sql.functions import lit\n",
    "from pyspark.ml import Pipeline\n",
    "from pyspark.ml.feature import OneHotEncoder, StringIndexer, VectorAssembler\n",
    "\n",
    "from pyspark.ml.evaluation import MulticlassClassificationEvaluator\n",
    "from pyspark.mllib.evaluation import BinaryClassificationMetrics as metric\n",
    "from sklearn.metrics import confusion_matrix\n",
    "\n",
    "import nltk\n",
    "from nltk.corpus import stopwords "
   ]
  },
  {
   "cell_type": "code",
   "execution_count": 4,
   "metadata": {},
   "outputs": [],
   "source": [
    "def plot_confusion_matrix(cm, classes,\n",
    "                          normalize=False,\n",
    "                          title='Confusion matrix',\n",
    "                          cmap=plt.cm.Blues,\n",
    "                          y_title=1.10):\n",
    "    \"\"\"\n",
    "    This function prints and plots the confusion matrix.\n",
    "    Normalization can be applied by setting `normalize=True`.\n",
    "    \"\"\"\n",
    "    if normalize:\n",
    "        cm = cm.astype('float') / cm.sum(axis=1)[:, np.newaxis]\n",
    "        print(\"Normalized confusion matrix\")\n",
    "    else:\n",
    "        print('Confusion matrix, without normalization')\n",
    "\n",
    "    print(pd.DataFrame(cm, columns=classes, index=classes))\n",
    "\n",
    "    plt.imshow(cm, interpolation='nearest', cmap=cmap)\n",
    "    plt.title(title, y=y_title)\n",
    "    plt.colorbar()\n",
    "    tick_marks = np.arange(len(classes))\n",
    "    plt.xticks(tick_marks, classes, rotation=45)\n",
    "    #plt.yticks(tick_marks, classes, rotation=45)\n",
    "\n",
    "    fmt = '.2f' if normalize else 'd'\n",
    "    thresh = cm.max() / 2.\n",
    "    for i, j in itertools.product(range(cm.shape[0]), range(cm.shape[1])):\n",
    "        plt.text(j, i, format(cm[i, j], fmt),\n",
    "                 horizontalalignment=\"center\",\n",
    "                 color=\"white\" if cm[i, j] > thresh else \"black\")\n",
    "        \n",
    "   \n",
    "    plt.tight_layout()\n",
    "    plt.ylabel('True label')\n",
    "    plt.xlabel('Predicted label')"
   ]
  },
  {
   "cell_type": "code",
   "execution_count": 5,
   "metadata": {
    "ExecuteTime": {
     "end_time": "2020-05-09T14:21:22.221322Z",
     "start_time": "2020-05-09T14:21:17.988461Z"
    }
   },
   "outputs": [
    {
     "name": "stdout",
     "output_type": "stream",
     "text": [
      "+------+--------------------+\n",
      "| label|                diff|\n",
      "+------+--------------------+\n",
      "|  safe|{{short descripti...|\n",
      "|  safe|{{short descripti...|\n",
      "|unsafe|{{short descripti...|\n",
      "|  safe|{{short descripti...|\n",
      "|  safe|{{short descripti...|\n",
      "|unsafe|{{short descripti...|\n",
      "|unsafe|{{short descripti...|\n",
      "|unsafe|{{short descripti...|\n",
      "|  safe|{{short descripti...|\n",
      "|  safe|{{short descripti...|\n",
      "|  safe|{{short descripti...|\n",
      "|  safe|{{short descripti...|\n",
      "|  safe|{{short descripti...|\n",
      "|vandal|{{short descripti...|\n",
      "|  safe|{{short descripti...|\n",
      "|  safe|{{short descripti...|\n",
      "|  safe|{{short descripti...|\n",
      "|  safe|{{short descripti...|\n",
      "|  safe|{{short descripti...|\n",
      "|  safe|{{short descripti...|\n",
      "+------+--------------------+\n",
      "only showing top 20 rows\n",
      "\n"
     ]
    }
   ],
   "source": [
    "# read df\n",
    "df = spark.read.parquet('/Users/zhengxin/Desktop/spark/final/output/data')\n",
    "df.show()"
   ]
  },
  {
   "cell_type": "code",
   "execution_count": 6,
   "metadata": {
    "ExecuteTime": {
     "end_time": "2020-05-09T14:21:48.069600Z",
     "start_time": "2020-05-09T14:21:47.841603Z"
    }
   },
   "outputs": [
    {
     "name": "stdout",
     "output_type": "stream",
     "text": [
      "train Data Count:737\n",
      "test data count:164\n"
     ]
    }
   ],
   "source": [
    "# split data into train and test data\n",
    "(train, test) = df.randomSplit([0.8,0.2], seed = 775346)\n",
    "print('train Data Count:' + str(train.count()))\n",
    "print('test data count:' + str(test.count()))"
   ]
  },
  {
   "cell_type": "code",
   "execution_count": 7,
   "metadata": {
    "ExecuteTime": {
     "end_time": "2020-05-09T14:21:55.744667Z",
     "start_time": "2020-05-09T14:21:48.072593Z"
    },
    "scrolled": true
   },
   "outputs": [
    {
     "name": "stdout",
     "output_type": "stream",
     "text": [
      "+------+-----+\n",
      "| label|count|\n",
      "+------+-----+\n",
      "|  safe|  439|\n",
      "|unsafe|  211|\n",
      "|vandal|   87|\n",
      "+------+-----+\n",
      "\n"
     ]
    }
   ],
   "source": [
    "train.groupBy(\"label\").count().show()"
   ]
  },
  {
   "cell_type": "code",
   "execution_count": 8,
   "metadata": {
    "ExecuteTime": {
     "end_time": "2020-05-09T14:23:03.642684Z",
     "start_time": "2020-05-09T14:22:30.238711Z"
    }
   },
   "outputs": [
    {
     "name": "stdout",
     "output_type": "stream",
     "text": [
      "+------+-----+\n",
      "| label|count|\n",
      "+------+-----+\n",
      "|  safe|   96|\n",
      "|unsafe|   44|\n",
      "|vandal|   24|\n",
      "+------+-----+\n",
      "\n"
     ]
    }
   ],
   "source": [
    "test.groupBy(\"label\").count().show()"
   ]
  },
  {
   "cell_type": "code",
   "execution_count": 9,
   "metadata": {},
   "outputs": [],
   "source": [
    "## feature transformer: \n",
    "# tokenizer (split sentences into words)\n",
    "regexTokenizer = RegexTokenizer(inputCol = 'diff', outputCol = 'words', pattern = '\\\\W')   "
   ]
  },
  {
   "cell_type": "code",
   "execution_count": 10,
   "metadata": {},
   "outputs": [
    {
     "name": "stdout",
     "output_type": "stream",
     "text": [
      "en_CN\n",
      "['Builder', 'CANADA', 'CANADA_FRENCH', 'CHINA', 'CHINESE', 'Category', 'ENGLISH', 'FRANCE', 'FRENCH', 'FilteringMode', 'GERMAN', 'GERMANY', 'ITALIAN', 'ITALY', 'JAPAN', 'JAPANESE', 'KOREA', 'KOREAN', 'LanguageRange', 'PRC', 'PRIVATE_USE_EXTENSION', 'ROOT', 'SIMPLIFIED_CHINESE', 'TAIWAN', 'TRADITIONAL_CHINESE', 'UK', 'UNICODE_LOCALE_EXTENSION', 'US', 'filter', 'filterTags', 'forLanguageTag', 'getAvailableLocales', 'getDefault', 'getISOCountries', 'getISOLanguages', 'lookup', 'lookupTag', 'setDefault']\n",
      "en_US\n"
     ]
    }
   ],
   "source": [
    "locale = sc._jvm.java.util.Locale\n",
    "print(locale.getDefault()) ##en_CN\n",
    "locale.setDefault(locale.forLanguageTag(\"en-US\"))\n",
    "print(dir(locale))\n",
    "locale.setDefault(locale.forLanguageTag(\"en-US\"))\n",
    "print(locale.getDefault()) #en_US"
   ]
  },
  {
   "cell_type": "code",
   "execution_count": 11,
   "metadata": {},
   "outputs": [
    {
     "name": "stderr",
     "output_type": "stream",
     "text": [
      "[nltk_data] Downloading package stopwords to\n",
      "[nltk_data]     /Users/zhengxin/nltk_data...\n",
      "[nltk_data]   Package stopwords is already up-to-date!\n"
     ]
    }
   ],
   "source": [
    "# remove the stop words\n",
    "import nltk\n",
    "nltk.download('stopwords')\n",
    "stopwordList = nltk.corpus.stopwords.words('english')\n",
    "stopwordsRemover = StopWordsRemover(inputCol=\"words\", outputCol=\"filtered\", stopWords = stopwordList)"
   ]
  },
  {
   "cell_type": "code",
   "execution_count": 12,
   "metadata": {},
   "outputs": [],
   "source": [
    "# count bag of words\n",
    "countVectors = CountVectorizer(inputCol=\"filtered\", outputCol=\"features\", vocabSize=20000, minDF=0)"
   ]
  },
  {
   "cell_type": "code",
   "execution_count": 13,
   "metadata": {},
   "outputs": [],
   "source": [
    "# encoding dependent feature 'label'\n",
    "label_stringIdx = StringIndexer(inputCol=\"label\", outputCol=\"labelIndex\")\n",
    "labels_stars = label_stringIdx.fit(train).labels\n",
    "indexed = label_stringIdx.fit(df).transform(df)"
   ]
  },
  {
   "cell_type": "code",
   "execution_count": 14,
   "metadata": {},
   "outputs": [],
   "source": [
    "# TF-IDF features\n",
    "from pyspark.ml.feature import HashingTF, IDF\n",
    "hashingTF = HashingTF(inputCol=\"filtered\", outputCol=\"rawFeatures\")\n",
    "idf = IDF(inputCol=\"rawFeatures\", outputCol=\"features\", minDocFreq = 5)"
   ]
  },
  {
   "cell_type": "code",
   "execution_count": 15,
   "metadata": {
    "ExecuteTime": {
     "end_time": "2020-05-09T14:23:04.305711Z",
     "start_time": "2020-05-09T14:23:04.207752Z"
    }
   },
   "outputs": [],
   "source": [
    "# create a pipeline\n",
    "pipeline_tfidf = Pipeline(stages=[regexTokenizer, stopwordsRemover, hashingTF , idf, label_stringIdx])"
   ]
  },
  {
   "cell_type": "code",
   "execution_count": 16,
   "metadata": {
    "scrolled": true
   },
   "outputs": [
    {
     "name": "stdout",
     "output_type": "stream",
     "text": [
      "+-----+--------------------+--------------------+--------------------+--------------------+--------------------+----------+\n",
      "|label|                diff|               words|            filtered|         rawFeatures|            features|labelIndex|\n",
      "+-----+--------------------+--------------------+--------------------+--------------------+--------------------+----------+\n",
      "| safe|{{short descripti...|[short, descripti...|[short, descripti...|(262144,[42,97,17...|(262144,[42,97,17...|       0.0|\n",
      "| safe|{{short descripti...|[short, descripti...|[short, descripti...|(262144,[42,97,17...|(262144,[42,97,17...|       0.0|\n",
      "| safe|{{short descripti...|[short, descripti...|[short, descripti...|(262144,[42,97,17...|(262144,[42,97,17...|       0.0|\n",
      "| safe|{{short descripti...|[short, descripti...|[short, descripti...|(262144,[42,97,17...|(262144,[42,97,17...|       0.0|\n",
      "| safe|{{short descripti...|[short, descripti...|[short, descripti...|(262144,[42,97,17...|(262144,[42,97,17...|       0.0|\n",
      "+-----+--------------------+--------------------+--------------------+--------------------+--------------------+----------+\n",
      "only showing top 5 rows\n",
      "\n"
     ]
    }
   ],
   "source": [
    "# appply pipeline to train and test data\n",
    "pipelineFit_tfidf = pipeline_tfidf.fit(train)\n",
    "train_pipe_tfidf = pipelineFit_tfidf.transform(train)\n",
    "train_pipe_tfidf.show(5)"
   ]
  },
  {
   "cell_type": "code",
   "execution_count": 21,
   "metadata": {},
   "outputs": [
    {
     "name": "stdout",
     "output_type": "stream",
     "text": [
      "{0: 'safe', 1: 'unsafe', 2: 'vandal'}\n"
     ]
    }
   ],
   "source": [
    "label_str = list(train_pipe.select(\"label\").toPandas()['label'].unique())\n",
    "label_num = [0,1,2]\n",
    "map_num_2_str = dictionary = dict(zip(label_num, label_str))\n",
    "print(map_num_2_str)"
   ]
  },
  {
   "cell_type": "markdown",
   "metadata": {},
   "source": [
    "### logistic regression"
   ]
  },
  {
   "cell_type": "code",
   "execution_count": 22,
   "metadata": {},
   "outputs": [],
   "source": [
    "# fit a model \n",
    "lr = LogisticRegression(featuresCol = 'features', labelCol = 'labelIndex', maxIter = 10, regParam = 0, elasticNetParam=0)"
   ]
  },
  {
   "cell_type": "code",
   "execution_count": 23,
   "metadata": {},
   "outputs": [],
   "source": [
    "lrModel = lr.fit(train_pipe_tfidf)"
   ]
  },
  {
   "cell_type": "markdown",
   "metadata": {},
   "source": [
    "### Evaluation on test data"
   ]
  },
  {
   "cell_type": "code",
   "execution_count": 24,
   "metadata": {
    "ExecuteTime": {
     "end_time": "2020-05-09T14:39:33.216990Z",
     "start_time": "2020-05-09T14:38:16.795929Z"
    }
   },
   "outputs": [],
   "source": [
    "test_pipe_tfidf = pipelineFit_tfidf.transform(test)"
   ]
  },
  {
   "cell_type": "code",
   "execution_count": 25,
   "metadata": {
    "ExecuteTime": {
     "end_time": "2020-05-09T14:40:15.755604Z",
     "start_time": "2020-05-09T14:39:33.219982Z"
    },
    "scrolled": true
   },
   "outputs": [
    {
     "name": "stdout",
     "output_type": "stream",
     "text": [
      "+----------+------+--------------------+----------+\n",
      "|labelIndex| label|         probability|prediction|\n",
      "+----------+------+--------------------+----------+\n",
      "|       0.0|  safe|[0.59158735589655...|       0.0|\n",
      "|       0.0|  safe|[0.59158735589655...|       0.0|\n",
      "|       0.0|  safe|[0.59158735589655...|       0.0|\n",
      "|       0.0|  safe|[0.59158735589655...|       0.0|\n",
      "|       0.0|  safe|[0.59158735589655...|       0.0|\n",
      "|       0.0|  safe|[0.59158735589655...|       0.0|\n",
      "|       0.0|  safe|[0.59158735589655...|       0.0|\n",
      "|       0.0|  safe|[0.59158735589655...|       0.0|\n",
      "|       0.0|  safe|[0.59158735589655...|       0.0|\n",
      "|       0.0|  safe|[0.59158735589655...|       0.0|\n",
      "|       0.0|  safe|[0.59158735589655...|       0.0|\n",
      "|       0.0|  safe|[0.59158735589655...|       0.0|\n",
      "|       0.0|  safe|[0.59158735589655...|       0.0|\n",
      "|       0.0|  safe|[0.59158735589655...|       0.0|\n",
      "|       1.0|unsafe|[0.59158735589655...|       0.0|\n",
      "|       1.0|unsafe|[0.59158735589655...|       0.0|\n",
      "|       1.0|unsafe|[0.59158735589655...|       0.0|\n",
      "|       1.0|unsafe|[0.59158735589655...|       0.0|\n",
      "|       1.0|unsafe|[0.59158735589655...|       0.0|\n",
      "|       2.0|vandal|[0.59158735589655...|       0.0|\n",
      "+----------+------+--------------------+----------+\n",
      "only showing top 20 rows\n",
      "\n"
     ]
    },
    {
     "data": {
      "text/plain": [
       "DataFrame[label: string, diff: string, words: array<string>, filtered: array<string>, rawFeatures: vector, features: vector, labelIndex: double, rawPrediction: vector, probability: vector, prediction: double]"
      ]
     },
     "execution_count": 25,
     "metadata": {},
     "output_type": "execute_result"
    }
   ],
   "source": [
    "# predict with test_pipe data\n",
    "pred_test = lrModel.transform(test_pipe_tfidf)\n",
    "pred_test.select(\"labelIndex\",\"label\", \"probability\", \"prediction\").show()\n",
    "pred_test"
   ]
  },
  {
   "cell_type": "markdown",
   "metadata": {},
   "source": [
    "## A) Confusion Matrix"
   ]
  },
  {
   "cell_type": "code",
   "execution_count": 26,
   "metadata": {
    "ExecuteTime": {
     "end_time": "2020-05-09T14:41:10.915084Z",
     "start_time": "2020-05-09T14:40:15.758595Z"
    },
    "scrolled": false
   },
   "outputs": [
    {
     "data": {
      "text/html": [
       "<div>\n",
       "<style scoped>\n",
       "    .dataframe tbody tr th:only-of-type {\n",
       "        vertical-align: middle;\n",
       "    }\n",
       "\n",
       "    .dataframe tbody tr th {\n",
       "        vertical-align: top;\n",
       "    }\n",
       "\n",
       "    .dataframe thead th {\n",
       "        text-align: right;\n",
       "    }\n",
       "</style>\n",
       "<table border=\"1\" class=\"dataframe\">\n",
       "  <thead>\n",
       "    <tr style=\"text-align: right;\">\n",
       "      <th></th>\n",
       "      <th>unsafe</th>\n",
       "      <th>safe</th>\n",
       "      <th>vandal</th>\n",
       "    </tr>\n",
       "  </thead>\n",
       "  <tbody>\n",
       "    <tr>\n",
       "      <th>unsafe</th>\n",
       "      <td>0</td>\n",
       "      <td>42</td>\n",
       "      <td>0</td>\n",
       "    </tr>\n",
       "    <tr>\n",
       "      <th>safe</th>\n",
       "      <td>0</td>\n",
       "      <td>99</td>\n",
       "      <td>0</td>\n",
       "    </tr>\n",
       "    <tr>\n",
       "      <th>vandal</th>\n",
       "      <td>0</td>\n",
       "      <td>23</td>\n",
       "      <td>0</td>\n",
       "    </tr>\n",
       "  </tbody>\n",
       "</table>\n",
       "</div>"
      ],
      "text/plain": [
       "        unsafe  safe  vandal\n",
       "unsafe       0    42       0\n",
       "safe         0    99       0\n",
       "vandal       0    23       0"
      ]
     },
     "execution_count": 26,
     "metadata": {},
     "output_type": "execute_result"
    }
   ],
   "source": [
    "class_names = ['unsafe','safe', 'vandal']\n",
    "y_true_test = pred_test.select(\"label\").toPandas()\n",
    "y_pred_test = pred_test.select(\"prediction\").toPandas()\n",
    "y_pred_test = y_pred_test['prediction'].map(map_num_2_str, na_action='ignore')\n",
    "\n",
    "# make confusion matrix\n",
    "cnf_matrix_test = confusion_matrix(y_true=y_true_test, y_pred=y_pred_test, labels=class_names)\n",
    "pd.DataFrame(cnf_matrix_test, columns=class_names, index=class_names)"
   ]
  },
  {
   "cell_type": "code",
   "execution_count": 27,
   "metadata": {
    "ExecuteTime": {
     "end_time": "2020-05-09T14:41:11.246198Z",
     "start_time": "2020-05-09T14:41:10.919075Z"
    },
    "scrolled": false
   },
   "outputs": [
    {
     "name": "stdout",
     "output_type": "stream",
     "text": [
      "Confusion matrix, without normalization\n",
      "        unsafe  safe  vandal\n",
      "unsafe       0    42       0\n",
      "safe         0    99       0\n",
      "vandal       0    23       0\n"
     ]
    },
    {
     "data": {
      "image/png": "[encoded data removed]",
      "text/plain": [
       "<Figure size 432x288 with 2 Axes>"
      ]
     },
     "metadata": {
      "needs_background": "light"
     },
     "output_type": "display_data"
    }
   ],
   "source": [
    "# Plot non-normalized confusion matrix\n",
    "plt.figure()\n",
    "plot_confusion_matrix(cnf_matrix_test, classes=class_names, normalize=False,\n",
    "                      title='Confusion matrix, without normalization')\n",
    "\n",
    "# I need to fix this manually, we should fix this in the future (this look bit clumpsy)\n",
    "plt.yticks([2.5,2,1.5,1,0.5,0,-.5], [\"\",label_str[2],\"\",label_str[1],\"\",label_str[0]]);"
   ]
  },
  {
   "cell_type": "code",
   "execution_count": 28,
   "metadata": {
    "ExecuteTime": {
     "end_time": "2020-05-09T14:42:31.932778Z",
     "start_time": "2020-05-09T14:41:11.249191Z"
    }
   },
   "outputs": [
    {
     "name": "stdout",
     "output_type": "stream",
     "text": [
      "Accuracy: 0.6037\n",
      "F1 score: 0.4545\n"
     ]
    }
   ],
   "source": [
    "# Accuaracy and F1\n",
    "evaluator_acc = MulticlassClassificationEvaluator(\n",
    "    predictionCol=\"prediction\", labelCol='labelIndex', metricName=\"accuracy\")\n",
    "evaluator_f1 = MulticlassClassificationEvaluator(\n",
    "    predictionCol=\"prediction\", labelCol='labelIndex', metricName=\"f1\")\n",
    "print(f\"Accuracy: {round(evaluator_acc.evaluate(pred_test), 4)}\")\n",
    "print(f\"F1 score: {round(evaluator_f1.evaluate(pred_test), 4)}\")"
   ]
  },
  {
   "cell_type": "code",
   "execution_count": 29,
   "metadata": {
    "ExecuteTime": {
     "end_time": "2020-05-09T14:43:02.424247Z",
     "start_time": "2020-05-09T14:42:31.980651Z"
    },
    "scrolled": false
   },
   "outputs": [
    {
     "name": "stdout",
     "output_type": "stream",
     "text": [
      "Area under ROC score is :  0.5\n"
     ]
    }
   ],
   "source": [
    "# AUC\n",
    "results = pred_test.select(['probability', 'labelIndex'])\n",
    "# prepare score-label set\n",
    "results_collect = results.collect()\n",
    "results_list = [(float(i[0][0]), 1.0-float(i[1])) for i in results_collect]\n",
    "scoreAndLabels = sc.parallelize(results_list)\n",
    "\n",
    "metrics = metric(scoreAndLabels)\n",
    "print(\"Area under ROC score is : \", round(metrics.areaUnderROC,4))"
   ]
  },
  {
   "cell_type": "markdown",
   "metadata": {},
   "source": [
    "## B) Crossvalidation"
   ]
  },
  {
   "cell_type": "code",
   "execution_count": 30,
   "metadata": {},
   "outputs": [],
   "source": [
    "# crossvalidation\n",
    "from pyspark.ml.tuning import ParamGridBuilder, CrossValidator"
   ]
  },
  {
   "cell_type": "code",
   "execution_count": 31,
   "metadata": {},
   "outputs": [],
   "source": [
    "# Create ParamGrid for Cross Validation\n",
    "paramGrid = (ParamGridBuilder()\n",
    "             .addGrid(lr.regParam, [0.1, 0.3, 0.5]) # regularization parameter\n",
    "             .addGrid(lr.elasticNetParam, [0.0, 0.1, 0.2]) # Elastic Net Parameter (Ridge = 0)\n",
    "             .build())"
   ]
  },
  {
   "cell_type": "code",
   "execution_count": 32,
   "metadata": {},
   "outputs": [],
   "source": [
    "# Create 5-fold CrossValidator\n",
    "cv = CrossValidator(estimator=lr, \n",
    "                    estimatorParamMaps=paramGrid, \n",
    "                    evaluator=evaluator_acc, \n",
    "                    numFolds=5)"
   ]
  },
  {
   "cell_type": "code",
   "execution_count": 33,
   "metadata": {},
   "outputs": [],
   "source": [
    "cvModel = cv.fit(train_pipe_tfidf)  # be careful, takes very long time"
   ]
  },
  {
   "cell_type": "code",
   "execution_count": 34,
   "metadata": {},
   "outputs": [
    {
     "data": {
      "text/plain": [
       "DataFrame[label: string, diff: string, words: array<string>, filtered: array<string>, rawFeatures: vector, features: vector, labelIndex: double, rawPrediction: vector, probability: vector, prediction: double]"
      ]
     },
     "execution_count": 34,
     "metadata": {},
     "output_type": "execute_result"
    }
   ],
   "source": [
    "# predict with test_pipe data\n",
    "predictions = cvModel.transform(test_pipe_tfidf)\n",
    "predictions"
   ]
  },
  {
   "cell_type": "code",
   "execution_count": 35,
   "metadata": {},
   "outputs": [
    {
     "name": "stdout",
     "output_type": "stream",
     "text": [
      "Test set accuracy = 0.6036585365853658\n",
      "Test set F1 score = 0.45446536214411576\n"
     ]
    }
   ],
   "source": [
    "# evaluate best model---accuracy\n",
    "accuracy = evaluator_acc.evaluate(predictions)\n",
    "print(\"Test set accuracy = \" + str(accuracy))\n",
    "\n",
    "# F1 score\n",
    "F1 = evaluator_f1.evaluate(predictions)\n",
    "print(\"Test set F1 score = \" + str(F1))"
   ]
  },
  {
   "cell_type": "markdown",
   "metadata": {},
   "source": [
    "### Naive Bayes"
   ]
  },
  {
   "cell_type": "code",
   "execution_count": 36,
   "metadata": {},
   "outputs": [],
   "source": [
    "from pyspark.ml.classification import NaiveBayes\n",
    "\n",
    "nb = NaiveBayes(smoothing=1, modelType=\"multinomial\", featuresCol = 'features', labelCol = 'labelIndex' )"
   ]
  },
  {
   "cell_type": "code",
   "execution_count": 37,
   "metadata": {},
   "outputs": [],
   "source": [
    "# train model with train_pipe data \n",
    "model = nb.fit(train_pipe_tfidf)"
   ]
  },
  {
   "cell_type": "code",
   "execution_count": 38,
   "metadata": {},
   "outputs": [
    {
     "data": {
      "text/plain": [
       "DataFrame[label: string, diff: string, words: array<string>, filtered: array<string>, rawFeatures: vector, features: vector, labelIndex: double, rawPrediction: vector, probability: vector, prediction: double]"
      ]
     },
     "execution_count": 38,
     "metadata": {},
     "output_type": "execute_result"
    }
   ],
   "source": [
    "# make predictions\n",
    "pred_test = model.transform(test_pipe_tfidf)\n",
    "pred_test"
   ]
  },
  {
   "cell_type": "code",
   "execution_count": 39,
   "metadata": {},
   "outputs": [
    {
     "data": {
      "text/html": [
       "<div>\n",
       "<style scoped>\n",
       "    .dataframe tbody tr th:only-of-type {\n",
       "        vertical-align: middle;\n",
       "    }\n",
       "\n",
       "    .dataframe tbody tr th {\n",
       "        vertical-align: top;\n",
       "    }\n",
       "\n",
       "    .dataframe thead th {\n",
       "        text-align: right;\n",
       "    }\n",
       "</style>\n",
       "<table border=\"1\" class=\"dataframe\">\n",
       "  <thead>\n",
       "    <tr style=\"text-align: right;\">\n",
       "      <th></th>\n",
       "      <th>unsafe</th>\n",
       "      <th>safe</th>\n",
       "      <th>vandal</th>\n",
       "    </tr>\n",
       "  </thead>\n",
       "  <tbody>\n",
       "    <tr>\n",
       "      <th>unsafe</th>\n",
       "      <td>0</td>\n",
       "      <td>42</td>\n",
       "      <td>0</td>\n",
       "    </tr>\n",
       "    <tr>\n",
       "      <th>safe</th>\n",
       "      <td>0</td>\n",
       "      <td>99</td>\n",
       "      <td>0</td>\n",
       "    </tr>\n",
       "    <tr>\n",
       "      <th>vandal</th>\n",
       "      <td>0</td>\n",
       "      <td>23</td>\n",
       "      <td>0</td>\n",
       "    </tr>\n",
       "  </tbody>\n",
       "</table>\n",
       "</div>"
      ],
      "text/plain": [
       "        unsafe  safe  vandal\n",
       "unsafe       0    42       0\n",
       "safe         0    99       0\n",
       "vandal       0    23       0"
      ]
     },
     "execution_count": 39,
     "metadata": {},
     "output_type": "execute_result"
    }
   ],
   "source": [
    "class_names = ['unsafe','safe', 'vandal']\n",
    "y_true_test = pred_test.select(\"label\").toPandas()\n",
    "y_pred_test = pred_test.select(\"prediction\").toPandas()\n",
    "y_pred_test = y_pred_test['prediction'].map(map_num_2_str, na_action='ignore')\n",
    "\n",
    "# make confusion matrix\n",
    "cnf_matrix_test = confusion_matrix(y_true=y_true_test, y_pred=y_pred_test, labels=class_names)\n",
    "pd.DataFrame(cnf_matrix_test, columns=class_names, index=class_names)"
   ]
  },
  {
   "cell_type": "code",
   "execution_count": 40,
   "metadata": {},
   "outputs": [
    {
     "name": "stdout",
     "output_type": "stream",
     "text": [
      "Confusion matrix, without normalization\n",
      "        unsafe  safe  vandal\n",
      "unsafe       0    42       0\n",
      "safe         0    99       0\n",
      "vandal       0    23       0\n"
     ]
    },
    {
     "data": {
      "image/png": "[encoded data removed]",
      "text/plain": [
       "<Figure size 432x288 with 2 Axes>"
      ]
     },
     "metadata": {
      "needs_background": "light"
     },
     "output_type": "display_data"
    }
   ],
   "source": [
    "# Plot non-normalized confusion matrix\n",
    "plt.figure()\n",
    "plot_confusion_matrix(cnf_matrix_test, classes=class_names, normalize=False,\n",
    "                      title='Confusion matrix, without normalization')\n",
    "\n",
    "# I need to fix this manually, we should fix this in the future (this look bit clumpsy)\n",
    "plt.yticks([2.5,2,1.5,1,0.5,0,-.5], [\"\",label_str[2],\"\",label_str[1],\"\",label_str[0]]);"
   ]
  },
  {
   "cell_type": "code",
   "execution_count": 41,
   "metadata": {},
   "outputs": [
    {
     "name": "stdout",
     "output_type": "stream",
     "text": [
      "Accuracy: 0.6037\n",
      "F1 score: 0.4545\n"
     ]
    }
   ],
   "source": [
    "# Accuaracy and F1\n",
    "print(f\"Accuracy: {round(evaluator_acc.evaluate(pred_test), 4)}\")\n",
    "print(f\"F1 score: {round(evaluator_f1.evaluate(pred_test), 4)}\")"
   ]
  },
  {
   "cell_type": "code",
   "execution_count": 60,
   "metadata": {},
   "outputs": [
    {
     "name": "stdout",
     "output_type": "stream",
     "text": [
      "Area under ROC score is :  0.5\n"
     ]
    }
   ],
   "source": [
    "# AUC\n",
    "results = pred_test.select(['probability', 'labelIndex'])\n",
    "# prepare score-label set\n",
    "results_collect = results.collect()\n",
    "results_list = [(float(i[0][0]), 1.0-float(i[1])) for i in results_collect]\n",
    "scoreAndLabels = sc.parallelize(results_list)\n",
    "\n",
    "metrics = metric(scoreAndLabels)\n",
    "print(\"Area under ROC score is : \", round(metrics.areaUnderROC,4))"
   ]
  },
  {
   "cell_type": "markdown",
   "metadata": {},
   "source": [
    "### Random Forrest"
   ]
  },
  {
   "cell_type": "code",
   "execution_count": 42,
   "metadata": {},
   "outputs": [],
   "source": [
    "from pyspark.ml.classification import RandomForestClassifier\n",
    "\n",
    "rf = RandomForestClassifier(labelCol=\"labelIndex\", \\\n",
    "                            featuresCol=\"features\", \\\n",
    "                            numTrees = 100, \\\n",
    "                            maxDepth = 4, \\\n",
    "                            maxBins = 32)"
   ]
  },
  {
   "cell_type": "code",
   "execution_count": 43,
   "metadata": {},
   "outputs": [],
   "source": [
    "# Train model with Train_pipe Data\n",
    "rfModel = rf.fit(train_pipe_tfidf)"
   ]
  },
  {
   "cell_type": "code",
   "execution_count": 44,
   "metadata": {},
   "outputs": [],
   "source": [
    "# Create ParamGrid for Cross Validation\n",
    "paramGrid = (ParamGridBuilder()\n",
    "             .addGrid(rf.numTrees, [100, 200, 500]) \n",
    "             .addGrid(rf.maxDepth, [4, 10, 20])\n",
    "             .build())"
   ]
  },
  {
   "cell_type": "code",
   "execution_count": 45,
   "metadata": {},
   "outputs": [],
   "source": [
    "#  Create 5-fold CrossValidator\n",
    "cv = CrossValidator(estimator=rf, \n",
    "                    estimatorParamMaps=paramGrid, \n",
    "                    evaluator=evaluator_acc, \n",
    "                    numFolds=5)"
   ]
  },
  {
   "cell_type": "code",
   "execution_count": 46,
   "metadata": {},
   "outputs": [],
   "source": [
    "# Cross_validation train\n",
    "cvmodel = cv.fit(train_pipe)  # be careful, takes very long time"
   ]
  },
  {
   "cell_type": "code",
   "execution_count": 47,
   "metadata": {},
   "outputs": [
    {
     "name": "stdout",
     "output_type": "stream",
     "text": [
      "Test set accuracy = 0.6036585365853658\n",
      "Test set F1 score = 0.45446536214411576\n"
     ]
    }
   ],
   "source": [
    "# predict with test_pipe data\n",
    "predictions = cvModel.transform(test_pipe_tfidf)\n",
    "predictions\n",
    "\n",
    "# evaluate best model---accuracy\n",
    "accuracy = evaluator_acc.evaluate(predictions)\n",
    "print(\"Test set accuracy = \" + str(accuracy))\n",
    "\n",
    "# F1 score\n",
    "F1 = evaluator_f1.evaluate(predictions)\n",
    "print(\"Test set F1 score = \" + str(F1))"
   ]
  }
 ],
 "metadata": {
  "kernelspec": {
   "display_name": "Python 3",
   "language": "python",
   "name": "python3"
  },
  "language_info": {
   "codemirror_mode": {
    "name": "ipython",
    "version": 3
   },
   "file_extension": ".py",
   "mimetype": "text/x-python",
   "name": "python",
   "nbconvert_exporter": "python",
   "pygments_lexer": "ipython3",
   "version": "3.7.6"
  },
  "toc": {
   "base_numbering": 1,
   "nav_menu": {},
   "number_sections": true,
   "sideBar": true,
   "skip_h1_title": false,
   "title_cell": "Table of Contents",
   "title_sidebar": "Contents",
   "toc_cell": false,
   "toc_position": {
    "height": "calc(100% - 180px)",
    "left": "10px",
    "top": "150px",
    "width": "165px"
   },
   "toc_section_display": true,
   "toc_window_display": true
  },
  "varInspector": {
   "cols": {
    "lenName": 16,
    "lenType": 16,
    "lenVar": 40
   },
   "kernels_config": {
    "python": {
     "delete_cmd_postfix": "",
     "delete_cmd_prefix": "del ",
     "library": "var_list.py",
     "varRefreshCmd": "print(var_dic_list())"
    },
    "r": {
     "delete_cmd_postfix": ") ",
     "delete_cmd_prefix": "rm(",
     "library": "var_list.r",
     "varRefreshCmd": "cat(var_dic_list()) "
    }
   },
   "types_to_exclude": [
    "module",
    "function",
    "builtin_function_or_method",
    "instance",
    "_Feature"
   ],
   "window_display": false
  }
 },
 "nbformat": 4,
 "nbformat_minor": 4
}
